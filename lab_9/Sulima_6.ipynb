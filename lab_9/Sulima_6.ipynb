{
 "cells": [
  {
   "cell_type": "code",
   "execution_count": null,
   "metadata": {
    "id": "347Mub5mJ1m1"
   },
   "outputs": [],
   "source": [
    "import numpy as np\n",
    "import matplotlib.pyplot as plt\n",
    "from typing import List, Tuple\n",
    "import os"
   ]
  },
  {
   "cell_type": "code",
   "execution_count": null,
   "outputs": [],
   "source": [
    "def create_folder_if_not_exists(folder_path):\n",
    "    if not os.path.exists(folder_path):\n",
    "        os.makedirs(folder_path)\n",
    "        print(f\"Folder {folder_path} created successfully.\")\n",
    "    else:\n",
    "        print(f\"Folder {folder_path} already exists.\")\n",
    "\n",
    "\n",
    "create_folder_if_not_exists(\"plots\")\n",
    "create_folder_if_not_exists(\"errors\")"
   ],
   "metadata": {
    "collapsed": false
   }
  },
  {
   "cell_type": "code",
   "execution_count": 30,
   "outputs": [
    {
     "data": {
      "text/plain": "array([[1.        , 1.        , 1.        , 1.        , 1.        ],\n       [1.        , 1.        , 1.        , 1.        , 1.        ],\n       [0.33333333, 0.25      , 0.2       , 0.16666667, 0.14285714],\n       [0.25      , 0.2       , 0.16666667, 0.14285714, 0.125     ],\n       [0.2       , 0.16666667, 0.14285714, 0.125     , 0.11111111]])"
     },
     "execution_count": 30,
     "metadata": {},
     "output_type": "execute_result"
    }
   ],
   "source": [
    "def get_A1(n, variable_type):\n",
    "    A_ = np.zeros((n, n), dtype=variable_type)\n",
    "    N = np.zeros(n, dtype=variable_type)\n",
    "    for i in range(n):\n",
    "        tmp = variable_type(i)\n",
    "        N[i] = tmp\n",
    "    for i in N:\n",
    "        for j in N:\n",
    "            index_i = int(i)\n",
    "            index_j = int(j)\n",
    "            if i - variable_type(1) < 0.001:\n",
    "                A_[index_i][index_j] = variable_type(1)\n",
    "            else:\n",
    "                one = variable_type(1)\n",
    "                A_[index_i][index_j] = one / ((i + one) + (j + one) - one)\n",
    "    return A_\n",
    "\n",
    "\n",
    "get_A1(5, np.float64)\n"
   ],
   "metadata": {
    "collapsed": false,
    "ExecuteTime": {
     "end_time": "2023-05-22T18:09:16.438695300Z",
     "start_time": "2023-05-22T18:09:16.426768200Z"
    }
   }
  },
  {
   "cell_type": "code",
   "execution_count": 33,
   "outputs": [
    {
     "data": {
      "text/plain": "array([[2.        , 1.        , 0.66666667, 0.5       , 0.4       ],\n       [1.        , 2.        , 1.33333333, 1.        , 0.8       ],\n       [0.66666667, 1.33333333, 2.        , 1.5       , 1.2       ],\n       [0.5       , 1.        , 1.5       , 2.        , 1.6       ],\n       [0.4       , 0.8       , 1.2       , 1.6       , 2.        ]])"
     },
     "execution_count": 33,
     "metadata": {},
     "output_type": "execute_result"
    }
   ],
   "source": [
    "def get_A2(n, variable_type):\n",
    "    A_ = np.zeros((n, n), dtype=variable_type)\n",
    "    N = np.zeros(n, dtype=variable_type)\n",
    "    one = variable_type(1)\n",
    "    two = variable_type(2)\n",
    "    for i in range(n):\n",
    "        tmp = variable_type(i)\n",
    "        N[i] = tmp\n",
    "    for i in N:\n",
    "        for j in N:\n",
    "            index_i = int(i)\n",
    "            index_j = int(j)\n",
    "            if j >= i:\n",
    "                A_[index_i][index_j] = (two * (i + one)) / (j + one)\n",
    "            else:\n",
    "                A_[index_i][index_j] = (two * (j + one)) / (i + one)\n",
    "    return A_\n",
    "get_A2(5, np.float64)"
   ],
   "metadata": {
    "collapsed": false,
    "ExecuteTime": {
     "end_time": "2023-05-22T18:12:47.696192600Z",
     "start_time": "2023-05-22T18:12:47.674989500Z"
    }
   }
  },
  {
   "cell_type": "code",
   "execution_count": null,
   "outputs": [],
   "source": [
    "def get_random_sign():\n",
    "    return np.random.choice([-1, 1])\n",
    "\n",
    "\n",
    "def get_x(n, variable_type):\n",
    "    x_ = np.zeros(n, dtype=variable_type)\n",
    "    for i in range(n):\n",
    "        x_[i] = variable_type(variable_type(get_random_sign()))\n",
    "    return x_"
   ],
   "metadata": {
    "collapsed": false
   }
  },
  {
   "cell_type": "code",
   "execution_count": null,
   "outputs": [],
   "source": [
    "import csv\n",
    "\n",
    "\n",
    "def save_to_csv(filename, data):\n",
    "    filename = \"errors/\" + filename + \".csv\"\n",
    "    with open(filename, 'w', newline='') as file:\n",
    "        writer = csv.writer(file)\n",
    "        writer.writerows(data)"
   ],
   "metadata": {
    "collapsed": false
   }
  },
  {
   "cell_type": "code",
   "execution_count": null,
   "outputs": [],
   "source": [
    "def get_b(A, x, n, variable_type):\n",
    "    b = np.zeros(n, dtype=variable_type)\n",
    "    for i in range(n):\n",
    "        for j in range(n):\n",
    "            b[i] += A[i][j] * x[j]\n",
    "        print()\n",
    "    return b"
   ],
   "metadata": {
    "collapsed": false
   }
  },
  {
   "cell_type": "code",
   "execution_count": null,
   "outputs": [],
   "source": [
    "#write a function which is given a matrix A and a vector b and returns the solution vector x\n",
    "def gauss(A, b, variable_type):\n",
    "    n = len(A)\n",
    "    x = np.zeros(n, dtype=variable_type)\n",
    "    for i in range(n):\n",
    "        for j in range(i + 1, n):\n",
    "            if A[i][i] == variable_type(0):\n",
    "                print(\"Division by 0\")\n",
    "                return\n",
    "            m = A[j][i] / A[i][i]\n",
    "            for k in range(i, n):\n",
    "                A[j][k] -= m * A[i][k]\n",
    "            b[j] -= m * b[i]\n",
    "    for i in range(n - 1, -1, -1):\n",
    "        if A[i][i] == variable_type(0):\n",
    "            print(\"Division by 0\")\n",
    "            return\n",
    "        x[i] = b[i] / A[i][i]\n",
    "        for j in range(i - 1, -1, -1):\n",
    "            b[j] -= A[j][i] * x[i]\n",
    "    return x"
   ],
   "metadata": {
    "collapsed": false
   }
  },
  {
   "cell_type": "markdown",
   "source": [
    "**Wykonanie*"
   ],
   "metadata": {
    "collapsed": false
   }
  },
  {
   "cell_type": "code",
   "execution_count": null,
   "outputs": [],
   "source": [],
   "metadata": {
    "collapsed": false
   }
  }
 ],
 "metadata": {
  "colab": {
   "provenance": []
  },
  "kernelspec": {
   "display_name": "Python 3 (ipykernel)",
   "language": "python",
   "name": "python3"
  },
  "language_info": {
   "codemirror_mode": {
    "name": "ipython",
    "version": 3
   },
   "file_extension": ".py",
   "mimetype": "text/x-python",
   "name": "python",
   "nbconvert_exporter": "python",
   "pygments_lexer": "ipython3",
   "version": "3.10.9"
  }
 },
 "nbformat": 4,
 "nbformat_minor": 1
}
