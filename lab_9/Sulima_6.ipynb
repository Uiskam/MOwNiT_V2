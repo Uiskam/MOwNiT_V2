{
 "cells": [
  {
   "cell_type": "code",
   "execution_count": 1,
   "metadata": {
    "id": "347Mub5mJ1m1",
    "ExecuteTime": {
     "end_time": "2023-05-17T13:25:12.307172700Z",
     "start_time": "2023-05-17T13:25:10.975558100Z"
    }
   },
   "outputs": [],
   "source": [
    "import numpy as np\n",
    "import matplotlib.pyplot as plt\n",
    "import os"
   ]
  },
  {
   "cell_type": "code",
   "execution_count": 3,
   "outputs": [
    {
     "name": "stdout",
     "output_type": "stream",
     "text": [
      "Folder plots already exists.\n",
      "Folder errors already exists.\n"
     ]
    }
   ],
   "source": [
    "def create_folder_if_not_exists(folder_path):\n",
    "    if not os.path.exists(folder_path):\n",
    "        os.makedirs(folder_path)\n",
    "        print(f\"Folder {folder_path} created successfully.\")\n",
    "    else:\n",
    "        print(f\"Folder {folder_path} already exists.\")\n",
    "\n",
    "\n",
    "create_folder_if_not_exists(\"plots\")\n",
    "create_folder_if_not_exists(\"errors\")\n",
    "\n",
    "\n",
    "def get_A1(n, variable_type):\n",
    "    A_ = np.zeros((n, n), dtype=variable_type)\n",
    "    N = np.zeros(n, dtype=variable_type)\n",
    "    for i in range(n):\n",
    "        tmp = variable_type(i)\n",
    "        N[i] = tmp\n",
    "    for i in N:\n",
    "        for j in N:\n",
    "            if i - variable_type(1) < 0.001:\n",
    "                A_[i][j] = variable_type(1)\n",
    "            else:\n",
    "                one = variable_type(1)\n",
    "                A_[i][j] = one / (i + j - one)\n",
    "    return A_\n",
    "\n",
    "\n",
    "def get_A2(n, variable_type):\n",
    "    A_ = np.zeros((n, n), dtype=variable_type)\n",
    "    N = np.zeros(n, dtype=variable_type)\n",
    "    one = variable_type(1)\n",
    "    two = variable_type(2)\n",
    "    for i in range(n):\n",
    "        tmp = variable_type(i)\n",
    "        N[i] = tmp\n",
    "    for i in N:\n",
    "        for j in N:\n",
    "            if j >= i:\n",
    "                A_[i][j] = (two * i) / j\n",
    "            else:\n",
    "                A_[i][j] = (two * j) / i\n",
    "    return A_\n",
    "\n",
    "\n",
    "def get_random_sign():\n",
    "    return np.random.choice([-1, 1])\n",
    "\n",
    "\n",
    "def get_x(n, variable_type):\n",
    "    x_ = np.zeros(n, dtype=variable_type)\n",
    "    for i in range(n):\n",
    "        x_[i] = variable_type(variable_type(get_random_sign()))\n",
    "    return x_"
   ],
   "metadata": {
    "collapsed": false,
    "ExecuteTime": {
     "end_time": "2023-05-17T13:40:57.055295800Z",
     "start_time": "2023-05-17T13:40:56.996269300Z"
    }
   }
  },
  {
   "cell_type": "code",
   "execution_count": null,
   "outputs": [],
   "source": [
    "import csv\n",
    "\n",
    "\n",
    "def save_to_csv(filename, data):\n",
    "    filename = \"errors/\" + filename + \".csv\"\n",
    "    with open(filename, 'w', newline='') as file:\n",
    "        writer = csv.writer(file)\n",
    "        writer.writerows(data)\n",
    "\n",
    "\n",
    "ros = np.array([1e-2, 1e-4, 1e-6, 1e-8, 1e-10, 1e-12], dtype=np.float64)"
   ],
   "metadata": {
    "collapsed": false
   }
  }
 ],
 "metadata": {
  "colab": {
   "provenance": []
  },
  "kernelspec": {
   "display_name": "Python 3 (ipykernel)",
   "language": "python",
   "name": "python3"
  },
  "language_info": {
   "codemirror_mode": {
    "name": "ipython",
    "version": 3
   },
   "file_extension": ".py",
   "mimetype": "text/x-python",
   "name": "python",
   "nbconvert_exporter": "python",
   "pygments_lexer": "ipython3",
   "version": "3.10.9"
  }
 },
 "nbformat": 4,
 "nbformat_minor": 1
}
