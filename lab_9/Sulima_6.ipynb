{
 "cells": [
  {
   "cell_type": "code",
   "execution_count": null,
   "metadata": {
    "id": "347Mub5mJ1m1"
   },
   "outputs": [],
   "source": [
    "import numpy as np\n",
    "import matplotlib.pyplot as plt\n",
    "from typing import List, Tuple\n",
    "import os\n"
   ]
  },
  {
   "cell_type": "code",
   "execution_count": null,
   "outputs": [],
   "source": [
    "np.float32 is np.single"
   ],
   "metadata": {
    "collapsed": false
   }
  },
  {
   "cell_type": "code",
   "execution_count": null,
   "outputs": [],
   "source": [
    "def create_folder_if_not_exists(folder_path):\n",
    "    if not os.path.exists(folder_path):\n",
    "        os.makedirs(folder_path)\n",
    "        print(f\"Folder {folder_path} created successfully.\")\n",
    "    else:\n",
    "        print(f\"Folder {folder_path} already exists.\")\n",
    "\n",
    "\n",
    "create_folder_if_not_exists(\"plots\")\n",
    "create_folder_if_not_exists(\"errors\")\n",
    "create_folder_if_not_exists(\"files\")"
   ],
   "metadata": {
    "collapsed": false
   }
  },
  {
   "cell_type": "code",
   "execution_count": null,
   "outputs": [],
   "source": [
    "def get_A1(n, variable_type):\n",
    "    A_ = np.zeros((n, n), dtype=variable_type)\n",
    "    N = np.zeros(n, dtype=variable_type)\n",
    "    for i in range(n):\n",
    "        tmp = variable_type(i)\n",
    "        N[i] = tmp\n",
    "    for i in N:\n",
    "        for j in N:\n",
    "            index_i = int(i)\n",
    "            index_j = int(j)\n",
    "            if index_i == 0:\n",
    "                A_[index_i][index_j] = variable_type(1)\n",
    "            else:\n",
    "                one = variable_type(1)\n",
    "                A_[index_i][index_j] = one / ((i + one) + (j + one) - one)\n",
    "    return A_\n",
    "\n",
    "\n",
    "get_A1(3, np.float64)\n"
   ],
   "metadata": {
    "collapsed": false
   }
  },
  {
   "cell_type": "code",
   "execution_count": null,
   "outputs": [],
   "source": [
    "def get_A2(n, variable_type):\n",
    "    A_ = np.zeros((n, n), dtype=variable_type)\n",
    "    N = np.zeros(n, dtype=variable_type)\n",
    "    one = variable_type(1)\n",
    "    two = variable_type(2)\n",
    "    for i in range(n):\n",
    "        tmp = variable_type(i)\n",
    "        N[i] = tmp\n",
    "    for i in N:\n",
    "        for j in N:\n",
    "            index_i = int(i)\n",
    "            index_j = int(j)\n",
    "            if j >= i:\n",
    "                A_[index_i][index_j] = (two * (i + one)) / (j + one)\n",
    "            else:\n",
    "                A_[index_i][index_j] = (two * (j + one)) / (i + one)\n",
    "    return A_\n",
    "\n",
    "\n",
    "get_A2(3, np.float64)"
   ],
   "metadata": {
    "collapsed": false
   }
  },
  {
   "cell_type": "code",
   "execution_count": null,
   "outputs": [],
   "source": [
    "def get_random_sign():\n",
    "    return np.random.choice([-1, 1])\n",
    "\n",
    "\n",
    "def get_x(n, variable_type):\n",
    "    x_ = np.zeros(n, dtype=variable_type)\n",
    "    for i in range(n):\n",
    "        x_[i] = variable_type(variable_type(get_random_sign()))\n",
    "    return x_\n",
    "\n",
    "\n",
    "def get_error(correct, actual):\n",
    "    if len(correct) != len(actual):\n",
    "        print(\"Error: vectors have different lengths\")\n",
    "        return\n",
    "    error = -np.inf\n",
    "    for i in range(len(correct)):\n",
    "        tmp = np.abs(correct[i] - actual[i])\n",
    "        if tmp > error:\n",
    "            error = tmp\n",
    "    return error"
   ],
   "metadata": {
    "collapsed": false
   }
  },
  {
   "cell_type": "code",
   "execution_count": null,
   "outputs": [],
   "source": [
    "import csv\n",
    "\n",
    "\n",
    "def save_to_csv(filename, data):\n",
    "    filename = \"files/\" + filename + \".csv\"\n",
    "    with open(filename, 'w', newline='') as file:\n",
    "        writer = csv.writer(file)\n",
    "        writer.writerows(data)\n",
    "\n",
    "\n",
    "def read_from_csv(filename, variable_type):\n",
    "    filename = \"files/\" + filename + \".csv\"\n",
    "    with open(filename, newline='') as file:\n",
    "        reader = csv.reader(file)\n",
    "        data = list(reader)\n",
    "        for arr in range(len(data)):\n",
    "            data[arr] = np.array(data[arr], dtype=variable_type)\n",
    "    return data\n",
    "\n",
    "\n",
    "def generate_data():\n",
    "    sizes = [i for i in range(3, 20 + 1)]\n",
    "    sizes.append(50)\n",
    "    sizes.append(100)\n",
    "    sizes.append(200)\n",
    "    xes = []\n",
    "    for size in sizes:\n",
    "        xes.append(get_x(size, np.float64))\n",
    "    return save_to_csv(\"xes\", xes)"
   ],
   "metadata": {
    "collapsed": false
   }
  },
  {
   "cell_type": "code",
   "execution_count": null,
   "outputs": [],
   "source": [
    "def get_b(A, x, n, variable_type):\n",
    "    b = np.zeros(n, dtype=variable_type)\n",
    "    for i in range(n):\n",
    "        for j in range(n):\n",
    "            b[i] += A[i][j] * x[j]\n",
    "        print()\n",
    "    return b"
   ],
   "metadata": {
    "collapsed": false
   }
  },
  {
   "cell_type": "code",
   "execution_count": null,
   "outputs": [],
   "source": [
    "def thomas(A, b, variable_type):\n",
    "    n = len(A)\n",
    "    x = np.zeros(n, dtype=variable_type)\n",
    "    betas = np.zeros(n, dtype=variable_type)\n",
    "    betas[0] = - A[0][1] / A[0][0]\n",
    "    gammas = np.zeros(n, dtype=variable_type)\n",
    "    gammas[0] = b[0] / A[0][0]\n",
    "    for i in range(1, n):\n",
    "        if i == n - 1:\n",
    "            betas[i] = 0\n",
    "        else:\n",
    "            betas[i] = - A[i][i + 1] / (A[i][i] + A[i][i - 1] * betas[i - 1])\n",
    "        gammas[i] = (b[i] - A[i][i - 1] * gammas[i - 1]) / (A[i][i] + A[i][i - 1] * betas[i - 1])\n",
    "    x[-1] = gammas[-1]\n",
    "    for i in range(n - 2, -1, -1):\n",
    "        x[i] = betas[i] * x[i + 1] + gammas[i]\n",
    "    return x\n",
    "\n",
    "\n",
    "#write a function which is given a matrix A and a vector b and returns the solution vector x\n",
    "def gauss(A, b, variable_type):\n",
    "    n = len(A)\n",
    "    x = np.zeros(n, dtype=variable_type)\n",
    "    print(f\"n = {len(A)}\")\n",
    "    for i in range(n):\n",
    "        for j in range(i + 1, n):\n",
    "            if A[i][i] == variable_type(0):\n",
    "                print(f\"Division by 0, n = {n}, variable_type = {variable_type}, A[i][i] = {A[i][i]}\")\n",
    "                return\n",
    "            m = A[j][i] / A[i][i]\n",
    "            print(f\"m = {m}, i = {i}, j = {j}, A[j][i] = {A[j][i]}, A[i][i] = {A[i][i]}\")\n",
    "            for k in range(i, n):\n",
    "                A[j][k] -= m * A[i][k]\n",
    "            b[j] -= m * b[i]\n",
    "    print()\n",
    "    #print(b)\n",
    "    #print(A)\n",
    "    for i in range(n - 1, -1, -1):\n",
    "        if A[i][i] == variable_type(0):\n",
    "            print(\"Division by 0\")\n",
    "            return\n",
    "        x[i] = b[i] / A[i][i]\n",
    "        for j in range(i - 1, -1, -1):\n",
    "            b[j] -= A[j][i] * x[i]\n",
    "    #print(b)\n",
    "    return x"
   ],
   "metadata": {
    "collapsed": false
   }
  },
  {
   "cell_type": "markdown",
   "source": [
    "**Wykonanie**"
   ],
   "metadata": {
    "collapsed": false
   }
  },
  {
   "cell_type": "code",
   "execution_count": 111,
   "outputs": [],
   "source": [
    "def draw_plot(domain, float32_results, float64_results, title, x_label=\"n\", y_label=\"wartości błędu\", scale_type=None,\n",
    "              filename=None, float32_label=\"float32\", float64_label=\"float64\"):\n",
    "    fig, ax = plt.subplots(figsize=(15, 7.5))\n",
    "    if scale_type is not None:\n",
    "        ax.set_yscale(scale_type)\n",
    "    plt.scatter(x=domain, y=float32_results, label=float32_label)\n",
    "    plt.scatter(x=domain, y=float64_results, label=float64_label)\n",
    "    plt.title(title)\n",
    "    plt.xlabel(x_label)\n",
    "    plt.ylabel(y_label)\n",
    "    plt.legend()\n",
    "    plt.savefig(f\"plots/{filename}.png\")\n",
    "    #plt.show()\n",
    "\n",
    "\n",
    "def perform_tests(get_matrix_fn, method):\n",
    "    def run_test_gauss(correct_x, variable_type):\n",
    "        nonlocal get_matrix_fn\n",
    "        nonlocal method\n",
    "        n = len(correct_x)\n",
    "        A = get_matrix_fn(n, variable_type)\n",
    "        b = get_b(A, correct_x, n, variable_type)\n",
    "        x_result = method(A, b, variable_type)\n",
    "        error = get_error(correct_x, x_result)\n",
    "        return error\n",
    "\n",
    "    xes_32 = read_from_csv(\"xes\", np.float32)\n",
    "    xes_64 = read_from_csv(\"xes\", np.float64)\n",
    "    if len(xes_32) != len(xes_64):\n",
    "        print(\"Error: vectors have different lengths\")\n",
    "        return\n",
    "    errors_32 = []\n",
    "    errors_64 = []\n",
    "    domain = []\n",
    "    for x in range(len(xes_32) - 3):\n",
    "        if len(xes_32[x]) != len(xes_64[x]):\n",
    "            print(\"Error: vectors have different lengths V2\")\n",
    "            return\n",
    "        domain.append(len(xes_32[x]))\n",
    "        errors_32.append(run_test_gauss(xes_32[x], np.float32))\n",
    "        errors_64.append(run_test_gauss(xes_64[x], np.float64))\n",
    "\n",
    "    draw_plot(domain=domain, float32_results=errors_32, float64_results=errors_64,\n",
    "              title=f\"Wartości błędów, skala liniowa\",\n",
    "              filename=f\"{get_matrix_fn.__name__}_{method.__name__}_linear\")\n",
    "\n",
    "    draw_plot(domain=domain, float32_results=errors_32, float64_results=errors_64,\n",
    "              title=f\"Wartości błędów, skala logarytmiczna\", scale_type=\"log\",\n",
    "              filename=f\"{get_matrix_fn.__name__}_{method.__name__}_log\")\n",
    "    for i in range(len(errors_32)):\n",
    "        print(f\"i = {i + 3}, {errors_32[i]}, {errors_64[i]}\")\n",
    "    #print(\"errors32\", errors_32)\n",
    "\n",
    "    #print(\"ASDASD\")\n",
    "    #print(\"errors64\", errors_64, len(errors_64))\n",
    "\n",
    "\n",
    "\n"
   ],
   "metadata": {
    "collapsed": false,
    "ExecuteTime": {
     "end_time": "2023-05-24T06:27:03.304682900Z",
     "start_time": "2023-05-24T06:27:03.290294900Z"
    }
   }
  },
  {
   "cell_type": "code",
   "execution_count": null,
   "outputs": [],
   "source": [
    "perform_tests(get_A1, gauss)"
   ],
   "metadata": {
    "collapsed": false
   }
  },
  {
   "cell_type": "code",
   "execution_count": null,
   "outputs": [],
   "source": [
    "perform_tests(get_A2, gauss)"
   ],
   "metadata": {
    "collapsed": false
   }
  },
  {
   "cell_type": "code",
   "execution_count": 118,
   "outputs": [
    {
     "name": "stdout",
     "output_type": "stream",
     "text": [
      "i = 3, 863.9999999999973, 8.666666666666664\n",
      "i = 4, 37920.00000000528, 16.5\n",
      "i = 5, 1442000.0000029379, 26.800000000000008\n",
      "i = 6, 56344679.99821772, 39.66666666666671\n",
      "i = 7, 2232478705.9287925, 54.57142857142862\n",
      "i = 8, 81552932521.58138, 72.41666666666669\n",
      "i = 9, 2843171843290.0137, 92.38095238095238\n",
      "i = 10, 108960945817879.52, 114.7285714285715\n",
      "i = 11, 3951758149661761.5, 139.78282828282846\n",
      "i = 12, 1.3645355353847907e+17, 166.82222222222228\n",
      "i = 13, 2.7253923186329027e+18, 196.75710955710977\n",
      "i = 14, 2.7451395213867325e+18, 228.887012987014\n",
      "i = 15, 1.0433483999586587e+19, 263.29370629370794\n",
      "i = 16, 2.895360864787883e+18, 300.52822177822173\n",
      "i = 17, 1.3547271121323405e+19, 339.7256625727215\n",
      "i = 18, 2.213939234398773e+21, 381.73629426129605\n",
      "i = 19, 3.5706711768479363e+19, 426.0365188990573\n",
      "i = 20, 1.220424720053462e+19, 472.50521439345147\n"
     ]
    },
    {
     "data": {
      "text/plain": "<Figure size 1500x750 with 1 Axes>",
      "image/png": "[encoded data removed]"
     },
     "metadata": {},
     "output_type": "display_data"
    },
    {
     "data": {
      "text/plain": "<Figure size 1500x750 with 1 Axes>",
      "image/png": "[encoded data removed]"
     },
     "metadata": {},
     "output_type": "display_data"
    }
   ],
   "source": [
    "def investigate_cond_values():\n",
    "    sizes_to_checkout = [i for i in range(3, 20 + 1)]\n",
    "    A1_cond = []\n",
    "    A2_cond = []\n",
    "    for size in sizes_to_checkout:\n",
    "        A1 = get_A1(size, np.float64)\n",
    "        A2 = get_A2(size, np.float64)\n",
    "        A1_cond.append(np.linalg.cond(x=A1, p=np.inf))\n",
    "        A2_cond.append(np.linalg.cond(x=A2, p=np.inf))\n",
    "    draw_plot(domain=sizes_to_checkout, float32_results=A1_cond, float64_results=A2_cond,\n",
    "              title=f\"Wartości cond(A), skala liniowa\",\n",
    "              filename=f\"cond_linear\", float32_label=\"A1\", float64_label=\"A2\", y_label=\"wartości cond(A)\")\n",
    "    draw_plot(domain=sizes_to_checkout, float32_results=A1_cond, float64_results=A2_cond,\n",
    "              title=f\"Wartości cond(A), skala logarytmiczna\", scale_type=\"log\",\n",
    "              filename=f\"cond_log\", float32_label=\"A1\", float64_label=\"A2\", y_label=\"wartości cond(A)\")\n",
    "    for i in range(len(sizes_to_checkout)):\n",
    "        print(f\"i = {i + 3}, {A1_cond[i]}, {A2_cond[i]}\")\n",
    "investigate_cond_values()"
   ],
   "metadata": {
    "collapsed": false,
    "ExecuteTime": {
     "end_time": "2023-05-24T06:30:24.583809900Z",
     "start_time": "2023-05-24T06:30:23.790769500Z"
    }
   }
  }
 ],
 "metadata": {
  "colab": {
   "provenance": []
  },
  "kernelspec": {
   "display_name": "Python 3 (ipykernel)",
   "language": "python",
   "name": "python3"
  },
  "language_info": {
   "codemirror_mode": {
    "name": "ipython",
    "version": 3
   },
   "file_extension": ".py",
   "mimetype": "text/x-python",
   "name": "python",
   "nbconvert_exporter": "python",
   "pygments_lexer": "ipython3",
   "version": "3.10.9"
  }
 },
 "nbformat": 4,
 "nbformat_minor": 1
}
