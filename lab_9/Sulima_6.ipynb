{
 "cells": [
  {
   "cell_type": "code",
   "execution_count": 10,
   "metadata": {
    "id": "347Mub5mJ1m1",
    "ExecuteTime": {
     "end_time": "2023-05-23T22:33:45.556842200Z",
     "start_time": "2023-05-23T22:33:45.536066Z"
    }
   },
   "outputs": [],
   "source": [
    "import numpy as np\n",
    "import matplotlib.pyplot as plt\n",
    "from typing import List, Tuple\n",
    "import os\n"
   ]
  },
  {
   "cell_type": "code",
   "execution_count": 13,
   "outputs": [
    {
     "data": {
      "text/plain": "True"
     },
     "execution_count": 13,
     "metadata": {},
     "output_type": "execute_result"
    }
   ],
   "source": [
    "np.float32 is np.single"
   ],
   "metadata": {
    "collapsed": false,
    "ExecuteTime": {
     "end_time": "2023-05-23T22:34:09.873548900Z",
     "start_time": "2023-05-23T22:34:09.831200200Z"
    }
   }
  },
  {
   "cell_type": "code",
   "execution_count": null,
   "outputs": [],
   "source": [
    "def create_folder_if_not_exists(folder_path):\n",
    "    if not os.path.exists(folder_path):\n",
    "        os.makedirs(folder_path)\n",
    "        print(f\"Folder {folder_path} created successfully.\")\n",
    "    else:\n",
    "        print(f\"Folder {folder_path} already exists.\")\n",
    "\n",
    "\n",
    "create_folder_if_not_exists(\"plots\")\n",
    "create_folder_if_not_exists(\"errors\")\n",
    "create_folder_if_not_exists(\"files\")"
   ],
   "metadata": {
    "collapsed": false
   }
  },
  {
   "cell_type": "code",
   "execution_count": null,
   "outputs": [],
   "source": [
    "def get_A1(n, variable_type):\n",
    "    A_ = np.zeros((n, n), dtype=variable_type)\n",
    "    N = np.zeros(n, dtype=variable_type)\n",
    "    for i in range(n):\n",
    "        tmp = variable_type(i)\n",
    "        N[i] = tmp\n",
    "    for i in N:\n",
    "        for j in N:\n",
    "            index_i = int(i)\n",
    "            index_j = int(j)\n",
    "            if index_i == 1:\n",
    "                A_[index_i][index_j] = variable_type(1)\n",
    "            else:\n",
    "                one = variable_type(1)\n",
    "                A_[index_i][index_j] = one / ((i + one) + (j + one) - one)\n",
    "    return A_\n",
    "\n",
    "\n",
    "get_A1(3, np.float64)\n"
   ],
   "metadata": {
    "collapsed": false
   }
  },
  {
   "cell_type": "code",
   "execution_count": null,
   "outputs": [],
   "source": [
    "def get_A2(n, variable_type):\n",
    "    A_ = np.zeros((n, n), dtype=variable_type)\n",
    "    N = np.zeros(n, dtype=variable_type)\n",
    "    one = variable_type(1)\n",
    "    two = variable_type(2)\n",
    "    for i in range(n):\n",
    "        tmp = variable_type(i)\n",
    "        N[i] = tmp\n",
    "    for i in N:\n",
    "        for j in N:\n",
    "            index_i = int(i)\n",
    "            index_j = int(j)\n",
    "            if j >= i:\n",
    "                A_[index_i][index_j] = (two * (i + one)) / (j + one)\n",
    "            else:\n",
    "                A_[index_i][index_j] = (two * (j + one)) / (i + one)\n",
    "    return A_\n",
    "\n",
    "\n",
    "get_A2(5, np.float64)"
   ],
   "metadata": {
    "collapsed": false
   }
  },
  {
   "cell_type": "code",
   "execution_count": null,
   "outputs": [],
   "source": [
    "def get_random_sign():\n",
    "    return np.random.choice([-1, 1])\n",
    "\n",
    "\n",
    "def get_x(n, variable_type):\n",
    "    x_ = np.zeros(n, dtype=variable_type)\n",
    "    for i in range(n):\n",
    "        x_[i] = variable_type(variable_type(get_random_sign()))\n",
    "    return x_\n",
    "\n",
    "\n",
    "def get_error(correct, actual):\n",
    "    if len(correct) != len(actual):\n",
    "        print(\"Error: vectors have different lengths\")\n",
    "        return\n",
    "    error = -np.inf\n",
    "    for i in range(len(correct)):\n",
    "        tmp = np.abs(correct[i] - actual[i])\n",
    "        if tmp > error:\n",
    "            error = tmp\n",
    "    return error"
   ],
   "metadata": {
    "collapsed": false
   }
  },
  {
   "cell_type": "code",
   "execution_count": null,
   "outputs": [],
   "source": [
    "import csv\n",
    "\n",
    "\n",
    "def save_to_csv(filename, data):\n",
    "    filename = \"files/\" + filename + \".csv\"\n",
    "    with open(filename, 'w', newline='') as file:\n",
    "        writer = csv.writer(file)\n",
    "        writer.writerows(data)\n",
    "\n",
    "\n",
    "def read_from_csv(filename, variable_type):\n",
    "    filename = \"files/\" + filename + \".csv\"\n",
    "    with open(filename, newline='') as file:\n",
    "        reader = csv.reader(file)\n",
    "        data = list(reader)\n",
    "        for arr in range(len(data)):\n",
    "            data[arr] = np.array(data[arr], dtype=variable_type)\n",
    "    return data\n",
    "\n",
    "\n",
    "def generate_data():\n",
    "    sizes = [i for i in range(3, 20)]\n",
    "    sizes.append(50)\n",
    "    sizes.append(100)\n",
    "    sizes.append(200)\n",
    "    xes = []\n",
    "    for size in sizes:\n",
    "        xes.append(get_x(size, np.float64))\n",
    "    return save_to_csv(\"xes\", xes)"
   ],
   "metadata": {
    "collapsed": false
   }
  },
  {
   "cell_type": "code",
   "execution_count": null,
   "outputs": [],
   "source": [
    "def get_b(A, x, n, variable_type):\n",
    "    b = np.zeros(n, dtype=variable_type)\n",
    "    for i in range(n):\n",
    "        for j in range(n):\n",
    "            b[i] += A[i][j] * x[j]\n",
    "        print()\n",
    "    return b"
   ],
   "metadata": {
    "collapsed": false
   }
  },
  {
   "cell_type": "code",
   "execution_count": 16,
   "outputs": [],
   "source": [
    "#write a function which is given a matrix A and a vector b and returns the solution vector x\n",
    "def gauss(A, b, variable_type):\n",
    "    n = len(A)\n",
    "    x = np.zeros(n, dtype=variable_type)\n",
    "    #print(A)\n",
    "    for i in range(n):\n",
    "        for j in range(i + 1, n):\n",
    "            if A[i][i] == variable_type(0):\n",
    "                print(f\"Division by 0, n = {n}, variable_type = {variable_type}, A[i][i] = {A[i][i]}\")\n",
    "                return\n",
    "            m = A[j][i] / A[i][i]\n",
    "            for k in range(i, n):\n",
    "                A[j][k] -= m * A[i][k]\n",
    "            b[j] -= m * b[i]\n",
    "\n",
    "    #print(b)\n",
    "    #print(A)\n",
    "    for i in range(n - 1, -1, -1):\n",
    "        if A[i][i] == variable_type(0):\n",
    "            print(\"Division by 0\")\n",
    "            return\n",
    "        x[i] = b[i] / A[i][i]\n",
    "        for j in range(i - 1, -1, -1):\n",
    "            b[j] -= A[j][i] * x[i]\n",
    "    #print(b)\n",
    "    return x"
   ],
   "metadata": {
    "collapsed": false,
    "ExecuteTime": {
     "end_time": "2023-05-23T22:57:12.624279700Z",
     "start_time": "2023-05-23T22:57:12.611261800Z"
    }
   }
  },
  {
   "cell_type": "markdown",
   "source": [
    "**Wykonanie**"
   ],
   "metadata": {
    "collapsed": false
   }
  },
  {
   "cell_type": "code",
   "execution_count": 21,
   "outputs": [
    {
     "name": "stdout",
     "output_type": "stream",
     "text": [
      "asuufbasiufaefe get_A1\n"
     ]
    }
   ],
   "source": [
    "def draw_plot(domain, float32_results, float64_results, title, x_label=\"n\", y_label=\"wartości błędu\", scale_type=None,\n",
    "              filename=None):\n",
    "    fig, ax = plt.subplots(figsize=(15, 7.5))\n",
    "    if scale_type is not None:\n",
    "        ax.set_yscale(scale_type)\n",
    "    plt.scatter(x=domain, y=float32_results, label=\"float32\")\n",
    "    plt.scatter(x=domain, y=float64_results, label=\"float64\")\n",
    "    plt.title(title)\n",
    "    plt.xlabel(x_label)\n",
    "    plt.ylabel(y_label)\n",
    "    plt.legend()\n",
    "    plt.savefig(f\"plots/{filename}.png\")\n",
    "    plt.show()\n",
    "\n",
    "\n",
    "def perform_tests(get_matrix_fn, method):\n",
    "    def run_test_gauss(correct_x, variable_type):\n",
    "        nonlocal get_matrix_fn\n",
    "        n = len(correct_x)\n",
    "        A = get_matrix_fn(n, variable_type)\n",
    "        b = get_b(A, correct_x, n, variable_type)\n",
    "        x_result = gauss(A, b, variable_type)\n",
    "        error = get_error(correct_x, x_result)\n",
    "        return error\n",
    "\n",
    "    xes_32 = read_from_csv(\"xes\", np.float32)\n",
    "    xes_64 = read_from_csv(\"xes\", np.float64)\n",
    "    if len(xes_32) != len(xes_64):\n",
    "        print(\"Error: vectors have different lengths\")\n",
    "        return\n",
    "    errors_32 = []\n",
    "    errors_64 = []\n",
    "    domain = []\n",
    "    for x in range(len(xes_32)):\n",
    "        if len(xes_32[x]) != len(xes_64[x]):\n",
    "            print(\"Error: vectors have different lengths\")\n",
    "            return\n",
    "        domain.append(len(xes_32[x]))\n",
    "        errors_32.append(run_test_gauss(xes_32[x], np.float32))\n",
    "        errors_64.append(run_test_gauss(xes_64[x], np.float64))\n",
    "    draw_plot(domain=domain, float32_results=errors_32, float64_results=errors_64,\n",
    "              title=f\"Wartości błędów, skala liniowa\", filename=f\"gauss_linear_A1\")\n",
    "    draw_plot(domain=domain, float32_results=errors_32, float64_results=errors_64,\n",
    "              title=f\"Wartości błędów, skala logarytmiczna\", scale_type=\"log\", filename=f\"gauss_log_A1\")\n",
    "\n",
    "\n",
    "perform_tests(get_A1, \"tmp\")"
   ],
   "metadata": {
    "collapsed": false,
    "ExecuteTime": {
     "end_time": "2023-05-23T23:00:51.587579900Z",
     "start_time": "2023-05-23T23:00:51.574569800Z"
    }
   }
  },
  {
   "cell_type": "code",
   "execution_count": null,
   "outputs": [],
   "source": [],
   "metadata": {
    "collapsed": false
   }
  },
  {
   "cell_type": "code",
   "execution_count": null,
   "outputs": [],
   "source": [],
   "metadata": {
    "collapsed": false
   }
  }
 ],
 "metadata": {
  "colab": {
   "provenance": []
  },
  "kernelspec": {
   "display_name": "Python 3 (ipykernel)",
   "language": "python",
   "name": "python3"
  },
  "language_info": {
   "codemirror_mode": {
    "name": "ipython",
    "version": 3
   },
   "file_extension": ".py",
   "mimetype": "text/x-python",
   "name": "python",
   "nbconvert_exporter": "python",
   "pygments_lexer": "ipython3",
   "version": "3.10.9"
  }
 },
 "nbformat": 4,
 "nbformat_minor": 1
}
