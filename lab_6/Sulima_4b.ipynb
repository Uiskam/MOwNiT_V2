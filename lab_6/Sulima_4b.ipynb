{
 "cells": [
  {
   "cell_type": "code",
   "execution_count": null,
   "metadata": {
    "id": "347Mub5mJ1m1",
    "ExecuteTime": {
     "start_time": "2023-04-26T03:30:48.011271Z",
     "end_time": "2023-04-26T03:30:48.856323Z"
    }
   },
   "outputs": [],
   "source": [
    "import numpy as np\n",
    "import matplotlib.pyplot as plt\n",
    "import os"
   ]
  },
  {
   "cell_type": "code",
   "execution_count": null,
   "outputs": [],
   "source": [
    "def create_folder_if_not_exists(folder_path):\n",
    "    if not os.path.exists(folder_path):\n",
    "        os.makedirs(folder_path)\n",
    "        print(f\"Folder {folder_path} created successfully.\")\n",
    "    else:\n",
    "        print(f\"Folder {folder_path} already exists.\")\n",
    "\n",
    "\n",
    "create_folder_if_not_exists(\"plots\")\n",
    "create_folder_if_not_exists(\"errors\")\n",
    "\n",
    "pi = np.double(np.pi)\n",
    "interval_start = -2 * pi\n",
    "interval_end = pi\n",
    "base_domain = np.arange(interval_start, interval_end, 0.00943)\n",
    "\n",
    "\n",
    "def function_given(x):\n",
    "    m = 2\n",
    "    k = 2\n",
    "    global pi\n",
    "    return np.sin(m * x) * np.sin(k * (x * x) / pi)\n",
    "\n",
    "\n",
    "def first_derivative(x):\n",
    "    m = 2\n",
    "    k = 2\n",
    "    global pi\n",
    "    return 2 * k * x * np.cos(k * x ** 2 / pi) * np.sin(m * x) / pi + m * np.sin(k * x ** 2 / pi) * np.cos(m * x)"
   ],
   "metadata": {
    "collapsed": false,
    "ExecuteTime": {
     "start_time": "2023-04-26T03:30:48.860324Z",
     "end_time": "2023-04-26T03:30:48.870325Z"
    }
   }
  },
  {
   "cell_type": "markdown",
   "metadata": {},
   "source": [
    "**Równomierna dystrybucja**"
   ]
  },
  {
   "cell_type": "code",
   "execution_count": null,
   "metadata": {
    "ExecuteTime": {
     "start_time": "2023-04-26T03:30:49.185535Z",
     "end_time": "2023-04-26T03:30:49.210549Z"
    }
   },
   "outputs": [],
   "source": [
    "def even_domain(x_min, x_max, number_of_points):\n",
    "    return np.linspace(x_min, x_max, number_of_points, dtype=np.double)"
   ]
  },
  {
   "cell_type": "markdown",
   "metadata": {},
   "source": [
    "**Zera wielomianu Czebyszewa**"
   ]
  },
  {
   "cell_type": "code",
   "execution_count": null,
   "metadata": {
    "ExecuteTime": {
     "start_time": "2023-04-26T03:30:50.012737Z",
     "end_time": "2023-04-26T03:30:50.029740Z"
    }
   },
   "outputs": [],
   "source": [
    "def get_chebyshev_zeros(x_min=None, x_max=None, number_of_points=None):\n",
    "    if x_min is None and x_max is not None or x_min is not None and x_max is None:\n",
    "        raise ValueError(\"x_min and x_max must be both None or both not None\")\n",
    "    chebyshev_zeroes = np.array(0, dtype=np.double)\n",
    "    for k in range(number_of_points):\n",
    "        cur_zero = np.cos((2 * k + 1) * np.pi / (2 * number_of_points))\n",
    "        if x_min is not None and x_max is not None:\n",
    "            cur_zero = (x_max - x_min) / 2 * cur_zero + (x_max + x_min) / 2\n",
    "        chebyshev_zeroes = np.append(chebyshev_zeroes, cur_zero)\n",
    "    return chebyshev_zeroes[1:]"
   ]
  },
  {
   "cell_type": "markdown",
   "metadata": {
    "id": "sRaAYUbYJcL8"
   },
   "source": [
    "**Wizualizacja**"
   ]
  },
  {
   "cell_type": "code",
   "execution_count": null,
   "metadata": {
    "id": "TbbTIwyFJeNW",
    "ExecuteTime": {
     "start_time": "2023-04-26T03:30:50.881829Z",
     "end_time": "2023-04-26T03:30:50.902842Z"
    }
   },
   "outputs": [],
   "source": [
    "def visualise(domain=None, nodes_x=None, nodes_y=None, f_y=None, Pn_x=None, title=None, x_size=8, y_size=6,\n",
    "              plot_title=None,\n",
    "              filename=None,\n",
    "              show=False):\n",
    "    '''\n",
    "    :param domain: array of float64, of x coordinates of points to visualise\n",
    "    :param nodes_x: array of x coordinates of nodes\n",
    "    :param nodes_y: array of f(x) for each x in nodes_x\n",
    "    :param f_y: array of f(x) for each x in domain\n",
    "    :param Pn_x: array of Pn(x) for each x in domain\n",
    "    :param title: a string\n",
    "    :param x_size: size of a figure in x axis\n",
    "    :param y_size: size of a figure in y axis\n",
    "    :param plot_title: title of a plot\n",
    "    :param filename: name of a file to save a figure\n",
    "    :param show: if True, plt.show() will be called\n",
    "    :return: None\n",
    "    '''\n",
    "    plt.figure(figsize=(x_size, y_size))\n",
    "    if nodes_x is not None and nodes_y is not None:\n",
    "        plt.scatter(nodes_x, nodes_y, label=\"Węzły\", color=\"green\")\n",
    "    if f_y is not None:\n",
    "        plt.plot(domain, f_y, label=\"Zadana funckcja\", color=\"blue\")\n",
    "\n",
    "    if title is not None:\n",
    "        plt.plot(domain, Pn_x, label=title, color=\"red\")\n",
    "    if plot_title is not None:\n",
    "        plt.title(plot_title)\n",
    "    plt.xlabel(\"x\")\n",
    "    plt.ylabel(\"y\")\n",
    "    plt.legend()\n",
    "    if filename is not None:\n",
    "        plt.savefig(f\"plots/{filename}.png\", dpi=300, format='png')\n",
    "    if show:\n",
    "        plt.show()"
   ]
  },
  {
   "cell_type": "markdown",
   "metadata": {},
   "source": [
    "**Implementacja funkcji do laboratorium**"
   ]
  },
  {
   "cell_type": "code",
   "execution_count": null,
   "metadata": {
    "ExecuteTime": {
     "start_time": "2023-04-26T03:30:51.585534Z",
     "end_time": "2023-04-26T03:30:51.604570Z"
    }
   },
   "outputs": [],
   "source": [
    "function_given_values = []\n",
    "for random_name in range(len(base_domain)):\n",
    "    function_given_values.append(function_given(base_domain[random_name]))\n",
    "\n",
    "\n",
    "def get_function_values(X):\n",
    "    result = np.zeros(len(X), dtype=np.double)\n",
    "    for i in range(len(X)):\n",
    "        result[i] = function_given(X[i])\n",
    "    return result\n",
    "\n",
    "\n",
    "def get_abs_error(f1, f2):\n",
    "    max_error = -1\n",
    "    if len(f1) != len(f2):\n",
    "        raise Exception(\"f1 and f2 must have the same length\")\n",
    "    for i in range(len(f1)):\n",
    "        max_error = max(max_error, abs(f1[i] - f2[i]))\n",
    "    return max_error\n",
    "\n",
    "\n",
    "def get_square_mean_error(f1, f2):\n",
    "    error_sum = 0\n",
    "    if len(f1) != len(f2):\n",
    "        raise Exception(\"f1 and f2 must have the same length\")\n",
    "    for i in range(len(f1)):\n",
    "        error_sum += (f1[i] - f2[i]) ** 2\n",
    "    return np.sqrt(error_sum) / len(f1)"
   ]
  },
  {
   "cell_type": "markdown",
   "source": [
    "**Aproksymacja średniokwadratowa wielomianami algebraicznymi**"
   ],
   "metadata": {
    "collapsed": false
   }
  },
  {
   "cell_type": "code",
   "execution_count": null,
   "outputs": [],
   "source": [
    "def trigonometric_approximation(function, domain, x_zeroes, poly_degree, input_weights=None):\n",
    "    def scale_number(num, base_interval=(interval_start, interval_end), resultant_interval=(-pi, pi)):\n",
    "        a_, b_ = base_interval\n",
    "        c, d = resultant_interval\n",
    "        scaled_num = ((num - a_) / (b_ - a_)) * (d - c) + c\n",
    "        return scaled_num\n",
    "\n",
    "    x_zeroes_scaled = [scale_number(x) for x in x_zeroes]\n",
    "    a = []\n",
    "    b = []\n",
    "    n = len(x_zeroes_scaled)\n",
    "    for i in range(n):\n",
    "        a_i = 0\n",
    "        b_i = 0\n",
    "        for j in range(n):\n",
    "            a_i += function(x_zeroes[j]) * np.cos(i * x_zeroes_scaled[j])\n",
    "            b_i += function(x_zeroes[j]) * np.sin(i * x_zeroes_scaled[j])\n",
    "        a.append(2 / n * a_i)\n",
    "        b.append(2 / n * b_i)\n",
    "    trigonometric_approximation_result = []\n",
    "    print(a)\n",
    "    print(b)\n",
    "    for x in domain:\n",
    "        x_scaled = scale_number(x)\n",
    "        trigonometric_approximation_result.append(a[0] / 2)\n",
    "        for j in range(1, poly_degree + 1):\n",
    "            trigonometric_approximation_result[-1] += a[j] * np.cos(j * x_scaled) + b[j] * np.sin(j * x_scaled)\n",
    "    return trigonometric_approximation_result\n",
    "\n",
    "\n",
    "def visualise_approximation(number_of_nodes, domain, function, poly_degree, filename=None, show_plot=False):\n",
    "    nodes_x = even_domain(x_min=interval_start, x_max=interval_end, number_of_points=number_of_nodes)\n",
    "    nodes_y = []\n",
    "    for i in range(len(nodes_x)):\n",
    "        nodes_y.append(function(nodes_x[i]))\n",
    "    approximation_result = trigonometric_approximation(function=function,\n",
    "                                                       domain=domain,\n",
    "                                                       x_zeroes=nodes_x,\n",
    "                                                       poly_degree=poly_degree)\n",
    "    visualise(domain=base_domain, nodes_x=nodes_x, nodes_y=nodes_y, f_y=function_given_values,\n",
    "              Pn_x=approximation_result,\n",
    "              title=f\"Funkcja aproksymująca\",\n",
    "              plot_title=f\"Aproksymacja średniokwadratowa wielomianami trygonometrycznymi dla {len(nodes_x)} węzłów i m = {poly_degree}\",\n",
    "              filename=filename,\n",
    "              show=show_plot)"
   ],
   "metadata": {
    "collapsed": false,
    "ExecuteTime": {
     "start_time": "2023-04-26T03:30:52.195511Z",
     "end_time": "2023-04-26T03:30:52.212560Z"
    }
   }
  },
  {
   "cell_type": "markdown",
   "metadata": {},
   "source": [
    "**Wykonanie ćwiczenia**"
   ]
  },
  {
   "cell_type": "code",
   "execution_count": null,
   "metadata": {
    "ExecuteTime": {
     "start_time": "2023-04-26T03:30:52.836557Z",
     "end_time": "2023-04-26T03:30:53.257485Z"
    }
   },
   "outputs": [],
   "source": [
    "visualise(base_domain, None, None, function_given_values, filename=\"funkcja\")"
   ]
  },
  {
   "cell_type": "code",
   "execution_count": null,
   "metadata": {
    "ExecuteTime": {
     "start_time": "2023-04-26T03:30:53.282492Z",
     "end_time": "2023-04-26T03:32:01.187699Z"
    }
   },
   "outputs": [],
   "source": [
    "given_number_of_nodes = [5, 7, 10, 15, 20, 25, 30, 35, 40, 45, 50, 55, 60, 65, 70]\n",
    "given_poly_degree = [2, 3, 4, 5, 6, 8, 10, 12, 15, 20, 25, 30, 35]\n",
    "\n",
    "\n",
    "def get_all_visualisations(number_cur, degree_cur):\n",
    "    if degree > (number - 1) // 2:\n",
    "        #print(\"Nie można wyznaczyć wielomianu o stopniu większym niż (n-1)/2\")\n",
    "        return\n",
    "\n",
    "    print(\"Liczba węzłów: \", number_cur, \" stopień wielomianu: \", degree_cur)\n",
    "    visualise_approximation(number_of_nodes=number_cur,\n",
    "                            domain=base_domain,\n",
    "                            function=function_given,\n",
    "                            poly_degree=degree_cur,\n",
    "                            filename=f\"n_{number_cur}_m_{degree_cur}\",\n",
    "                            show_plot=True)\n",
    "\n",
    "\n",
    "for number in given_number_of_nodes:\n",
    "    for degree in given_poly_degree:\n",
    "        get_all_visualisations(number, degree)"
   ]
  },
  {
   "cell_type": "code",
   "execution_count": null,
   "outputs": [],
   "source": [
    "import csv\n",
    "\n",
    "\n",
    "def save_to_csv(filename, data):\n",
    "    with open(filename, 'w', newline='') as file:\n",
    "        writer = csv.writer(file)\n",
    "        writer.writerows(data)"
   ],
   "metadata": {
    "collapsed": false,
    "ExecuteTime": {
     "start_time": "2023-04-26T03:32:01.108682Z",
     "end_time": "2023-04-26T03:32:01.187699Z"
    }
   }
  },
  {
   "cell_type": "code",
   "execution_count": null,
   "outputs": [],
   "source": [
    "def approximation_max_results_errors():\n",
    "    global given_number_of_nodes\n",
    "    csv_header = [\"n\\m\"]\n",
    "    csv_file = [csv_header]\n",
    "    for cur_degree in given_poly_degree:\n",
    "        csv_header.append(cur_degree)\n",
    "    for number_of_nodes in given_number_of_nodes:\n",
    "        csv_record = None\n",
    "        for cur_degree in given_poly_degree:\n",
    "            if cur_degree > (number_of_nodes - 1) // 2:\n",
    "                #print(\"Nie można wyznaczyć wielomianu o stopniu większym niż (n-1)/2\")\n",
    "                continue\n",
    "            if cur_degree == given_poly_degree[0]:\n",
    "                csv_record = [number_of_nodes]\n",
    "            even_nodes = even_domain(x_min=interval_start, x_max=interval_end, number_of_points=number_of_nodes)\n",
    "            exact_result = function_given_values\n",
    "\n",
    "            poly_approximation_result = trigonometric_approximation(function=function_given,\n",
    "                                                                    domain=base_domain,\n",
    "                                                                    x_zeroes=even_nodes,\n",
    "                                                                    poly_degree=cur_degree)\n",
    "            poly_approximation_result_sqrt_error = get_abs_error(exact_result, poly_approximation_result)\n",
    "            csv_record.append(poly_approximation_result_sqrt_error)\n",
    "        csv_file.append(csv_record)\n",
    "        save_to_csv(\"errors/trygo_approx_max_error.csv\", csv_file)\n",
    "\n",
    "\n",
    "approximation_max_results_errors()"
   ],
   "metadata": {
    "collapsed": false,
    "ExecuteTime": {
     "start_time": "2023-04-26T03:32:01.119683Z",
     "end_time": "2023-04-26T03:32:05.950158Z"
    }
   }
  },
  {
   "cell_type": "code",
   "execution_count": null,
   "outputs": [],
   "source": [
    "def approximation_sqrt_results_errors():\n",
    "    global given_number_of_nodes\n",
    "    csv_header = [\"n\\m\"]\n",
    "    csv_file = [csv_header]\n",
    "    for cur_degree in given_poly_degree:\n",
    "        csv_header.append(cur_degree)\n",
    "    for number_of_nodes in given_number_of_nodes:\n",
    "        csv_record = None\n",
    "        for cur_degree in given_poly_degree:\n",
    "            if cur_degree > (number_of_nodes - 1) // 2:\n",
    "                #print(\"Nie można wyznaczyć wielomianu o stopniu większym niż (n-1)/2\")\n",
    "                continue\n",
    "            if cur_degree == given_poly_degree[0]:\n",
    "                csv_record = [number_of_nodes]\n",
    "            even_nodes = even_domain(x_min=interval_start, x_max=interval_end, number_of_points=number_of_nodes)\n",
    "            exact_result = function_given_values\n",
    "\n",
    "            poly_approximation_result = trigonometric_approximation(function=function_given,\n",
    "                                                                    domain=base_domain,\n",
    "                                                                    x_zeroes=even_nodes,\n",
    "                                                                    poly_degree=cur_degree)\n",
    "            poly_approximation_result_sqrt_error = get_square_mean_error(exact_result, poly_approximation_result)\n",
    "            csv_record.append(poly_approximation_result_sqrt_error)\n",
    "        csv_file.append(csv_record)\n",
    "        save_to_csv(\"errors/trygo_approx_sqrt_error.csv\", csv_file)\n",
    "\n",
    "\n",
    "approximation_sqrt_results_errors()"
   ],
   "metadata": {
    "collapsed": false,
    "ExecuteTime": {
     "start_time": "2023-04-26T03:32:05.953145Z",
     "end_time": "2023-04-26T03:32:10.320701Z"
    }
   }
  },
  {
   "cell_type": "code",
   "execution_count": null,
   "outputs": [],
   "source": [],
   "metadata": {
    "collapsed": false
   }
  }
 ],
 "metadata": {
  "colab": {
   "provenance": []
  },
  "kernelspec": {
   "display_name": "Python 3 (ipykernel)",
   "language": "python",
   "name": "python3"
  },
  "language_info": {
   "codemirror_mode": {
    "name": "ipython",
    "version": 3
   },
   "file_extension": ".py",
   "mimetype": "text/x-python",
   "name": "python",
   "nbconvert_exporter": "python",
   "pygments_lexer": "ipython3",
   "version": "3.10.9"
  }
 },
 "nbformat": 4,
 "nbformat_minor": 1
}
