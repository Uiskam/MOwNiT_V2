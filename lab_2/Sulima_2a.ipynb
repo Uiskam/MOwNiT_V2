{
 "cells": [
  {
   "cell_type": "code",
   "execution_count": null,
   "metadata": {
    "id": "347Mub5mJ1m1",
    "ExecuteTime": {
     "start_time": "2023-04-26T07:04:07.307262Z",
     "end_time": "2023-04-26T07:04:07.463302Z"
    }
   },
   "outputs": [],
   "source": [
    "import numpy as np\n",
    "import matplotlib.pyplot as plt\n",
    "import os\n"
   ]
  },
  {
   "cell_type": "code",
   "execution_count": null,
   "outputs": [],
   "source": [
    "def create_folder_if_not_exists(folder_path):\n",
    "    if not os.path.exists(folder_path):\n",
    "        os.makedirs(folder_path)\n",
    "        print(f\"Folder {folder_path} created successfully.\")\n",
    "    else:\n",
    "        print(f\"Folder {folder_path} already exists.\")\n",
    "\n",
    "\n",
    "create_folder_if_not_exists(\"plots\")\n",
    "create_folder_if_not_exists(\"errors\")"
   ],
   "metadata": {
    "collapsed": false,
    "ExecuteTime": {
     "start_time": "2023-04-26T07:04:09.000147Z",
     "end_time": "2023-04-26T07:04:09.173202Z"
    }
   }
  },
  {
   "cell_type": "markdown",
   "metadata": {},
   "source": [
    "**Równomierna dystrybucja**"
   ]
  },
  {
   "cell_type": "code",
   "execution_count": null,
   "metadata": {
    "ExecuteTime": {
     "start_time": "2023-04-26T07:04:11.800642Z",
     "end_time": "2023-04-26T07:04:11.863781Z"
    }
   },
   "outputs": [],
   "source": [
    "def even_domain(x_min, x_max, number_of_points):\n",
    "    return np.linspace(x_min, x_max, number_of_points, dtype=np.double)"
   ]
  },
  {
   "cell_type": "markdown",
   "metadata": {},
   "source": [
    "**Zera wielomianu Czebyszewa**"
   ]
  },
  {
   "cell_type": "code",
   "execution_count": null,
   "metadata": {
    "ExecuteTime": {
     "start_time": "2023-04-26T07:04:14.468422Z",
     "end_time": "2023-04-26T07:04:14.491420Z"
    }
   },
   "outputs": [],
   "source": [
    "def get_chebyshev_zeros(x_min=None, x_max=None, number_of_points=None):\n",
    "    if x_min is None and x_max is not None or x_min is not None and x_max is None:\n",
    "        raise ValueError(\"x_min and x_max must be both None or both not None\")\n",
    "    chebyshev_zeroes = np.array(0, dtype=np.double)\n",
    "    for k in range(number_of_points):\n",
    "        cur_zero = np.cos((2 * k + 1) * np.pi / (2 * number_of_points))\n",
    "        if x_min is not None and x_max is not None:\n",
    "            cur_zero = (x_max - x_min) / 2 * cur_zero + (x_max + x_min) / 2\n",
    "        chebyshev_zeroes = np.append(chebyshev_zeroes, cur_zero)\n",
    "    return chebyshev_zeroes[1:]"
   ]
  },
  {
   "cell_type": "markdown",
   "metadata": {},
   "source": [
    "**Interpolacja Lagrange'a**"
   ]
  },
  {
   "cell_type": "code",
   "execution_count": null,
   "metadata": {
    "ExecuteTime": {
     "start_time": "2023-04-26T07:04:17.411059Z",
     "end_time": "2023-04-26T07:04:17.491675Z"
    }
   },
   "outputs": [],
   "source": [
    "def lagrange_interpolation(function, x, x_zeroes):\n",
    "    def Lk(k, x):\n",
    "        nonlocal n\n",
    "        d = 1\n",
    "        for i in range(n):\n",
    "            if i != k:\n",
    "                d *= (x - x_zeroes[i])\n",
    "        m = 1\n",
    "        for i in range(n):\n",
    "            if i != k:\n",
    "                m *= (x_zeroes[k] - x_zeroes[i])\n",
    "        return d / m\n",
    "\n",
    "    Pn = 0\n",
    "    n = len(x_zeroes)\n",
    "    for k in range(n):\n",
    "        Pn += Lk(k, x) * function(x_zeroes[k])\n",
    "    return Pn\n",
    "\n",
    "\n",
    "def interpolate_lagrange(function, domain, x_zeroes):\n",
    "    result = []\n",
    "    for i in range(len(domain)):\n",
    "        result.append(lagrange_interpolation(function=function, x=domain[i], x_zeroes=x_zeroes))\n",
    "    return result"
   ]
  },
  {
   "cell_type": "markdown",
   "metadata": {},
   "source": [
    "**Interpolacja Newtona**"
   ]
  },
  {
   "cell_type": "code",
   "execution_count": null,
   "metadata": {
    "ExecuteTime": {
     "start_time": "2023-04-26T07:04:19.254891Z",
     "end_time": "2023-04-26T07:04:19.433602Z"
    }
   },
   "outputs": [],
   "source": [
    "def newton_interpolation(function, x, x_zeroes):\n",
    "    n = len(x_zeroes)\n",
    "\n",
    "    def get_difference_quotient_table():\n",
    "        nonlocal function\n",
    "        nonlocal x_zeroes\n",
    "        nonlocal n\n",
    "        table = np.zeros((n, n), dtype=np.double)\n",
    "        for i in range(n):\n",
    "            table[i][0] = function(x_zeroes[i])\n",
    "        for j in range(1, n):\n",
    "            for i in range(n - j):\n",
    "                table[i][j] = (table[i + 1][j - 1] - table[i][j - 1]) / (x_zeroes[i + j] - x_zeroes[i])\n",
    "        return table\n",
    "\n",
    "    difference_quotient_table = get_difference_quotient_table()\n",
    "    Pn = 0\n",
    "    for k in range(0, n):\n",
    "        cur_number = difference_quotient_table[0][k]\n",
    "        for i in range(0, k):\n",
    "            cur_number *= (x - x_zeroes[i])\n",
    "        Pn += cur_number\n",
    "    return Pn\n",
    "\n",
    "\n",
    "def interpolate_newton(function, domain, x_zeroes):\n",
    "    result = []\n",
    "    for i in range(len(domain)):\n",
    "        result.append(newton_interpolation(function=function, x=domain[i], x_zeroes=x_zeroes))\n",
    "    return result"
   ]
  },
  {
   "cell_type": "markdown",
   "metadata": {
    "id": "sRaAYUbYJcL8"
   },
   "source": [
    "**Wizualizacja**"
   ]
  },
  {
   "cell_type": "code",
   "execution_count": null,
   "metadata": {
    "id": "TbbTIwyFJeNW",
    "ExecuteTime": {
     "start_time": "2023-04-26T07:04:21.229342Z",
     "end_time": "2023-04-26T07:04:21.351263Z"
    }
   },
   "outputs": [],
   "source": [
    "def visualise(domain=None, nodes_x=None, nodes_y=None, f_y=None, Pn_x=None, mode=None, x_size=8, y_size=6,\n",
    "              filename=None):\n",
    "    '''\n",
    "    :param domain: array of float64, of x coordinates of points to visualise\n",
    "    :param nodes_x: array of x coordinates of nodes\n",
    "    :param nodes_y: array of f(x) for each x in nodes_x\n",
    "    :param f_y: array of f(x) for each x in domain\n",
    "    :param Pn_x: array of Pn(x) for each x in domain\n",
    "    :param mode: \"lagrange\" or \"newton\" or \"impo\"\n",
    "    :param x_size: size of a figure in x axis\n",
    "    :param y_size: size of a figure in y axis\n",
    "    :param filename: name of a file to save a figure\n",
    "    :return: None\n",
    "    '''\n",
    "    plt.figure(figsize=(x_size, y_size))\n",
    "    if nodes_x is not None and nodes_y is not None:\n",
    "        plt.scatter(nodes_x, nodes_y, label=\"Węzły\", color=\"green\")\n",
    "    if f_y is not None:\n",
    "        plt.plot(domain, f_y, label=\"Zadana funckcja\", color=\"blue\")\n",
    "\n",
    "    if mode == \"lagrange\":\n",
    "        plt.plot(domain, Pn_x, label=\"Interpolacja Lagrange'a\", color=\"red\")\n",
    "    elif mode == \"newton\":\n",
    "        plt.plot(domain, Pn_x, label=\"Interpolacja Newtona\", color=\"red\")\n",
    "    plt.xlabel(\"x\")\n",
    "    plt.ylabel(\"y\")\n",
    "    plt.legend()\n",
    "    if filename is not None:\n",
    "        plt.savefig(f\"plots/{filename}.png\", dpi=300, format='png')\n",
    "    plt.show()\n"
   ]
  },
  {
   "cell_type": "markdown",
   "metadata": {},
   "source": [
    "**Implementacja funkcji do laboratorium**"
   ]
  },
  {
   "cell_type": "code",
   "execution_count": null,
   "metadata": {
    "ExecuteTime": {
     "start_time": "2023-04-26T07:04:23.124486Z",
     "end_time": "2023-04-26T07:04:23.238644Z"
    }
   },
   "outputs": [],
   "source": [
    "pi = np.double(np.pi)\n",
    "interval_start = -2 * pi\n",
    "interval_end = pi\n",
    "base_domain = np.arange(interval_start, interval_end, 0.01)\n",
    "\n",
    "\n",
    "def function_given(x):\n",
    "    m = 2\n",
    "    k = 2\n",
    "    global pi\n",
    "    return np.sin(m * x) * np.sin(k * (x * x) / pi)\n",
    "\n",
    "\n",
    "function_given_values = []\n",
    "for random_name in range(len(base_domain)):\n",
    "    function_given_values.append(function_given(base_domain[random_name]))\n",
    "\n",
    "\n",
    "def get_function_values(X):\n",
    "    result = np.zeros(len(X), dtype=np.double)\n",
    "    for i in range(len(X)):\n",
    "        result[i] = function_given(X[i])\n",
    "    return result\n",
    "\n",
    "\n",
    "def get_abs_error(f1, f2):\n",
    "    max_error = -1\n",
    "    if len(f1) != len(f2):\n",
    "        raise Exception(\"f1 and f2 must have the same length\")\n",
    "    for i in range(len(f1)):\n",
    "        max_error = max(max_error, abs(f1[i] - f2[i]))\n",
    "    return max_error\n",
    "\n",
    "\n",
    "def get_square_mean_error(f1, f2):\n",
    "    error_sum = 0\n",
    "    if len(f1) != len(f2):\n",
    "        raise Exception(\"f1 and f2 must have the same length\")\n",
    "    for i in range(len(f1)):\n",
    "        error_sum += (f1[i] - f2[i]) ** 2\n",
    "    return np.sqrt(error_sum) / len(f1)\n",
    "\n",
    "\n",
    "def visualise_lagrange(number_of_nodes, domain, function, nodes_distribution_mode=\"even\", filename=None):\n",
    "    nodes_x = None\n",
    "    if nodes_distribution_mode == \"even\":\n",
    "        nodes_x = even_domain(x_min=interval_start, x_max=interval_end, number_of_points=number_of_nodes)\n",
    "    elif nodes_distribution_mode == \"chebyshev\":\n",
    "        nodes_x = get_chebyshev_zeros(x_min=interval_start, x_max=interval_end, number_of_points=number_of_nodes)\n",
    "    nodes_y = []\n",
    "    for i in range(len(nodes_x)):\n",
    "        nodes_y.append(function(nodes_x[i]))\n",
    "    lagrange_values = interpolate_lagrange(function=function, domain=domain, x_zeroes=nodes_x)\n",
    "    visualise(domain=base_domain, nodes_x=nodes_x, nodes_y=nodes_y, f_y=function_given_values, Pn_x=lagrange_values,\n",
    "              mode=\"lagrange\", filename=filename)\n",
    "\n",
    "\n",
    "def visualise_newton(number_of_nodes, domain, function, nodes_distribution_mode=\"even\", filename=None):\n",
    "    nodes_x = None\n",
    "    if nodes_distribution_mode == \"even\":\n",
    "        nodes_x = even_domain(x_min=interval_start, x_max=interval_end, number_of_points=number_of_nodes)\n",
    "    elif nodes_distribution_mode == \"chebyshev\":\n",
    "        nodes_x = get_chebyshev_zeros(x_min=interval_start, x_max=interval_end, number_of_points=number_of_nodes)\n",
    "    nodes_y = []\n",
    "    for i in range(len(nodes_x)):\n",
    "        nodes_y.append(function(nodes_x[i]))\n",
    "    newton_values = interpolate_newton(function=function, domain=domain, x_zeroes=nodes_x)\n",
    "    visualise(domain=base_domain, nodes_x=nodes_x, nodes_y=nodes_y, f_y=function_given_values, Pn_x=newton_values,\n",
    "              mode=\"newton\", filename=filename)"
   ]
  },
  {
   "cell_type": "markdown",
   "metadata": {},
   "source": [
    "**Wykonanie ćwiczenia**"
   ]
  },
  {
   "cell_type": "code",
   "execution_count": 11,
   "metadata": {
    "ExecuteTime": {
     "start_time": "2023-04-26T07:05:10.373258Z",
     "end_time": "2023-04-26T07:05:10.526655Z"
    }
   },
   "outputs": [
    {
     "data": {
      "text/plain": "<Figure size 800x600 with 1 Axes>",
      "image/png": "[encoded data removed]"
     },
     "metadata": {},
     "output_type": "display_data"
    }
   ],
   "source": [
    "visualise(base_domain, None, None, function_given_values)\n",
    "#given_number_of_nodes = [3, 4, 5, 7, 10, 15, 20, 25, 30, 35, 40, 45, 50, 55, 60, 65, 70]\n",
    "given_number_of_nodes = range(3, 71)"
   ]
  },
  {
   "cell_type": "markdown",
   "metadata": {},
   "source": []
  },
  {
   "cell_type": "code",
   "execution_count": null,
   "metadata": {
    "ExecuteTime": {
     "start_time": "2023-04-26T03:50:09.012880Z",
     "end_time": "2023-04-26T03:56:31.835241Z"
    }
   },
   "outputs": [],
   "source": [
    "def get_all_visualisations(number):\n",
    "    print(\"Liczba węzłów: \", number)\n",
    "    even_nodes = even_domain(x_min=interval_start, x_max=interval_end, number_of_points=number)\n",
    "    chebyshev_nodes = get_chebyshev_zeros(x_min=interval_start, x_max=interval_end, number_of_points=number)\n",
    "    print(\"Wizualizacja Lagrange, węzły równoodległe\")\n",
    "    visualise_lagrange(number_of_nodes=number,\n",
    "                       domain=base_domain,\n",
    "                       function=function_given,\n",
    "                       nodes_distribution_mode=\"even\",\n",
    "                       filename=f\"lagrange_{number}_even\")\n",
    "    print(\"Wizualizacja Lagrange, węzły Czebyszewa\")\n",
    "    visualise_lagrange(number_of_nodes=number,\n",
    "                       domain=base_domain,\n",
    "                       function=function_given,\n",
    "                       nodes_distribution_mode=\"chebyshev\",\n",
    "                       filename=f\"lagrange_{number}_chebyshev\")\n",
    "    print(\"Wizualizacja Newtona, węzły równoodległe\")\n",
    "    visualise_newton(number_of_nodes=number,\n",
    "                     domain=base_domain,\n",
    "                     function=function_given,\n",
    "                     nodes_distribution_mode=\"even\",\n",
    "                     filename=f\"newton_{number}_even\")\n",
    "    print(\"Wizualizacja Newtona, węzły Czebyszewa\")\n",
    "    visualise_newton(number_of_nodes=number,\n",
    "                     domain=base_domain,\n",
    "                     function=function_given,\n",
    "                     nodes_distribution_mode=\"chebyshev\",\n",
    "                     filename=f\"newton_{number}_chebyshev\")\n",
    "\n",
    "\n",
    "for cur_number in given_number_of_nodes:\n",
    "    get_all_visualisations(cur_number)"
   ]
  },
  {
   "cell_type": "code",
   "execution_count": 12,
   "metadata": {
    "ExecuteTime": {
     "start_time": "2023-04-26T07:05:14.729582Z",
     "end_time": "2023-04-26T07:05:14.754600Z"
    }
   },
   "outputs": [],
   "source": [
    "import csv\n",
    "\n",
    "\n",
    "def save_to_csv(filename, data):\n",
    "    with open(filename, 'w', newline='') as file:\n",
    "        writer = csv.writer(file)\n",
    "        writer.writerows(data)"
   ]
  },
  {
   "cell_type": "code",
   "execution_count": 14,
   "outputs": [],
   "source": [],
   "metadata": {
    "collapsed": false,
    "ExecuteTime": {
     "start_time": "2023-04-26T07:08:07.723546Z",
     "end_time": "2023-04-26T07:08:07.742316Z"
    }
   }
  },
  {
   "cell_type": "code",
   "execution_count": 17,
   "metadata": {
    "ExecuteTime": {
     "start_time": "2023-04-26T07:12:51.701970Z",
     "end_time": "2023-04-26T07:14:55.505743Z"
    }
   },
   "outputs": [
    {
     "name": "stdout",
     "output_type": "stream",
     "text": [
      "Minimalny błąd bezwzględny dla węzłów równoodległych: 0.4354391261641133 dla 61 węzłów\n",
      "Minimalny błąd kwadratowy dla węzłów równoodległych: 0.0007898235824220215 dla 61 węzłów\n",
      "Minimalny błąd bezwzględny dla węzłów Czebyszewa: 4.3391156688771595e-14 dla 70 węzłów\n",
      "Minimalny błąd kwadratowy dla węzłów Czebyszewa: 4.228478046844019e-16 dla 70 węzłów\n"
     ]
    }
   ],
   "source": [
    "\n",
    "def lagrange_results_errors():\n",
    "    global given_number_of_nodes\n",
    "    even_abs_nodes = 0\n",
    "    even_abs = 1000\n",
    "\n",
    "    even_square_nodes = 0\n",
    "    even_square = 1000\n",
    "\n",
    "    chebysev_abs_nodes = 0\n",
    "    chebysev_abs = 1000\n",
    "\n",
    "    chebysev_square_nodes = 0\n",
    "    chebysev_square = 1000\n",
    "    csv_header = [\"Liczba węzłów\", \"Równoodległe, błąd maksymalny, \", \"Równoodległe, błąd kwadratowy\",\n",
    "                  \"Czebyszew, błąd maksymalny\", \"Czebyszew, błąd kwadratowy\"]\n",
    "    csv_file = [csv_header]\n",
    "    for number_of_nodes in given_number_of_nodes:\n",
    "        csv_record = [number_of_nodes]\n",
    "        even_nodes = even_domain(x_min=interval_start, x_max=interval_end, number_of_points=number_of_nodes)\n",
    "        chebyshev_nodes = get_chebyshev_zeros(x_min=interval_start, x_max=interval_end,\n",
    "                                              number_of_points=number_of_nodes)\n",
    "        exact_result = []\n",
    "        for i in range(len(base_domain)):\n",
    "            exact_result.append(function_given(base_domain[i]))\n",
    "        lagrange_even_result = interpolate_lagrange(function=function_given, domain=base_domain, x_zeroes=even_nodes)\n",
    "        lagrange_even_abs_error = get_abs_error(exact_result, lagrange_even_result)\n",
    "        if lagrange_even_abs_error < even_abs:\n",
    "            even_abs_nodes = number_of_nodes\n",
    "            even_abs = lagrange_even_abs_error\n",
    "        csv_record.append(lagrange_even_abs_error)\n",
    "        lagrange_even_sqrt_error = get_square_mean_error(exact_result, lagrange_even_result)\n",
    "        if lagrange_even_sqrt_error < even_square:\n",
    "            even_square_nodes = number_of_nodes\n",
    "            even_square = lagrange_even_sqrt_error\n",
    "        csv_record.append(lagrange_even_sqrt_error)\n",
    "\n",
    "        lagrange_chebyshev_result = interpolate_lagrange(function=function_given, domain=base_domain,\n",
    "                                                         x_zeroes=chebyshev_nodes)\n",
    "        lagrange_chebyshev_abs_error = get_abs_error(exact_result, lagrange_chebyshev_result)\n",
    "        if lagrange_chebyshev_abs_error < chebysev_abs:\n",
    "            chebysev_abs_nodes = number_of_nodes\n",
    "            chebysev_abs = lagrange_chebyshev_abs_error\n",
    "        csv_record.append(lagrange_chebyshev_abs_error)\n",
    "        lagrange_chebyshev_sqrt_error = get_square_mean_error(exact_result, lagrange_chebyshev_result)\n",
    "        if lagrange_chebyshev_sqrt_error < chebysev_square:\n",
    "            chebysev_square_nodes = number_of_nodes\n",
    "            chebysev_square = lagrange_chebyshev_sqrt_error\n",
    "        csv_record.append(lagrange_chebyshev_sqrt_error)\n",
    "        csv_file.append(csv_record)\n",
    "\n",
    "    print(f\"Minimalny błąd bezwzględny dla węzłów równoodległych: {even_abs} dla {even_abs_nodes} węzłów\")\n",
    "    print(f\"Minimalny błąd kwadratowy dla węzłów równoodległych: {even_square} dla {even_square_nodes} węzłów\")\n",
    "    print(f\"Minimalny błąd bezwzględny dla węzłów Czebyszewa: {chebysev_abs} dla {chebysev_abs_nodes} węzłów\")\n",
    "    print(f\"Minimalny błąd kwadratowy dla węzłów Czebyszewa: {chebysev_square} dla {chebysev_square_nodes} węzłów\")\n",
    "    save_to_csv(\"errors/lagrange_errors.csv\", csv_file)\n",
    "\n",
    "\n",
    "lagrange_results_errors()\n"
   ]
  },
  {
   "cell_type": "code",
   "execution_count": 21,
   "metadata": {
    "ExecuteTime": {
     "start_time": "2023-04-26T07:33:10.696198Z",
     "end_time": "2023-04-26T07:35:30.029409Z"
    }
   },
   "outputs": [
    {
     "name": "stdout",
     "output_type": "stream",
     "text": [
      "Minimalny błąd bezwzględny dla węzłów równoodległych: 0.9494183612268197 dla 3 węzłów\n",
      "Minimalny błąd kwadratowy dla węzłów równoodległych: 0.014218622609596013 dla 7 węzłów\n",
      "Minimalny błąd bezwzględny dla węzłów Czebyszewa: 0.0018865283732164802 dla 39 węzłów\n",
      "Minimalny błąd kwadratowy dla węzłów Czebyszewa: 1.201045967458498e-05 dla 42 węzłów\n"
     ]
    }
   ],
   "source": [
    "def newton_results_errors():\n",
    "    global given_number_of_nodes\n",
    "    even_abs_nodes = 0\n",
    "    even_abs = 1000\n",
    "\n",
    "    even_square_nodes = 0\n",
    "    even_square = 1000\n",
    "\n",
    "    chebysev_abs_nodes = 0\n",
    "    chebysev_abs = 1000\n",
    "\n",
    "    chebysev_square_nodes = 0\n",
    "    chebysev_square = 1000\n",
    "    csv_header = [\"Liczba węzłów\", \"Równoodległe, błąd maksymalny, \", \"Równoodległe, błąd kwadratowy\",\n",
    "                  \"Czebyszew, błąd maksymalny\", \"Czebyszew, błąd kwadratowy\"]\n",
    "    csv_file = [csv_header]\n",
    "    for number_of_nodes in given_number_of_nodes:\n",
    "        csv_record = [number_of_nodes]\n",
    "        even_nodes = even_domain(x_min=interval_start, x_max=interval_end, number_of_points=number_of_nodes)\n",
    "        chebyshev_nodes = get_chebyshev_zeros(x_min=interval_start, x_max=interval_end,\n",
    "                                              number_of_points=number_of_nodes)\n",
    "        exact_result = []\n",
    "        for i in range(len(base_domain)):\n",
    "            exact_result.append(function_given(base_domain[i]))\n",
    "\n",
    "        newton_even_result = interpolate_newton(function=function_given, domain=base_domain, x_zeroes=even_nodes)\n",
    "        newton_even_abs_error = get_abs_error(exact_result, newton_even_result)\n",
    "        if newton_even_abs_error < even_abs:\n",
    "            even_abs_nodes = number_of_nodes\n",
    "            even_abs = newton_even_abs_error\n",
    "        csv_record.append(newton_even_abs_error)\n",
    "        newton_even_sqrt_error = get_square_mean_error(exact_result, newton_even_result)\n",
    "        if newton_even_sqrt_error < even_square:\n",
    "            even_square_nodes = number_of_nodes\n",
    "            even_square = newton_even_sqrt_error\n",
    "        csv_record.append(newton_even_sqrt_error)\n",
    "\n",
    "        newton_chebyshev_result = interpolate_newton(function=function_given, domain=base_domain,\n",
    "                                                     x_zeroes=chebyshev_nodes)\n",
    "        newton_chebyshev_abs_error = get_abs_error(exact_result, newton_chebyshev_result)\n",
    "        if newton_chebyshev_abs_error < chebysev_abs:\n",
    "            chebysev_abs_nodes = number_of_nodes\n",
    "            chebysev_abs = newton_chebyshev_abs_error\n",
    "        csv_record.append(newton_chebyshev_abs_error)\n",
    "        newton_chebyshev_sqrt_error = get_square_mean_error(exact_result, newton_chebyshev_result)\n",
    "        if newton_chebyshev_sqrt_error < chebysev_square:\n",
    "            chebysev_square_nodes = number_of_nodes\n",
    "            chebysev_square = newton_chebyshev_sqrt_error\n",
    "        csv_record.append(newton_chebyshev_sqrt_error)\n",
    "        csv_file.append(csv_record)\n",
    "    print(f\"Minimalny błąd bezwzględny dla węzłów równoodległych: {even_abs} dla {even_abs_nodes} węzłów\")\n",
    "    print(f\"Minimalny błąd kwadratowy dla węzłów równoodległych: {even_square} dla {even_square_nodes} węzłów\")\n",
    "    print(f\"Minimalny błąd bezwzględny dla węzłów Czebyszewa: {chebysev_abs} dla {chebysev_abs_nodes} węzłów\")\n",
    "    print(f\"Minimalny błąd kwadratowy dla węzłów Czebyszewa: {chebysev_square} dla {chebysev_square_nodes} węzłów\")\n",
    "    save_to_csv(\"errors/newton_errors.csv\", csv_file)\n",
    "\n",
    "\n",
    "newton_results_errors()"
   ]
  },
  {
   "cell_type": "code",
   "execution_count": null,
   "outputs": [],
   "source": [],
   "metadata": {
    "collapsed": false
   }
  }
 ],
 "metadata": {
  "colab": {
   "provenance": []
  },
  "kernelspec": {
   "display_name": "Python 3 (ipykernel)",
   "language": "python",
   "name": "python3"
  },
  "language_info": {
   "codemirror_mode": {
    "name": "ipython",
    "version": 3
   },
   "file_extension": ".py",
   "mimetype": "text/x-python",
   "name": "python",
   "nbconvert_exporter": "python",
   "pygments_lexer": "ipython3",
   "version": "3.9.13"
  }
 },
 "nbformat": 4,
 "nbformat_minor": 1
}
