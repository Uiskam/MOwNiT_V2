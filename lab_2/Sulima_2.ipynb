{
 "cells": [
  {
   "cell_type": "code",
   "execution_count": null,
   "metadata": {
    "id": "347Mub5mJ1m1"
   },
   "outputs": [],
   "source": [
    "import numpy as np\n",
    "import matplotlib.pyplot as plt"
   ]
  },
  {
   "cell_type": "markdown",
   "metadata": {},
   "source": [
    "**Równomierna dystrybucja**"
   ]
  },
  {
   "cell_type": "code",
   "execution_count": null,
   "metadata": {},
   "outputs": [],
   "source": [
    "def even_domain(x_min, x_max, number_of_points):\n",
    "    return np.linspace(x_min, x_max, number_of_points, dtype=np.double)"
   ]
  },
  {
   "cell_type": "markdown",
   "metadata": {},
   "source": [
    "**Zera wielomianu Czebyszewa**"
   ]
  },
  {
   "cell_type": "code",
   "execution_count": null,
   "metadata": {},
   "outputs": [],
   "source": [
    "def get_chebyshev_zeros(x_min=None, x_max=None, number_of_points=None):\n",
    "    if x_min is None and x_max is not None or x_min is not None and x_max is None:\n",
    "        raise ValueError(\"x_min and x_max must be both None or both not None\")\n",
    "    chebyshev_zeroes = np.array(0, dtype=np.double)\n",
    "    for k in range(number_of_points):\n",
    "        cur_zero = np.cos((2*k+1)*np.pi/(2*number_of_points))\n",
    "        if x_min is not None and x_max is not None:\n",
    "            cur_zero = (x_max - x_min)/2 * cur_zero + (x_max + x_min)/2\n",
    "        chebyshev_zeroes = np.append(chebyshev_zeroes, cur_zero)\n",
    "    return chebyshev_zeroes"
   ]
  },
  {
   "cell_type": "markdown",
   "metadata": {},
   "source": [
    "**Interpolacja Lagrange'a**"
   ]
  },
  {
   "cell_type": "code",
   "execution_count": null,
   "metadata": {},
   "outputs": [],
   "source": [
    "def lagrange_interpolation(function, x, x_zeroes):\n",
    "    def Lk(k, x):\n",
    "        nonlocal n\n",
    "        d = 1\n",
    "        for i in range(n):\n",
    "            if i != k:\n",
    "                d *= (x - x_zeroes[i])\n",
    "        m = 1\n",
    "        for i in range(n):\n",
    "            if i != k:\n",
    "                m *= (x_zeroes[k] - x_zeroes[i])\n",
    "        return d/m\n",
    "\n",
    "    Pn = 0\n",
    "    n = len(x_zeroes)\n",
    "    for k in range(n):\n",
    "        Pn += Lk(k, x) * function(x_zeroes[k])\n",
    "    return Pn\n",
    "\n",
    "\n",
    "def interpolate_lagrange(function, domain, x_zeroes):\n",
    "    result = []\n",
    "    for i in range(len(domain)):\n",
    "        result.append(lagrange_interpolation(function=function, x=domain[i], x_zeroes=x_zeroes))\n",
    "    return result"
   ]
  },
  {
   "cell_type": "markdown",
   "metadata": {},
   "source": [
    "**Interpolacja Newtona**"
   ]
  },
  {
   "cell_type": "code",
   "execution_count": null,
   "metadata": {},
   "outputs": [],
   "source": [
    "def newton_interpolation(function, x, x_zeroes):\n",
    "    n = len(x_zeroes)\n",
    "    def get_difference_quotient_table():\n",
    "        nonlocal function\n",
    "        nonlocal x_zeroes\n",
    "        nonlocal n\n",
    "        table = np.zeros((n,n), dtype=np.double)\n",
    "        for i in range(n):\n",
    "            table[i][0] = function(x_zeroes[i])\n",
    "        for j in range(1, n):\n",
    "            for i in range(n-j):\n",
    "                table[i][j] = (table[i+1][j-1] - table[i][j-1])/(x_zeroes[i+j] - x_zeroes[i])\n",
    "        return table\n",
    "    difference_quotient_table = get_difference_quotient_table()\n",
    "    Pn = 0\n",
    "    for k in range(0, n):\n",
    "        cur_number = difference_quotient_table[0][k]\n",
    "        for i in range(0, k):\n",
    "            cur_number *= (x - x_zeroes[i])\n",
    "        Pn +=  cur_number\n",
    "    return Pn"
   ]
  },
  {
   "cell_type": "markdown",
   "metadata": {
    "id": "sRaAYUbYJcL8"
   },
   "source": [
    "**Wizualizacja**"
   ]
  },
  {
   "cell_type": "code",
   "execution_count": null,
   "metadata": {
    "id": "TbbTIwyFJeNW"
   },
   "outputs": [],
   "source": [
    "def visualise(domain=None, nodes_x=None, nodes_y=None, f_y=None, Pn_x=None, mode=None, x_size=8, y_size=6, filename=None):\n",
    "    '''\n",
    "    :param domain: array of float64, of x coordinates of points to visualise\n",
    "    :param nodes_x: array of x coordinates of nodes\n",
    "    :param nodes_y: array of f(x) for each x in nodes_x\n",
    "    :param f_y: array of f(x) for each x in domain\n",
    "    :param Pn_x: array of Pn(x) for each x in domain\n",
    "    :param mode: \"lagrange\" or \"newton\" or \"impo\"\n",
    "    :param x_size: size of a figure in x axis\n",
    "    :param y_size: size of a figure in y axis\n",
    "    :param filename: name of a file to save a figure\n",
    "    :return: None\n",
    "    '''\n",
    "    plt.figure(figsize=(x_size, y_size))\n",
    "    if nodes_x is not None and nodes_y is not None:\n",
    "        plt.scatter(nodes_x, nodes_y, label = \"Węzły\", color = \"green\")\n",
    "    if f_y is not None:\n",
    "        plt.plot(domain, f_y, label = \"Zadana funckcja\", color = \"blue\")\n",
    "\n",
    "    if mode == \"lagrange\":\n",
    "        plt.plot(domain, Pn_x, label = \"Interpolacja Lagrange'a\", color = \"red\")\n",
    "    elif mode == \"newton\":\n",
    "        plt.plot(domain, Pn_x, label = \"Interpolacja Newtona\", color = \"red\")\n",
    "    plt.xlabel(\"x\")\n",
    "    plt.ylabel(\"y\")\n",
    "    plt.legend()\n",
    "    if filename is not None:\n",
    "        plt.savefig(f\"plots/{filename}.png\", dpi=300, format='png')\n",
    "    plt.show()\n"
   ]
  },
  {
   "cell_type": "markdown",
   "metadata": {},
   "source": [
    "**Implementacja funkcji do laboratorium**"
   ]
  },
  {
   "cell_type": "code",
   "execution_count": null,
   "metadata": {},
   "outputs": [],
   "source": [
    "pi = np.double(np.pi)\n",
    "interval_start = -2*pi\n",
    "interval_end = pi\n",
    "base_domain = np.arange(interval_start, interval_end, 0.01)\n",
    "\n",
    "def function_given(x):\n",
    "    m = 2\n",
    "    k = 2\n",
    "    global pi\n",
    "    return np.sin(m * x) * np.sin(k * (x * x)/ pi)\n",
    "\n",
    "function_given_values = []\n",
    "for random_name in range(len(base_domain)):\n",
    "    function_given_values.append(function_given(base_domain[random_name]))\n",
    "\n",
    "def get_function_values(X):\n",
    "    result = np.zeros(len(X), dtype=np.double)\n",
    "    for i in range(len(X)):\n",
    "        result[i] = function_given(X[i])\n",
    "    return result\n",
    "\n",
    "def get_abs_error(f1, f2):\n",
    "    max_error = -1\n",
    "    if len(f1) != len(f2):\n",
    "        raise Exception(\"f1 and f2 must have the same length\")\n",
    "    for i in range(len(f1)):\n",
    "        max_error = max(max_error, abs(f1[i] - f2[i]))\n",
    "    return max_error\n",
    "\n",
    "def get_square_mean_error(f1, f2):\n",
    "    error_sum = 0\n",
    "    if len(f1) != len(f2):\n",
    "        raise Exception(\"f1 and f2 must have the same length\")\n",
    "    for i in range(len(f1)):\n",
    "        error_sum += (f1[i] - f2[i])**2\n",
    "    return np.sqrt(error_sum) / len(f1)\n",
    "\n",
    "def visualise_lagrange(number_of_nodes, domain, function, nodes_distribution_mode = \"even\", filename=None):\n",
    "    nodes_x = None\n",
    "    if nodes_distribution_mode == \"even\":\n",
    "        nodes_x = even_domain(x_min=interval_start, x_max=interval_end, number_of_points=number_of_nodes)\n",
    "    elif nodes_distribution_mode == \"chebyshev\":\n",
    "        nodes_x = get_chebyshev_zeros(x_min=interval_start, x_max=interval_end, number_of_points=number_of_nodes)\n",
    "    nodes_y = []\n",
    "    for i in range(len(nodes_x)):\n",
    "        nodes_y.append(function(nodes_x[i]))\n",
    "    own_lagrange_values = interpolate_lagrange(function=function, domain=domain, x_zeroes=nodes_x)\n",
    "    visualise(domain=base_domain, nodes_x=nodes_x, nodes_y=nodes_y, f_y=function_given_values, Pn_x=own_lagrange_values, mode=\"lagrange\", filename=filename)\n",
    "\n",
    "def visualise_newton(number_of_nodes, domain, function, nodes_distribution_mode = \"even\", filename=None):\n",
    "    nodes_x = None\n",
    "    if nodes_distribution_mode == \"even\":\n",
    "        nodes_x = even_domain(x_min=interval_start, x_max=interval_end, number_of_points=number_of_nodes)\n",
    "    elif nodes_distribution_mode == \"chebyshev\":\n",
    "        nodes_x = get_chebyshev_zeros(x_min=interval_start, x_max=interval_end, number_of_points=number_of_nodes)\n",
    "    nodes_y = []\n",
    "    for i in range(len(nodes_x)):\n",
    "        nodes_y.append(function(nodes_x[i]))\n",
    "    newton_values = []\n",
    "    for i in range(len(domain)):\n",
    "        newton_values.append(newton_interpolation(function=function, x=domain[i], x_zeroes=nodes_x))\n",
    "    visualise(domain=base_domain, nodes_x=nodes_x, nodes_y=nodes_y, f_y=function_given_values, Pn_x=newton_values, mode=\"newton\", filename=filename)"
   ]
  },
  {
   "cell_type": "markdown",
   "metadata": {},
   "source": [
    "**Wykonanie ćwiczenia**"
   ]
  },
  {
   "cell_type": "code",
   "execution_count": null,
   "metadata": {},
   "outputs": [],
   "source": [
    "visualise(base_domain, None, None, function_given_values)"
   ]
  },
  {
   "cell_type": "markdown",
   "metadata": {},
   "source": []
  },
  {
   "cell_type": "code",
   "execution_count": null,
   "metadata": {},
   "outputs": [],
   "source": [
    "given_number_of_nodes = [3, 4, 5, 7, 10, 15, 20, 25, 50]\n",
    "def get_all_visualisations(number):\n",
    "    print(\"Liczba węzłów: \", number)\n",
    "    even_nodes = even_domain(x_min=interval_start, x_max=interval_end, number_of_points=number)\n",
    "    chebyshev_nodes = get_chebyshev_zeros(x_min=interval_start, x_max=interval_end, number_of_points=number)\n",
    "    print(\"Wizualizacja Lagrange, węzły równoodległe\")\n",
    "    visualise_lagrange(number_of_nodes=number,\n",
    "                       domain=base_domain,\n",
    "                       function=function_given,\n",
    "                       nodes_distribution_mode=\"even\",\n",
    "                       filename=f\"lagrange_{number}_even\")\n",
    "    print(\"Wizualizacja Lagrange, węzły Czebyszewa\")\n",
    "    visualise_lagrange(number_of_nodes=number,\n",
    "                       domain=base_domain,\n",
    "                       function=function_given,\n",
    "                       nodes_distribution_mode=\"chebyshev\",\n",
    "                       filename=f\"lagrange_{number}_chebyshev\")\n",
    "    print(\"Wizualizacja Newtona, węzły równoodległe\")\n",
    "    visualise_newton(number_of_nodes=number,\n",
    "                     domain=base_domain,\n",
    "                     function=function_given,\n",
    "                     nodes_distribution_mode=\"even\",\n",
    "                     filename=f\"newton_{number}_even\")\n",
    "    print(\"Wizualizacja Newtona, węzły Czebyszewa\")\n",
    "    visualise_newton(number_of_nodes=number,\n",
    "                     domain=base_domain,\n",
    "                     function=function_given,\n",
    "                     nodes_distribution_mode=\"chebyshev\",\n",
    "                     filename=f\"newton_{number}_chebyshev\")\n",
    "for number in given_number_of_nodes:\n",
    "    get_all_visualisations(number)"
   ]
  },
  {
   "cell_type": "code",
   "execution_count": null,
   "metadata": {},
   "outputs": [],
   "source": [
    "import csv\n",
    "def save_to_csv(filename, data):\n",
    "    with open(filename, 'w', newline='') as file:\n",
    "        writer = csv.writer(file)\n",
    "        writer.writerows(data)"
   ]
  },
  {
   "cell_type": "code",
   "execution_count": null,
   "metadata": {},
   "outputs": [],
   "source": [
    "def lagrange_results_errors():\n",
    "    global given_number_of_nodes\n",
    "    csv_header = [\"Liczba węzłów\", \"Równoodległe, błąd maksymalny, \", \"Równoodległe, błąd kwadratowy\",\n",
    "                  \"Czebyszew, błąd maksymalny\", \"Czebyszew, błąd kwadratowy\"]\n",
    "    csv_file = [csv_header]\n",
    "    for number_of_nodes in given_number_of_nodes:\n",
    "        csv_record = [number_of_nodes]\n",
    "        even_nodes = even_domain(x_min=interval_start, x_max=interval_end, number_of_points=number_of_nodes)\n",
    "        chebyshev_nodes = get_chebyshev_zeros(x_min=interval_start, x_max=interval_end, number_of_points=number_of_nodes)\n",
    "        exact_result = []\n",
    "        for i in range(len(base_domain)):\n",
    "            exact_result.append(function_given(base_domain[i]))\n",
    "        lagrange_even_result = interpolate_lagrange(function=function_given, domain=base_domain, x_zeroes=even_nodes)\n",
    "        lagrange_even_abs_error = get_abs_error(exact_result, lagrange_even_result)\n",
    "        csv_record.append(lagrange_even_abs_error)\n",
    "        lagrange_even_sqrt_error = get_square_mean_error(exact_result, lagrange_even_result)\n",
    "        csv_record.append(lagrange_even_sqrt_error)\n",
    "\n",
    "        lagrange_chebyshev_result = interpolate_lagrange(function=function_given, domain=base_domain, x_zeroes=chebyshev_nodes)\n",
    "        lagrange_chebyshev_abs_error = get_abs_error(exact_result, lagrange_chebyshev_result)\n",
    "        csv_record.append(lagrange_chebyshev_abs_error)\n",
    "        lagrange_chebyshev_sqrt_error = get_square_mean_error(exact_result, lagrange_chebyshev_result)\n",
    "        csv_record.append(lagrange_chebyshev_sqrt_error)\n",
    "        csv_file.append(csv_record)\n",
    "\n",
    "    save_to_csv(\"errors/lagrange_errors.csv\", csv_file)\n",
    "lagrange_results_errors()"
   ]
  },
  {
   "cell_type": "code",
   "execution_count": null,
   "metadata": {},
   "outputs": [],
   "source": [
    "def newton_results_errors():\n",
    "    global  given_number_of_nodes\n",
    "    csv_header = [\"Liczba węzłów\", \"Równoodległe, błąd maksymalny, \", \"Równoodległe, błąd kwadratowy\",\n",
    "                  \"Czebyszew, błąd maksymalny\", \"Czebyszew, błąd kwadratowy\"]\n",
    "    csv_file = [csv_header]\n",
    "    for number_of_nodes in given_number_of_nodes:\n",
    "        csv_record = [number_of_nodes]\n",
    "        even_nodes = even_domain(x_min=interval_start, x_max=interval_end, number_of_points=number_of_nodes)\n",
    "        chebyshev_nodes = get_chebyshev_zeros(x_min=interval_start, x_max=interval_end, number_of_points=number_of_nodes)\n",
    "        exact_result = []\n",
    "        for i in range(len(base_domain)):\n",
    "            exact_result.append(function_given(base_domain[i]))\n",
    "\n",
    "        newton_even_result = []\n",
    "        for i in range(len(base_domain)):\n",
    "            newton_even_result.append(newton_interpolation(function=function_given, x=base_domain[i], x_zeroes=even_nodes))\n",
    "        newton_even_abs_error = get_abs_error(exact_result, newton_even_result)\n",
    "        csv_record.append(newton_even_abs_error)\n",
    "        newton_even_sqrt_error = get_square_mean_error(exact_result, newton_even_result)\n",
    "        csv_record.append(newton_even_sqrt_error)\n",
    "\n",
    "        newton_chebyshev_result = []\n",
    "        for i in range(len(base_domain)):\n",
    "            newton_chebyshev_result.append(newton_interpolation(function=function_given, x=base_domain[i], x_zeroes=chebyshev_nodes))\n",
    "        newton_chebyshev_abs_error = get_abs_error(exact_result, newton_chebyshev_result)\n",
    "        csv_record.append(newton_chebyshev_abs_error)\n",
    "        newton_chebyshev_sqrt_error = get_square_mean_error(exact_result, newton_chebyshev_result)\n",
    "        csv_record.append(newton_chebyshev_sqrt_error)\n",
    "        csv_file.append(csv_record)\n",
    "\n",
    "    save_to_csv(\"errors/newton_errors.csv\", csv_file)\n",
    "newton_results_errors()"
   ]
  },
  {
   "cell_type": "markdown",
   "metadata": {},
   "source": []
  }
 ],
 "metadata": {
  "colab": {
   "provenance": []
  },
  "kernelspec": {
   "display_name": "Python 3 (ipykernel)",
   "language": "python",
   "name": "python3"
  },
  "language_info": {
   "codemirror_mode": {
    "name": "ipython",
    "version": 3
   },
   "file_extension": ".py",
   "mimetype": "text/x-python",
   "name": "python",
   "nbconvert_exporter": "python",
   "pygments_lexer": "ipython3",
   "version": "3.9.13"
  }
 },
 "nbformat": 4,
 "nbformat_minor": 1
}
