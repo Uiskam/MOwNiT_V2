{
 "cells": [
  {
   "cell_type": "code",
   "execution_count": null,
   "metadata": {
    "ExecuteTime": {
     "end_time": "2023-04-26T04:24:17.007796Z",
     "start_time": "2023-04-26T04:24:16.983798Z"
    },
    "id": "347Mub5mJ1m1"
   },
   "outputs": [],
   "source": [
    "import numpy as np\n",
    "import matplotlib.pyplot as plt\n",
    "import os\n",
    "from scipy import interpolate"
   ]
  },
  {
   "cell_type": "code",
   "execution_count": null,
   "metadata": {
    "ExecuteTime": {
     "end_time": "2023-04-26T04:24:17.398443Z",
     "start_time": "2023-04-26T04:24:17.367436Z"
    },
    "collapsed": false
   },
   "outputs": [],
   "source": [
    "def create_folder_if_not_exists(folder_path):\n",
    "    if not os.path.exists(folder_path):\n",
    "        os.makedirs(folder_path)\n",
    "        print(f\"Folder {folder_path} created successfully.\")\n",
    "    else:\n",
    "        print(f\"Folder {folder_path} already exists.\")\n",
    "\n",
    "\n",
    "create_folder_if_not_exists(\"plots\")\n",
    "create_folder_if_not_exists(\"errors\")\n",
    "\n",
    "pi = np.double(np.pi)\n",
    "interval_start = -2 * pi\n",
    "interval_end = pi\n",
    "base_domain = np.arange(interval_start, interval_end, 0.01)\n",
    "\n",
    "\n",
    "def function_given(x):\n",
    "    m = 2\n",
    "    k = 2\n",
    "    global pi\n",
    "    return np.sin(m * x) * np.sin(k * (x * x) / pi)\n",
    "\n",
    "\n",
    "def first_derivative(x):\n",
    "    m = 2\n",
    "    k = 2\n",
    "    global pi\n",
    "    return 2 * k * x * np.cos(k * x ** 2 / pi) * np.sin(m * x) / pi + m * np.sin(k * x ** 2 / pi) * np.cos(m * x)"
   ]
  },
  {
   "cell_type": "markdown",
   "metadata": {},
   "source": [
    "**Równomierna dystrybucja**"
   ]
  },
  {
   "cell_type": "code",
   "execution_count": null,
   "metadata": {
    "ExecuteTime": {
     "end_time": "2023-04-26T04:24:17.678755Z",
     "start_time": "2023-04-26T04:24:17.640590Z"
    }
   },
   "outputs": [],
   "source": [
    "def even_domain(x_min, x_max, number_of_points):\n",
    "    return np.linspace(x_min, x_max, number_of_points, dtype=np.double)"
   ]
  },
  {
   "cell_type": "markdown",
   "metadata": {},
   "source": [
    "**Zera wielomianu Czebyszewa**"
   ]
  },
  {
   "cell_type": "code",
   "execution_count": null,
   "metadata": {
    "ExecuteTime": {
     "end_time": "2023-04-26T04:24:17.997895Z",
     "start_time": "2023-04-26T04:24:17.979891Z"
    }
   },
   "outputs": [],
   "source": [
    "def get_chebyshev_zeros(x_min=None, x_max=None, number_of_points=None):\n",
    "    if x_min is None and x_max is not None or x_min is not None and x_max is None:\n",
    "        raise ValueError(\"x_min and x_max must be both None or both not None\")\n",
    "    chebyshev_zeroes = np.array(0, dtype=np.double)\n",
    "    for k in range(number_of_points):\n",
    "        cur_zero = np.cos((2 * k + 1) * np.pi / (2 * number_of_points))\n",
    "        if x_min is not None and x_max is not None:\n",
    "            cur_zero = (x_max - x_min) / 2 * cur_zero + (x_max + x_min) / 2\n",
    "        chebyshev_zeroes = np.append(chebyshev_zeroes, cur_zero)\n",
    "    return chebyshev_zeroes[1:]"
   ]
  },
  {
   "cell_type": "markdown",
   "metadata": {
    "id": "sRaAYUbYJcL8"
   },
   "source": [
    "**Wizualizacja**"
   ]
  },
  {
   "cell_type": "code",
   "execution_count": null,
   "metadata": {
    "ExecuteTime": {
     "end_time": "2023-04-26T04:24:18.340343Z",
     "start_time": "2023-04-26T04:24:18.321329Z"
    },
    "id": "TbbTIwyFJeNW"
   },
   "outputs": [],
   "source": [
    "def visualise(domain=None, nodes_x=None, nodes_y=None, f_y=None, Pn_x=None, title=None, x_size=8, y_size=6,\n",
    "              filename=None):\n",
    "    '''\n",
    "    :param domain: array of float64, of x coordinates of points to visualise\n",
    "    :param nodes_x: array of x coordinates of nodes\n",
    "    :param nodes_y: array of f(x) for each x in nodes_x\n",
    "    :param f_y: array of f(x) for each x in domain\n",
    "    :param Pn_x: array of Pn(x) for each x in domain\n",
    "    :param title: a string\n",
    "    :param x_size: size of a figure in x axis\n",
    "    :param y_size: size of a figure in y axis\n",
    "    :param filename: name of a file to save a figure\n",
    "    :return: None\n",
    "    '''\n",
    "    plt.figure(figsize=(x_size, y_size))\n",
    "    if nodes_x is not None and nodes_y is not None:\n",
    "        plt.scatter(nodes_x, nodes_y, label=\"Węzły\", color=\"green\")\n",
    "    if f_y is not None:\n",
    "        plt.plot(domain, f_y, label=\"Zadana funckcja\", color=\"blue\")\n",
    "\n",
    "    if title is not None:\n",
    "        plt.plot(domain, Pn_x, label=title, color=\"red\")\n",
    "    plt.xlabel(\"x\")\n",
    "    plt.ylabel(\"y\")\n",
    "    plt.legend()\n",
    "    if filename is not None:\n",
    "        plt.savefig(f\"plots/{filename}.png\", dpi=300, format='png')\n",
    "    plt.show()"
   ]
  },
  {
   "cell_type": "markdown",
   "metadata": {},
   "source": [
    "**Implementacja funkcji do laboratorium**"
   ]
  },
  {
   "cell_type": "code",
   "execution_count": null,
   "metadata": {
    "ExecuteTime": {
     "end_time": "2023-04-26T04:24:18.684818Z",
     "start_time": "2023-04-26T04:24:18.676819Z"
    }
   },
   "outputs": [],
   "source": [
    "function_given_values = []\n",
    "for random_name in range(len(base_domain)):\n",
    "    function_given_values.append(function_given(base_domain[random_name]))\n",
    "\n",
    "\n",
    "def get_function_values(X):\n",
    "    result = np.zeros(len(X), dtype=np.double)\n",
    "    for i in range(len(X)):\n",
    "        result[i] = function_given(X[i])\n",
    "    return result\n",
    "\n",
    "\n",
    "def get_abs_error(f1, f2):\n",
    "    max_error = -1\n",
    "    if len(f1) != len(f2):\n",
    "        raise Exception(\"f1 and f2 must have the same length\")\n",
    "    for i in range(len(f1)):\n",
    "        max_error = max(max_error, abs(f1[i] - f2[i]))\n",
    "    return max_error\n",
    "\n",
    "\n",
    "def get_square_mean_error(f1, f2):\n",
    "    error_sum = 0\n",
    "    if len(f1) != len(f2):\n",
    "        raise Exception(\"f1 and f2 must have the same length\")\n",
    "    for i in range(len(f1)):\n",
    "        error_sum += (f1[i] - f2[i]) ** 2\n",
    "    return np.sqrt(error_sum) / len(f1)"
   ]
  },
  {
   "cell_type": "markdown",
   "metadata": {
    "collapsed": false
   },
   "source": [
    "**Spline za pomocą funkcji kwadratowej**"
   ]
  },
  {
   "cell_type": "code",
   "execution_count": null,
   "metadata": {
    "ExecuteTime": {
     "end_time": "2023-04-26T04:24:19.049214Z",
     "start_time": "2023-04-26T04:24:19.028198Z"
    },
    "collapsed": false
   },
   "outputs": [],
   "source": [
    "def get_value_of_square_interpolation(function, x_zeroes, x, mode, coefs):\n",
    "    coef_idx = 0\n",
    "    right_end = x_zeroes[1]\n",
    "    while x > right_end:\n",
    "        coef_idx += 1\n",
    "        right_end = x_zeroes[coef_idx + 1]\n",
    "    return coefs[0][coef_idx] + coefs[1][coef_idx] * (x - x_zeroes[coef_idx]) + coefs[2][coef_idx] * (\n",
    "            x - x_zeroes[coef_idx]) ** 2\n",
    "\n",
    "\n",
    "def square_spline(function, domain, x_zeroes, mode):\n",
    "    def get_coefficients():\n",
    "        nonlocal x_zeroes\n",
    "        nonlocal function\n",
    "        nonlocal mode\n",
    "        n = len(x_zeroes)\n",
    "        a = [function(x_zeroes[i]) for i in range(n - 1)]\n",
    "        sigmas = [None]\n",
    "        for i in range(1, n):\n",
    "            sigma = (function(x_zeroes[i]) - function(x_zeroes[i - 1])) / (x_zeroes[i] - x_zeroes[i - 1])\n",
    "            sigmas.append(sigma)\n",
    "        b = None\n",
    "        c = None\n",
    "        if mode == 'natural':\n",
    "            c = [0]\n",
    "            b = [sigmas[1], sigmas[1]]\n",
    "            for i in range(2, n):\n",
    "                new_b = 2 * sigmas[i] - b[i - 1]\n",
    "                b.append(new_b)\n",
    "            for i in range(1, n - 1):\n",
    "                c.append((b[i + 1] - b[i]) / (2 * (x_zeroes[i + 1] - x_zeroes[i])))\n",
    "\n",
    "        elif mode == 'clamped':\n",
    "            b = [0]\n",
    "            for i in range(1, n):\n",
    "                new_b = 2 * sigmas[i] - b[i - 1]\n",
    "                b.append(new_b)\n",
    "            c = []\n",
    "            for i in range(n - 1):\n",
    "                c.append((b[i + 1] - b[i]) / (2 * (x_zeroes[i + 1] - x_zeroes[i])))\n",
    "\n",
    "        return [a, b, c]\n",
    "\n",
    "    coefs = get_coefficients()\n",
    "    result = []\n",
    "    for j in range(len(domain)):\n",
    "        result.append(get_value_of_square_interpolation(function, x_zeroes, domain[j], mode, coefs))\n",
    "    return result\n",
    "\n",
    "\n",
    "def visualise_square(number_of_nodes, domain, function, mode, filename=None):\n",
    "    nodes_x = even_domain(x_min=interval_start, x_max=interval_end, number_of_points=number_of_nodes)\n",
    "    nodes_y = []\n",
    "    for i in range(len(nodes_x)):\n",
    "        nodes_y.append(function(nodes_x[i]))\n",
    "    own_spline_natural = square_spline(function=function,\n",
    "                                       domain=domain,\n",
    "                                       x_zeroes=nodes_x,\n",
    "                                       mode=mode)\n",
    "    visualise(domain=base_domain, nodes_x=nodes_x, nodes_y=nodes_y, f_y=function_given_values, Pn_x=own_spline_natural,\n",
    "              title=f\"square spline with {mode} boundary\", filename=filename)"
   ]
  },
  {
   "cell_type": "markdown",
   "metadata": {
    "collapsed": false
   },
   "source": [
    "**Spline za pomocą funkcji sześciennej**"
   ]
  },
  {
   "cell_type": "code",
   "execution_count": null,
   "metadata": {
    "ExecuteTime": {
     "end_time": "2023-04-26T04:24:19.385740Z",
     "start_time": "2023-04-26T04:24:19.369719Z"
    },
    "collapsed": false
   },
   "outputs": [],
   "source": [
    "def cubic_spline(function, domain, x_zeroes, mode):\n",
    "    def y(x):\n",
    "        return function(x)\n",
    "\n",
    "    def h(i):\n",
    "        return x_zeroes[i + 1] - x_zeroes[i]\n",
    "\n",
    "    def solve():\n",
    "        nonlocal x_zeroes\n",
    "        nonlocal function\n",
    "        nonlocal mode\n",
    "        nonlocal y\n",
    "        nonlocal h\n",
    "        n = len(x_zeroes)\n",
    "\n",
    "        def delta(i):\n",
    "            return (y(x_zeroes[i + 1]) - y(x_zeroes[i])) / h(i)\n",
    "\n",
    "        def second_delta(i):\n",
    "            return (delta(i + 1) - delta(i)) / x_zeroes[i + 2] - x_zeroes[i]\n",
    "\n",
    "        def third_delta(i):\n",
    "            return (second_delta(i + 1) - second_delta(i)) / x_zeroes[i + 3] - x_zeroes[i]\n",
    "\n",
    "        A = np.zeros(shape=(n, n))\n",
    "        B = np.zeros(shape=(n, 1))\n",
    "        for i in range(1, n - 1):\n",
    "            A[i][i - 1] = h(i - 1)\n",
    "            A[i][i] = 2 * (h(i - 1) + h(i))\n",
    "            A[i][i + 1] = h(i)\n",
    "            B[i] = delta(i) - delta(i - 1)\n",
    "\n",
    "        sigmas = None\n",
    "        if mode == 'cubic':\n",
    "            A[0][0] = -h(0)\n",
    "            A[0][1] = h(0)\n",
    "            A[n - 1][n - 2] = h(n - 2)\n",
    "            A[n - 1][n - 1] = -h(n - 2)\n",
    "\n",
    "            B[0] = np.power(h(0), 2) * third_delta(0)\n",
    "            B[n - 1] = -np.power(h(n - 2), 2) * third_delta(n - 4)\n",
    "            sigmas = np.linalg.solve(A, B)\n",
    "        elif mode == 'free':\n",
    "            A = A[1:-1, 1:-1]\n",
    "            B = B[1:-1]\n",
    "            sigmas = [0, *np.linalg.solve(A, B), 0]\n",
    "        else:\n",
    "            raise Exception(\"Unknown mode\")\n",
    "        return sigmas\n",
    "\n",
    "    sigmas = solve()\n",
    "    if sigmas is None:\n",
    "        raise Exception(\"Sigmas is None\")\n",
    "    result = []\n",
    "    for j in domain:\n",
    "        i = 0\n",
    "        right_end = x_zeroes[1]\n",
    "        while j > right_end:\n",
    "            i += 1\n",
    "            right_end = x_zeroes[i + 1]\n",
    "\n",
    "        a = function(x_zeroes[i])\n",
    "        b = (y(x_zeroes[i + 1]) - y(x_zeroes[i])) / h(i) - h(i) * (sigmas[i + 1] + 2 * sigmas[i])\n",
    "        c = 3 * sigmas[i]\n",
    "        d = (sigmas[i + 1] - sigmas[i]) / h(i)\n",
    "        result.append(a + b * (j - x_zeroes[i]) + c * np.power(j - x_zeroes[i], 2) + d * np.power(j - x_zeroes[i], 3))\n",
    "    #flatten result array\n",
    "    result = [item for sublist in result for item in sublist]\n",
    "    return result\n",
    "\n",
    "\n",
    "def visualise_cubic(number_of_nodes, domain, function, mode, filename=None):\n",
    "    nodes_x = even_domain(x_min=interval_start, x_max=interval_end, number_of_points=number_of_nodes)\n",
    "    nodes_y = []\n",
    "    for i in range(len(nodes_x)):\n",
    "        nodes_y.append(function(nodes_x[i]))\n",
    "    own_spline_natural = cubic_spline(function=function,\n",
    "                                      domain=domain,\n",
    "                                      x_zeroes=nodes_x,\n",
    "                                      mode=mode)\n",
    "    visualise(domain=base_domain, nodes_x=nodes_x, nodes_y=nodes_y, f_y=function_given_values, Pn_x=own_spline_natural,\n",
    "              title=f\"cubic spline with {mode} boundary\", filename=filename)"
   ]
  },
  {
   "cell_type": "markdown",
   "metadata": {},
   "source": [
    "**Wykonanie ćwiczenia**"
   ]
  },
  {
   "cell_type": "code",
   "execution_count": null,
   "metadata": {
    "ExecuteTime": {
     "end_time": "2023-04-26T04:24:19.848363Z",
     "start_time": "2023-04-26T04:24:19.694300Z"
    }
   },
   "outputs": [],
   "source": [
    "visualise(base_domain, None, None, function_given_values)"
   ]
  },
  {
   "cell_type": "code",
   "execution_count": null,
   "metadata": {
    "ExecuteTime": {
     "end_time": "2023-04-26T03:27:10.180658Z",
     "start_time": "2023-04-26T03:26:38.313266Z"
    },
    "pycharm": {
     "is_executing": true
    }
   },
   "outputs": [],
   "source": [
    "given_number_of_nodes = range(5,71)\n",
    "\n",
    "def get_all_visualisations(number):\n",
    "    print(\"Liczba węzłów: \", number)\n",
    "    even_nodes = even_domain(x_min=interval_start, x_max=interval_end, number_of_points=number)\n",
    "    chebyshev_nodes = get_chebyshev_zeros(x_min=interval_start, x_max=interval_end, number_of_points=number)\n",
    "    print(\"Wizualizacja funkcji kwadratowych granica naturalna, węzły równoodległe\")\n",
    "    visualise_square(number_of_nodes=number,\n",
    "                     domain=base_domain,\n",
    "                     function=function_given,\n",
    "                     mode=\"natural\",\n",
    "                     filename=f\"square_{number}_natural\")\n",
    "    print(\"Wizualizacja funkcji kwadratowych granica naturalna, węzły równoodległe\")\n",
    "    visualise_square(number_of_nodes=number,\n",
    "                     domain=base_domain,\n",
    "                     function=function_given,\n",
    "                     mode=\"clamped\",\n",
    "                     filename=f\"square_{number}_clamped\")\n",
    "    print(\"Liczba węzłów: \", number)\n",
    "    even_nodes = even_domain(x_min=interval_start, x_max=interval_end, number_of_points=number)\n",
    "    print(\"Wizualizacja funkcji sześciennych granica sześcienna, węzły równoodległe\")\n",
    "    visualise_cubic(number_of_nodes=number,\n",
    "                    domain=base_domain,\n",
    "                    function=function_given,\n",
    "                    mode=\"cubic\",\n",
    "                    filename=f\"cubic_{number}_cubic\")\n",
    "    print(\"Wizualizacja funkcji sześciennych granica naturalna, węzły równoodległe\")\n",
    "    visualise_cubic(number_of_nodes=number,\n",
    "                    domain=base_domain,\n",
    "                    function=function_given,\n",
    "                    mode=\"free\",\n",
    "                    filename=f\"cubic_{number}_natural\")\n",
    "\n",
    "\n",
    "for cur_number in given_number_of_nodes:\n",
    "    get_all_visualisations(cur_number)"
   ]
  },
  {
   "cell_type": "code",
   "execution_count": null,
   "metadata": {
    "ExecuteTime": {
     "end_time": "2023-04-26T03:27:10.195796Z",
     "start_time": "2023-04-26T03:27:10.182659Z"
    },
    "collapsed": false,
    "pycharm": {
     "is_executing": true
    }
   },
   "outputs": [],
   "source": [
    "import csv\n",
    "\n",
    "\n",
    "def save_to_csv(filename, data):\n",
    "    with open(filename, 'w', newline='') as file:\n",
    "        writer = csv.writer(file)\n",
    "        writer.writerows(data)"
   ]
  },
  {
   "cell_type": "code",
   "execution_count": null,
   "metadata": {
    "ExecuteTime": {
     "end_time": "2023-04-26T03:27:10.399738Z",
     "start_time": "2023-04-26T03:27:10.199792Z"
    },
    "collapsed": false,
    "pycharm": {
     "is_executing": true
    }
   },
   "outputs": [],
   "source": [
    "def square_results_errors():\n",
    "    global given_number_of_nodes\n",
    "    csv_header = [\"Liczba węzłów\", \"Natural bład maksymalny\", \"Natural bład kwadratowy\",\n",
    "                  \"Clamped bład maksymalny\", \"Clamped bład kwadratowy\"]\n",
    "    csv_file = [csv_header]\n",
    "    natural_abs_nodes = 0\n",
    "    natural_abs = 1000\n",
    "\n",
    "    natural_square_nodes = 0\n",
    "    natural_square = 1000\n",
    "\n",
    "    clamped_abs_nodes = 0\n",
    "    clamped_abs = 1000\n",
    "\n",
    "    clamped_square_nodes = 0\n",
    "    clamped_square = 1000\n",
    "    for number_of_nodes in given_number_of_nodes:\n",
    "        csv_record = [number_of_nodes]\n",
    "        even_nodes = even_domain(x_min=interval_start, x_max=interval_end, number_of_points=number_of_nodes)\n",
    "        exact_result = []\n",
    "        for i in range(len(base_domain)):\n",
    "            exact_result.append(function_given(base_domain[i]))\n",
    "\n",
    "        square_natural_result = square_spline(function=function_given,\n",
    "                                              domain=base_domain,\n",
    "                                              x_zeroes=even_nodes,\n",
    "                                              mode=\"natural\")\n",
    "        square_natural_abs_error = get_abs_error(exact_result, square_natural_result)\n",
    "        if square_natural_abs_error < natural_abs:\n",
    "            natural_abs = square_natural_abs_error\n",
    "            natural_abs_nodes = number_of_nodes\n",
    "        csv_record.append(square_natural_abs_error)\n",
    "        square_natural_even_sqrt_error = get_square_mean_error(exact_result, square_natural_result)\n",
    "        if square_natural_even_sqrt_error < natural_square:\n",
    "            natural_square = square_natural_even_sqrt_error\n",
    "            natural_square_nodes = number_of_nodes\n",
    "        csv_record.append(square_natural_even_sqrt_error)\n",
    "\n",
    "        square_clamped_result = square_spline(function=function_given,\n",
    "                                              domain=base_domain,\n",
    "                                              x_zeroes=even_nodes,\n",
    "                                              mode=\"clamped\")\n",
    "        square_clamped_abs_error = get_abs_error(exact_result, square_clamped_result)\n",
    "        if square_clamped_abs_error < clamped_abs:\n",
    "            clamped_abs = square_clamped_abs_error\n",
    "            clamped_abs_nodes = number_of_nodes\n",
    "        csv_record.append(square_clamped_abs_error)\n",
    "        square_clamped_sqrt_error = get_square_mean_error(exact_result, square_clamped_result)\n",
    "        if square_clamped_sqrt_error < clamped_square:\n",
    "            clamped_square = square_clamped_sqrt_error\n",
    "            clamped_square_nodes = number_of_nodes\n",
    "        csv_record.append(square_clamped_sqrt_error)\n",
    "        csv_file.append(csv_record)\n",
    "\n",
    "    print(\"Natural abs error: \", natural_abs, \"nodes: \", natural_abs_nodes)\n",
    "    print(\"Natural square error: \", natural_square, \"nodes: \", natural_square_nodes)\n",
    "    print(\"Clamped abs error: \", clamped_abs, \"nodes: \", clamped_abs_nodes)\n",
    "    print(\"Clamped square error: \", clamped_square, \"nodes: \", clamped_square_nodes)\n",
    "    save_to_csv(\"errors/square_errors.csv\", csv_file)\n",
    "\n",
    "\n",
    "square_results_errors()"
   ]
  },
  {
   "cell_type": "code",
   "execution_count": null,
   "metadata": {
    "ExecuteTime": {
     "end_time": "2023-04-26T03:27:11.906375Z",
     "start_time": "2023-04-26T03:27:10.403736Z"
    },
    "collapsed": false,
    "pycharm": {
     "is_executing": true
    }
   },
   "outputs": [],
   "source": [
    "def cubic_results_errors():\n",
    "    global given_number_of_nodes\n",
    "    csv_header = [\"Liczba węzłów\", \"Natural bład maksymalny\", \"Natural bład kwadratowy\",\n",
    "                  \"Cubic bład maksymalny\", \"Cubic bład kwadratowy\"]\n",
    "    csv_file = [csv_header]\n",
    "    natural_abs_nodes = 0\n",
    "    natural_abs = 1000\n",
    "\n",
    "    natural_square_nodes = 0\n",
    "    natural_square = 1000\n",
    "\n",
    "    clamped_abs_nodes = 0\n",
    "    clamped_abs = 1000\n",
    "\n",
    "    clamped_square_nodes = 0\n",
    "    clamped_square = 1000\n",
    "    for number_of_nodes in given_number_of_nodes:\n",
    "        csv_record = [number_of_nodes]\n",
    "        even_nodes = even_domain(x_min=interval_start, x_max=interval_end, number_of_points=number_of_nodes)\n",
    "        exact_result = []\n",
    "        for i in range(len(base_domain)):\n",
    "            exact_result.append(function_given(base_domain[i]))\n",
    "\n",
    "        cubic_natural_result = cubic_spline(function=function_given,\n",
    "                                            domain=base_domain,\n",
    "                                            x_zeroes=even_nodes,\n",
    "                                            mode=\"free\")\n",
    "        cubic_natural_abs_error = get_abs_error(exact_result, cubic_natural_result)\n",
    "        csv_record.append(cubic_natural_abs_error)\n",
    "        cubic_natural_even_sqrt_error = get_square_mean_error(exact_result, cubic_natural_result)\n",
    "        csv_record.append(cubic_natural_even_sqrt_error)\n",
    "\n",
    "        cubic_clamped_result = cubic_spline(function=function_given,\n",
    "                                            domain=base_domain,\n",
    "                                            x_zeroes=even_nodes,\n",
    "                                            mode=\"cubic\")\n",
    "        cubic_clamped_abs_error = get_abs_error(exact_result, cubic_clamped_result)\n",
    "        csv_record.append(cubic_clamped_abs_error)\n",
    "        cubic_clamped_sqrt_error = get_square_mean_error(exact_result, cubic_clamped_result)\n",
    "        csv_record.append(cubic_clamped_sqrt_error)\n",
    "        csv_file.append(csv_record)\n",
    "\n",
    "    save_to_csv(\"errors/cubic_errors.csv\", csv_file)\n",
    "\n",
    "\n",
    "cubic_results_errors()"
   ]
  },
  {
   "cell_type": "code",
   "execution_count": null,
   "metadata": {
    "collapsed": false
   },
   "outputs": [],
   "source": []
  }
 ],
 "metadata": {
  "colab": {
   "provenance": []
  },
  "kernelspec": {
   "display_name": "Python 3 (ipykernel)",
   "language": "python",
   "name": "python3"
  },
  "language_info": {
   "codemirror_mode": {
    "name": "ipython",
    "version": 3
   },
   "file_extension": ".py",
   "mimetype": "text/x-python",
   "name": "python",
   "nbconvert_exporter": "python",
   "pygments_lexer": "ipython3",
   "version": "3.10.9"
  }
 },
 "nbformat": 4,
 "nbformat_minor": 1
}
