{
 "cells": [
  {
   "cell_type": "code",
   "execution_count": 4,
   "metadata": {
    "id": "347Mub5mJ1m1",
    "ExecuteTime": {
     "end_time": "2023-05-09T21:41:37.476322Z",
     "start_time": "2023-05-09T21:41:37.471416Z"
    }
   },
   "outputs": [],
   "source": [
    "import numpy as np\n",
    "import matplotlib.pyplot as plt\n",
    "import os\n",
    "from scipy import interpolate"
   ]
  },
  {
   "cell_type": "code",
   "execution_count": 13,
   "outputs": [
    {
     "name": "stdout",
     "output_type": "stream",
     "text": [
      "Folder plots already exists.\n",
      "Folder errors already exists.\n"
     ]
    }
   ],
   "source": [
    "def create_folder_if_not_exists(folder_path):\n",
    "    if not os.path.exists(folder_path):\n",
    "        os.makedirs(folder_path)\n",
    "        print(f\"Folder {folder_path} created successfully.\")\n",
    "    else:\n",
    "        print(f\"Folder {folder_path} already exists.\")\n",
    "\n",
    "\n",
    "create_folder_if_not_exists(\"plots\")\n",
    "create_folder_if_not_exists(\"errors\")\n",
    "\n",
    "pi = np.double(np.pi)\n",
    "interval_start = -2 * pi\n",
    "interval_end = pi\n",
    "base_domain = np.arange(interval_start, interval_end, 0.00943)\n",
    "\n",
    "\n",
    "def function_given(x):\n",
    "    n = 12\n",
    "    m = 14\n",
    "    return x ** n - (1 - x) ** m\n",
    "\n",
    "\n",
    "def first_derivative(x):\n",
    "    n = 12\n",
    "    m = 14\n",
    "    return n * x ** (n - 1) + m * (1 - x) ** (m - 1)"
   ],
   "metadata": {
    "collapsed": false,
    "ExecuteTime": {
     "end_time": "2023-05-09T21:57:34.158050Z",
     "start_time": "2023-05-09T21:57:34.153417Z"
    }
   }
  },
  {
   "cell_type": "markdown",
   "metadata": {},
   "source": [
    "**Równomierna dystrybucja**"
   ]
  },
  {
   "cell_type": "code",
   "execution_count": 6,
   "metadata": {
    "ExecuteTime": {
     "end_time": "2023-05-09T21:41:39.050758Z",
     "start_time": "2023-05-09T21:41:39.046078Z"
    }
   },
   "outputs": [],
   "source": [
    "def even_domain(x_min, x_max, number_of_points):\n",
    "    return np.linspace(x_min, x_max, number_of_points, dtype=np.double)"
   ]
  },
  {
   "cell_type": "markdown",
   "metadata": {
    "id": "sRaAYUbYJcL8"
   },
   "source": [
    "**Wizualizacja**"
   ]
  },
  {
   "cell_type": "code",
   "execution_count": 7,
   "metadata": {
    "id": "TbbTIwyFJeNW",
    "ExecuteTime": {
     "end_time": "2023-05-09T21:41:41.180529Z",
     "start_time": "2023-05-09T21:41:41.174733Z"
    }
   },
   "outputs": [],
   "source": [
    "def visualise(domain=None, nodes_x=None, nodes_y=None, f_y=None, Pn_x=None, title=None, x_size=8, y_size=6,\n",
    "              plot_title=None,\n",
    "              filename=None):\n",
    "    '''\n",
    "    :param domain: array of float64, of x coordinates of points to visualise\n",
    "    :param nodes_x: array of x coordinates of nodes\n",
    "    :param nodes_y: array of f(x) for each x in nodes_x\n",
    "    :param f_y: array of f(x) for each x in domain\n",
    "    :param Pn_x: array of Pn(x) for each x in domain\n",
    "    :param title: a string\n",
    "    :param x_size: size of a figure in x axis\n",
    "    :param y_size: size of a figure in y axis\n",
    "    :param plot_title: title of a plot\n",
    "    :param filename: name of a file to save a figure\n",
    "    :return: None\n",
    "    '''\n",
    "    plt.figure(figsize=(x_size, y_size))\n",
    "    if nodes_x is not None and nodes_y is not None:\n",
    "        plt.scatter(nodes_x, nodes_y, label=\"Węzły\", color=\"green\")\n",
    "    if f_y is not None:\n",
    "        plt.plot(domain, f_y, label=\"Zadana funckcja\", color=\"blue\")\n",
    "\n",
    "    if title is not None:\n",
    "        plt.plot(domain, Pn_x, label=title, color=\"red\")\n",
    "    if plot_title is not None:\n",
    "        plt.title(plot_title)\n",
    "    plt.xlabel(\"x\")\n",
    "    plt.ylabel(\"y\")\n",
    "    plt.legend()\n",
    "    if filename is not None:\n",
    "        plt.savefig(f\"plots/{filename}.png\", dpi=300, format='png')\n",
    "    plt.show()"
   ]
  },
  {
   "cell_type": "markdown",
   "metadata": {},
   "source": [
    "**Implementacja funkcji do laboratorium**"
   ]
  },
  {
   "cell_type": "code",
   "execution_count": 11,
   "metadata": {
    "ExecuteTime": {
     "end_time": "2023-05-09T21:41:57.480204Z",
     "start_time": "2023-05-09T21:41:57.478686Z"
    }
   },
   "outputs": [],
   "source": [
    "function_given_values = []\n",
    "for random_name in range(len(base_domain)):\n",
    "    function_given_values.append(function_given(base_domain[random_name]))\n",
    "\n",
    "\n",
    "def get_function_values(X):\n",
    "    result = np.zeros(len(X), dtype=np.double)\n",
    "    for i in range(len(X)):\n",
    "        result[i] = function_given(X[i])\n",
    "    return result\n",
    "\n",
    "\n",
    "def diff_stop_cond(x1, x0, e):\n",
    "    return abs(x1 - x0) < e\n",
    "\n",
    "\n",
    "def value_stop_cond(x, _x, e):\n",
    "    return abs(function_given(x)) < 0"
   ]
  },
  {
   "cell_type": "markdown",
   "source": [
    "**Metoda Newtona**"
   ],
   "metadata": {
    "collapsed": false
   }
  },
  {
   "cell_type": "code",
   "execution_count": 12,
   "outputs": [],
   "source": [
    "def newton_method(x_start, p, stop_crt):\n",
    "    if function_given(x_start) < p:\n",
    "        return 0, x_start\n",
    "    for iter_counter in range(int(10e6)):\n",
    "        x_next = x_start - function_given(x_start) / first_derivative(x_start)\n",
    "        if stop_crt(x_next, x_start, p):\n",
    "            return iter_counter + 1, x_next\n",
    "        x_start = x_next\n",
    "    return False, x_start"
   ],
   "metadata": {
    "collapsed": false,
    "ExecuteTime": {
     "end_time": "2023-05-09T21:52:46.073228Z",
     "start_time": "2023-05-09T21:52:46.067275Z"
    }
   }
  },
  {
   "cell_type": "markdown",
   "source": [
    "**Metoda stycznych**"
   ],
   "metadata": {
    "collapsed": false
   }
  },
  {
   "cell_type": "code",
   "execution_count": null,
   "outputs": [],
   "source": [
    "def secant_method(x0, x1, e, stop_crt):\n",
    "    def get_next_sqrt_approx():\n",
    "        nonlocal x0, x1\n",
    "        if function_given(x1) - function_given(x0) == 0:\n",
    "            return False\n",
    "        return x1 - (x1 - x0) / (function_given(x1) - function_given(x0)) * function_given(x1)\n",
    "    for iter_counter in range(int(10e6)):\n",
    "        x0, x1 = x1, get_next_sqrt_approx()\n",
    "        if x1 is False:\n",
    "            return False, x0\n",
    "        if stop_crt(x0, x1, e):\n",
    "            return iter_counter + 1, x1\n",
    "    return False, x1\n"
   ],
   "metadata": {
    "collapsed": false
   }
  },
  {
   "cell_type": "markdown",
   "source": [
    "**Wykonanie ćwiczenia**"
   ],
   "metadata": {
    "collapsed": false
   }
  },
  {
   "cell_type": "code",
   "execution_count": 14,
   "outputs": [
    {
     "data": {
      "text/plain": "<Figure size 800x600 with 1 Axes>",
      "image/png": "[encoded data removed]"
     },
     "metadata": {},
     "output_type": "display_data"
    }
   ],
   "source": [
    "visualise(base_domain, None, None, function_given_values)"
   ],
   "metadata": {
    "collapsed": false,
    "ExecuteTime": {
     "end_time": "2023-05-09T22:12:47.363294Z",
     "start_time": "2023-05-09T22:12:47.216472Z"
    }
   }
  },
  {
   "cell_type": "code",
   "execution_count": null,
   "outputs": [],
   "source": [],
   "metadata": {
    "collapsed": false
   }
  },
  {
   "cell_type": "code",
   "execution_count": null,
   "outputs": [],
   "source": [
    "import csv\n",
    "\n",
    "\n",
    "def save_to_csv(filename, data):\n",
    "    with open(filename, 'w', newline='') as file:\n",
    "        writer = csv.writer(file)\n",
    "        writer.writerows(data)"
   ],
   "metadata": {
    "collapsed": false
   }
  },
  {
   "cell_type": "code",
   "execution_count": null,
   "outputs": [],
   "source": [
    "def approximation_results_errors():\n",
    "    global given_number_of_nodes\n",
    "    csv_header = [\"n\", \"m\", \"błąd maksymalny\", \"błąd kwadratowy\"]\n",
    "    csv_file = [csv_header]\n",
    "    for number_of_nodes in given_number_of_nodes:\n",
    "        for cur_degree in given_poly_degree:\n",
    "            csv_record = [number_of_nodes, cur_degree]\n",
    "            even_nodes = even_domain(x_min=interval_start, x_max=interval_end, number_of_points=number_of_nodes)\n",
    "            exact_result = function_given_values\n",
    "\n",
    "            poly_approximation_result = trigonometric_approximation(function=function_given,\n",
    "                                                                    domain=base_domain,\n",
    "                                                                    x_zeroes=even_nodes,\n",
    "                                                                    poly_degree=cur_degree)\n",
    "            poly_approximation_abs_error = get_abs_error(exact_result, poly_approximation_result)\n",
    "            csv_record.append(poly_approximation_abs_error)\n",
    "            poly_approximation_result_sqrt_error = get_square_mean_error(exact_result, poly_approximation_result)\n",
    "            csv_record.append(poly_approximation_result_sqrt_error)\n",
    "            csv_file.append(csv_record)\n",
    "        save_to_csv(\"errors/poly_approx_errors.csv\", csv_file)\n",
    "\n",
    "\n",
    "approximation_results_errors()  #%% md\n",
    "** Wykonanie\n",
    "ćwiczenia **"
   ],
   "metadata": {
    "collapsed": false
   }
  },
  {
   "cell_type": "code",
   "execution_count": null,
   "metadata": {},
   "outputs": [],
   "source": [
    "visualise(base_domain, None, None, function_given_values)"
   ]
  },
  {
   "cell_type": "code",
   "execution_count": null,
   "outputs": [],
   "source": [
    "tmp = 7\n",
    "range_length = interval_start - interval_end\n",
    "tmp /= range_length\n",
    "tmp *= 2 * np.pi\n",
    "tmp += -np.pi - (2 * np.pi * interval_start / range_length)\n",
    "tmp"
   ],
   "metadata": {
    "collapsed": false
   }
  },
  {
   "cell_type": "code",
   "execution_count": null,
   "metadata": {},
   "outputs": [],
   "source": [
    "given_number_of_nodes = [3, 5, 7, 10, 15, 20, 25, 30, 35, 50]\n",
    "given_poly_degree = [2, 3, 5, 10, 15]\n",
    "\n",
    "print(len(given_number_of_nodes))\n",
    "print(len(given_poly_degree))\n",
    "\n",
    "\n",
    "def get_all_visualisations(number, degree):\n",
    "    if degree > (number - 1) // 2:\n",
    "        #print(\"Nie można wyznaczyć wielomianu o stopniu większym niż (n-1)/2\")\n",
    "        return\n",
    "\n",
    "    print(\"Liczba węzłów: \", number, \" stopień wielomianu: \", degree)\n",
    "    visualise_approximation(number_of_nodes=number,\n",
    "                            domain=base_domain,\n",
    "                            function=function_given,\n",
    "                            poly_degree=degree,\n",
    "                            filename=f\"n_{number}_m_{degree}\")\n",
    "\n",
    "\n",
    "for number in given_number_of_nodes:\n",
    "    for degree in given_poly_degree:\n",
    "        get_all_visualisations(number, degree)"
   ]
  },
  {
   "cell_type": "code",
   "execution_count": null,
   "outputs": [],
   "source": [
    "import csv\n",
    "\n",
    "\n",
    "def save_to_csv(filename, data):\n",
    "    with open(filename, 'w', newline='') as file:\n",
    "        writer = csv.writer(file)\n",
    "        writer.writerows(data)"
   ],
   "metadata": {
    "collapsed": false
   }
  },
  {
   "cell_type": "code",
   "execution_count": null,
   "outputs": [],
   "source": [
    "def approximation_results_errors():\n",
    "    global given_number_of_nodes\n",
    "    csv_header = [\"n\", \"m\", \"błąd maksymalny\", \"błąd kwadratowy\"]\n",
    "    csv_file = [csv_header]\n",
    "    for number_of_nodes in given_number_of_nodes:\n",
    "        for cur_degree in given_poly_degree:\n",
    "            csv_record = [number_of_nodes, cur_degree]\n",
    "            even_nodes = even_domain(x_min=interval_start, x_max=interval_end, number_of_points=number_of_nodes)\n",
    "            exact_result = function_given_values\n",
    "\n",
    "            poly_approximation_result = trigonometric_approximation(function=function_given,\n",
    "                                                                    domain=base_domain,\n",
    "                                                                    x_zeroes=even_nodes,\n",
    "                                                                    poly_degree=cur_degree)\n",
    "            poly_approximation_abs_error = get_abs_error(exact_result, poly_approximation_result)\n",
    "            csv_record.append(poly_approximation_abs_error)\n",
    "            poly_approximation_result_sqrt_error = get_square_mean_error(exact_result, poly_approximation_result)\n",
    "            csv_record.append(poly_approximation_result_sqrt_error)\n",
    "            csv_file.append(csv_record)\n",
    "        save_to_csv(\"errors/poly_approx_errors.csv\", csv_file)\n",
    "\n",
    "\n",
    "approximation_results_errors()"
   ],
   "metadata": {
    "collapsed": false
   }
  }
 ],
 "metadata": {
  "colab": {
   "provenance": []
  },
  "kernelspec": {
   "display_name": "Python 3 (ipykernel)",
   "language": "python",
   "name": "python3"
  },
  "language_info": {
   "codemirror_mode": {
    "name": "ipython",
    "version": 3
   },
   "file_extension": ".py",
   "mimetype": "text/x-python",
   "name": "python",
   "nbconvert_exporter": "python",
   "pygments_lexer": "ipython3",
   "version": "3.10.9"
  }
 },
 "nbformat": 4,
 "nbformat_minor": 1
}
