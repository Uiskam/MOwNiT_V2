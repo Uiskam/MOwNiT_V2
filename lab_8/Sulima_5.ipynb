{
 "cells": [
  {
   "cell_type": "code",
   "execution_count": 1,
   "metadata": {
    "id": "347Mub5mJ1m1",
    "ExecuteTime": {
     "end_time": "2023-05-16T15:43:00.082086400Z",
     "start_time": "2023-05-16T15:42:59.071879400Z"
    }
   },
   "outputs": [],
   "source": [
    "import numpy as np\n",
    "import matplotlib.pyplot as plt\n",
    "import os"
   ]
  },
  {
   "cell_type": "code",
   "execution_count": 2,
   "outputs": [
    {
     "name": "stdout",
     "output_type": "stream",
     "text": [
      "Folder plots already exists.\n",
      "Folder errors already exists.\n"
     ]
    }
   ],
   "source": [
    "def create_folder_if_not_exists(folder_path):\n",
    "    if not os.path.exists(folder_path):\n",
    "        os.makedirs(folder_path)\n",
    "        print(f\"Folder {folder_path} created successfully.\")\n",
    "    else:\n",
    "        print(f\"Folder {folder_path} already exists.\")\n",
    "\n",
    "\n",
    "create_folder_if_not_exists(\"plots\")\n",
    "create_folder_if_not_exists(\"errors\")\n",
    "\n",
    "interval_start = -0.4\n",
    "interval_end = 1\n",
    "base_domain = np.arange(interval_start, interval_end, 0.0014)\n",
    "\n",
    "exact_solution = np.float64(0.54105887116969952971)\n",
    "\n",
    "\n",
    "def function_given(x):\n",
    "    n = 10\n",
    "    m = 15\n",
    "    return m * x * np.e ** (-n) - m * np.e ** (-n * x) + 1 / m\n",
    "\n",
    "\n",
    "def first_derivative(x):\n",
    "    n = 10\n",
    "    m = 15\n",
    "    return m * n * np.e ** (-n * x) + m * np.e ** (-n)"
   ],
   "metadata": {
    "collapsed": false,
    "ExecuteTime": {
     "end_time": "2023-05-16T15:43:00.771199800Z",
     "start_time": "2023-05-16T15:43:00.701031300Z"
    }
   }
  },
  {
   "cell_type": "markdown",
   "metadata": {},
   "source": [
    "**Równomierna dystrybucja**"
   ]
  },
  {
   "cell_type": "code",
   "execution_count": 3,
   "metadata": {
    "ExecuteTime": {
     "end_time": "2023-05-16T15:43:01.676502300Z",
     "start_time": "2023-05-16T15:43:01.641947500Z"
    }
   },
   "outputs": [],
   "source": [
    "def even_domain(x_min, x_max, number_of_points):\n",
    "    return np.linspace(x_min, x_max, number_of_points, dtype=np.double)"
   ]
  },
  {
   "cell_type": "markdown",
   "metadata": {
    "id": "sRaAYUbYJcL8"
   },
   "source": [
    "**Wizualizacja**"
   ]
  },
  {
   "cell_type": "code",
   "execution_count": 4,
   "metadata": {
    "id": "TbbTIwyFJeNW",
    "ExecuteTime": {
     "end_time": "2023-05-16T15:43:02.834929600Z",
     "start_time": "2023-05-16T15:43:02.807979200Z"
    }
   },
   "outputs": [],
   "source": [
    "def visualise(domain=None, nodes_x=None, nodes_y=None, f_y=None, Pn_x=None, title=None, x_size=8, y_size=6,\n",
    "              plot_title=None,\n",
    "              filename=None):\n",
    "    '''\n",
    "    :param domain: array of float64, of x coordinates of points to visualise\n",
    "    :param nodes_x: array of x coordinates of nodes\n",
    "    :param nodes_y: array of f(x) for each x in nodes_x\n",
    "    :param f_y: array of f(x) for each x in domain\n",
    "    :param Pn_x: array of Pn(x) for each x in domain\n",
    "    :param title: a string\n",
    "    :param x_size: size of a figure in x axis\n",
    "    :param y_size: size of a figure in y axis\n",
    "    :param plot_title: title of a plot\n",
    "    :param filename: name of a file to save a figure\n",
    "    :return: None\n",
    "    '''\n",
    "    plt.figure(figsize=(x_size, y_size))\n",
    "    if nodes_x is not None and nodes_y is not None:\n",
    "        plt.scatter(nodes_x, nodes_y, label=\"Węzły\", color=\"green\")\n",
    "    if f_y is not None:\n",
    "        plt.plot(domain, f_y, label=\"Zadana funckcja\", color=\"blue\")\n",
    "\n",
    "    if title is not None:\n",
    "        plt.plot(domain, Pn_x, label=title, color=\"red\")\n",
    "    if plot_title is not None:\n",
    "        plt.title(plot_title)\n",
    "    plt.xlabel(\"x\")\n",
    "    plt.ylabel(\"y\")\n",
    "    plt.legend()\n",
    "    if filename is not None:\n",
    "        plt.savefig(f\"plots/{filename}.png\", dpi=300, format='png')\n",
    "    plt.show()"
   ]
  },
  {
   "cell_type": "markdown",
   "metadata": {},
   "source": [
    "**Implementacja funkcji do laboratorium**"
   ]
  },
  {
   "cell_type": "code",
   "execution_count": 5,
   "metadata": {
    "ExecuteTime": {
     "end_time": "2023-05-16T15:43:07.961581200Z",
     "start_time": "2023-05-16T15:43:07.930564700Z"
    }
   },
   "outputs": [],
   "source": [
    "function_given_values = []\n",
    "for random_name in range(len(base_domain)):\n",
    "    function_given_values.append(function_given(base_domain[random_name]))\n",
    "\n",
    "\n",
    "def get_function_values(X):\n",
    "    result = np.zeros(len(X), dtype=np.double)\n",
    "    for i in range(len(X)):\n",
    "        result[i] = function_given(X[i])\n",
    "    return result"
   ]
  },
  {
   "cell_type": "markdown",
   "source": [
    "**Metoda Newtona**"
   ],
   "metadata": {
    "collapsed": false
   }
  },
  {
   "cell_type": "code",
   "execution_count": 6,
   "outputs": [],
   "source": [
    "def newton_method(x_start, ro, stop_crt):\n",
    "    if np.abs(function_given(x_start)) < ro:\n",
    "        print(\"early stop for:\\nx_start = \", x_start, \"\\nfunction_given(x_start) = \", function_given(x_start),\"\\nro = \",ro,\"\\n\")\n",
    "        return 0, x_start\n",
    "    for iter_counter in range(int(10e3)):\n",
    "        x_next = x_start - function_given(x_start) / first_derivative(x_start)\n",
    "        if stop_crt(x_next, x_start, ro):\n",
    "            return iter_counter + 1, x_next\n",
    "        x_start = x_next\n",
    "    return False, x_start"
   ],
   "metadata": {
    "collapsed": false,
    "ExecuteTime": {
     "end_time": "2023-05-16T15:43:08.725779600Z",
     "start_time": "2023-05-16T15:43:08.703753700Z"
    }
   }
  },
  {
   "cell_type": "markdown",
   "source": [
    "**Metoda stycznych**"
   ],
   "metadata": {
    "collapsed": false
   }
  },
  {
   "cell_type": "code",
   "execution_count": 7,
   "outputs": [],
   "source": [
    "def secant_method(x0, x1, ro, stop_crt):\n",
    "    def get_next_sqrt_approx():\n",
    "        nonlocal x0, x1\n",
    "        if function_given(x1) - function_given(x0) == 0:\n",
    "            return False\n",
    "        return x1 - (x1 - x0) / (function_given(x1) - function_given(x0)) * function_given(x1)\n",
    "\n",
    "    for iter_counter in range(int(10e3)):\n",
    "        x0, x1 = x1, get_next_sqrt_approx()\n",
    "        if x1 is False:\n",
    "            return False, x0\n",
    "        if stop_crt(x0, x1, ro):\n",
    "            return iter_counter + 1, x1\n",
    "    return False, x1\n"
   ],
   "metadata": {
    "collapsed": false,
    "ExecuteTime": {
     "end_time": "2023-05-16T15:43:10.787820400Z",
     "start_time": "2023-05-16T15:43:10.746809100Z"
    }
   }
  },
  {
   "cell_type": "markdown",
   "source": [
    "**Wykonanie ćwiczenia**"
   ],
   "metadata": {
    "collapsed": false
   }
  },
  {
   "cell_type": "code",
   "execution_count": 8,
   "outputs": [
    {
     "data": {
      "text/plain": "<Figure size 800x600 with 1 Axes>",
      "image/png": "[encoded data removed]"
     },
     "metadata": {},
     "output_type": "display_data"
    }
   ],
   "source": [
    "visualise(base_domain, None, None, function_given_values)"
   ],
   "metadata": {
    "collapsed": false,
    "ExecuteTime": {
     "end_time": "2023-05-16T15:43:12.004509800Z",
     "start_time": "2023-05-16T15:43:11.722492500Z"
    }
   }
  },
  {
   "cell_type": "code",
   "execution_count": 9,
   "outputs": [],
   "source": [
    "import csv\n",
    "\n",
    "\n",
    "def save_to_csv(filename, data):\n",
    "    filename = \"errors/\" + filename + \".csv\"\n",
    "    with open(filename, 'w', newline='') as file:\n",
    "        writer = csv.writer(file)\n",
    "        writer.writerows(data)\n",
    "\n",
    "\n",
    "def diff_stop_cond(x1, x0, e):\n",
    "    return abs(x1 - x0) < e\n",
    "\n",
    "\n",
    "def value_stop_cond(x, _x, e):\n",
    "    return abs(function_given(x)) < e\n",
    "\n",
    "ros = np.array([1e-2, 1e-4, 1e-6, 1e-8, 1e-10, 1e-12], dtype=np.float64)"
   ],
   "metadata": {
    "collapsed": false,
    "ExecuteTime": {
     "end_time": "2023-05-16T15:43:14.453487500Z",
     "start_time": "2023-05-16T15:43:14.427589600Z"
    }
   }
  },
  {
   "cell_type": "code",
   "execution_count": null,
   "outputs": [],
   "source": [
    "def perform_newton_experiment(stop_crt):\n",
    "    global  ros\n",
    "    starting_points = np.arange(-0.4, 1.1, 0.1)\n",
    "    iteration_results = [[\"Punkt startowy\\Wartość ro\", \"10E-2\", \"10E-4\", \"10E-6\", \"10E-8\", \"10E-10\", \"10E-12\"]]\n",
    "    value_results = [[\"Punkt startowy\\Wartość ro\", \"10E-2\", \"10E-4\", \"10E-6\", \"10E-8\", \"10E-10\", \"10E-12\"]]\n",
    "    for starting_point in starting_points:\n",
    "        iteration_newline = [starting_point]\n",
    "        value_newline = [starting_point]\n",
    "        for ro in ros:\n",
    "            iteration_number, value_calculated = newton_method(starting_point, ro, stop_crt)\n",
    "            if iteration_number is False:\n",
    "                print(\"abnormal result for: \", starting_point, ro)\n",
    "            iteration_newline.append(iteration_number)\n",
    "            value_newline.append(value_calculated)\n",
    "        iteration_results.append(iteration_newline)\n",
    "        value_results.append(value_newline)\n",
    "    return iteration_results, value_results\n",
    "\n",
    "\n",
    "iteration_summary, value_summary = perform_newton_experiment(diff_stop_cond)\n",
    "save_to_csv(\"newton_diff_iteration\", iteration_summary)\n",
    "save_to_csv(\"newton_diff_value\", value_summary)\n",
    "\n",
    "iteration_summary, value_summary = perform_newton_experiment(value_stop_cond)\n",
    "save_to_csv(\"newton_value_iteration\", iteration_summary)\n",
    "save_to_csv(\"newton_value_value\", value_summary)"
   ],
   "metadata": {
    "collapsed": false
   }
  },
  {
   "cell_type": "code",
   "execution_count": 23,
   "outputs": [],
   "source": [
    "def perform_secant_experiment(stop_crt, from_right=False):\n",
    "    global  ros\n",
    "    starting_points = np.arange(-0.4, 1.1, 0.1)\n",
    "    iteration_results = [[\"Punkt startowy a\", \"Punkt startowy b\", \"Wartość ro\", \"10E-2\", \"10E-4\", \"10E-6\", \"10E-8\", \"10E-10\", \"10E-12\"]]\n",
    "    value_results = [[\"Punkt startowy a\", \"Punkt startowy b\", \"10E-2\", \"10E-4\", \"10E-6\", \"10E-8\", \"10E-10\", \"10E-12\"]]\n",
    "    if from_right:\n",
    "        starting_points = starting_points[::-1]\n",
    "    for first_starting_point in starting_points:\n",
    "        for second_starting_point in starting_points:\n",
    "            if not from_right and (first_starting_point >= second_starting_point) or from_right and (first_starting_point <= second_starting_point):\n",
    "                continue\n",
    "            iteration_newline = [first_starting_point, second_starting_point]\n",
    "            value_newline = [first_starting_point, second_starting_point]\n",
    "            for ro in ros:\n",
    "                #print(\"\\tro: \", ro)\n",
    "                iteration_number, value_calculated = secant_method(first_starting_point, second_starting_point, ro, stop_crt)\n",
    "                if iteration_number is False:\n",
    "                    #print(\"abnormal result for: \", first_starting_point, second_starting_point, ro)\n",
    "                    pass\n",
    "                iteration_newline.append(iteration_number)\n",
    "                value_newline.append(value_calculated)\n",
    "            iteration_results.append(iteration_newline)\n",
    "            value_results.append(value_newline)\n",
    "    return iteration_results, value_results\n",
    "\n",
    "\n",
    "iteration_summary, value_summary = perform_secant_experiment(diff_stop_cond)\n",
    "save_to_csv(\"secant_diff_iteration\", iteration_summary)\n",
    "save_to_csv(\"secant_diff_value\", value_summary)\n",
    "\n",
    "iteration_summary, value_summary = perform_secant_experiment(value_stop_cond)\n",
    "save_to_csv(\"secant_value_iteration\", iteration_summary)\n",
    "save_to_csv(\"secant_value_value\", value_summary)\n",
    "\n",
    "iteration_summary, value_summary = perform_secant_experiment(diff_stop_cond, from_right=True)\n",
    "save_to_csv(\"reversed_secant_diff_iteration\", iteration_summary)\n",
    "save_to_csv(\"reversed_secant_diff_value\", value_summary)\n",
    "\n",
    "iteration_summary, value_summary = perform_secant_experiment(value_stop_cond, from_right=True)\n",
    "save_to_csv(\"reversed_secant_value_iteration\", iteration_summary)\n",
    "save_to_csv(\"reversed_secant_value_value\", value_summary)"
   ],
   "metadata": {
    "collapsed": false,
    "ExecuteTime": {
     "end_time": "2023-05-16T16:25:18.574106500Z",
     "start_time": "2023-05-16T16:25:11.588563800Z"
    }
   }
  }
 ],
 "metadata": {
  "colab": {
   "provenance": []
  },
  "kernelspec": {
   "display_name": "Python 3 (ipykernel)",
   "language": "python",
   "name": "python3"
  },
  "language_info": {
   "codemirror_mode": {
    "name": "ipython",
    "version": 3
   },
   "file_extension": ".py",
   "mimetype": "text/x-python",
   "name": "python",
   "nbconvert_exporter": "python",
   "pygments_lexer": "ipython3",
   "version": "3.10.9"
  }
 },
 "nbformat": 4,
 "nbformat_minor": 1
}
