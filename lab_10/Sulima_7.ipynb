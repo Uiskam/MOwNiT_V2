{
 "cells": [
  {
   "cell_type": "code",
   "execution_count": 28,
   "metadata": {
    "id": "347Mub5mJ1m1",
    "ExecuteTime": {
     "end_time": "2023-06-13T18:29:26.551078500Z",
     "start_time": "2023-06-13T18:29:26.541077900Z"
    }
   },
   "outputs": [],
   "source": [
    "import numpy as np\n",
    "import matplotlib.pyplot as plt\n",
    "from typing import List, Tuple\n",
    "import os"
   ]
  },
  {
   "cell_type": "code",
   "execution_count": 29,
   "outputs": [
    {
     "name": "stdout",
     "output_type": "stream",
     "text": [
      "Folder plots already exists.\n",
      "Folder errors already exists.\n"
     ]
    }
   ],
   "source": [
    "def create_folder_if_not_exists(folder_path):\n",
    "    if not os.path.exists(folder_path):\n",
    "        os.makedirs(folder_path)\n",
    "        print(f\"Folder {folder_path} created successfully.\")\n",
    "    else:\n",
    "        print(f\"Folder {folder_path} already exists.\")\n",
    "\n",
    "\n",
    "create_folder_if_not_exists(\"plots\")\n",
    "create_folder_if_not_exists(\"errors\")"
   ],
   "metadata": {
    "collapsed": false,
    "ExecuteTime": {
     "end_time": "2023-06-13T18:29:26.728789Z",
     "start_time": "2023-06-13T18:29:26.701896200Z"
    }
   }
  },
  {
   "cell_type": "code",
   "execution_count": 30,
   "outputs": [],
   "source": [
    "import csv\n",
    "\n",
    "\n",
    "def save_to_csv(filename, data):\n",
    "    filename = \"errors/\" + filename + \".csv\"\n",
    "    with open(filename, 'w', newline='') as file:\n",
    "        writer = csv.writer(file)\n",
    "        writer.writerows(data)"
   ],
   "metadata": {
    "collapsed": false,
    "ExecuteTime": {
     "end_time": "2023-06-13T18:29:26.855453300Z",
     "start_time": "2023-06-13T18:29:26.844768500Z"
    }
   }
  },
  {
   "cell_type": "code",
   "execution_count": 31,
   "outputs": [],
   "source": [
    "def multiply_matrices(A, B):\n",
    "    result = np.zeros((len(A), len(B[0])), dtype=np.float64)\n",
    "    for i in range(len(A)):\n",
    "        for j in range(len(B[0])):\n",
    "            for k in range(len(B)):\n",
    "                result[i][j] += A[i][k] * B[k][j]\n",
    "    return result\n",
    "\n",
    "\n",
    "def residual_stop_criterium(A, x, b, rho):\n",
    "    def norm(vector):\n",
    "        max_value = -np.inf\n",
    "        for value in vector:\n",
    "            if np.abs(value) > max_value:\n",
    "                max_value = np.abs(value)\n",
    "        return max_value\n",
    "\n",
    "    return norm(multiply_matrices(A, x) - b) < rho\n",
    "\n",
    "\n",
    "def difference_stop_criterium(x, x_new, rho):\n",
    "    def norm(vector):\n",
    "        max_value = -np.inf\n",
    "        for value in vector:\n",
    "            if np.abs(value) > max_value:\n",
    "                max_value = np.abs(value)\n",
    "        return max_value\n",
    "\n",
    "    return norm(x - x_new) < rho"
   ],
   "metadata": {
    "collapsed": false,
    "ExecuteTime": {
     "end_time": "2023-06-13T18:29:27.013756300Z",
     "start_time": "2023-06-13T18:29:27.003173600Z"
    }
   }
  },
  {
   "cell_type": "code",
   "execution_count": 32,
   "outputs": [],
   "source": [
    "def get_random_sign():\n",
    "    return np.random.choice([-1, 1])\n",
    "\n",
    "\n",
    "def get_x(n, variable_type):\n",
    "    x_ = np.zeros(n, dtype=variable_type)\n",
    "    for i in range(n):\n",
    "        x_[i] = variable_type(variable_type(get_random_sign()))\n",
    "    return x_\n",
    "\n",
    "\n",
    "def get_b(A, x, n, variable_type):\n",
    "    b = np.zeros(n, dtype=variable_type)\n",
    "    for i in range(n):\n",
    "        for j in range(n):\n",
    "            b[i] += A[i][j] * x[j]\n",
    "        print()\n",
    "    return b"
   ],
   "metadata": {
    "collapsed": false,
    "ExecuteTime": {
     "end_time": "2023-06-13T18:29:27.177799400Z",
     "start_time": "2023-06-13T18:29:27.154971200Z"
    }
   }
  },
  {
   "cell_type": "code",
   "execution_count": 33,
   "outputs": [],
   "source": [
    "k = np.float64(6)\n",
    "m = np.float64(4)\n",
    "one = np.float64(1)\n",
    "\n",
    "\n",
    "def get_A(size):\n",
    "    global k, m, one\n",
    "    A = np.zeros((size, size), dtype=np.float64)\n",
    "    for i in range(size):\n",
    "        for j in range(size):\n",
    "            i_ = np.float64(i)\n",
    "            j_ = np.float64(j)\n",
    "\n",
    "            if i == j:\n",
    "                A[i][j] = k\n",
    "            elif j > i:\n",
    "                A[i][j] = (-one) ** (j_ + one) * m / (j_ + one)\n",
    "            elif j + 1 == i:\n",
    "                A[i][j] = m / (i_ + one)\n",
    "            else:\n",
    "                A[i][j] = np.float64(0)\n",
    "    return A\n",
    "\n",
    "\n",
    "def get_D(n):\n",
    "    global k, m, one\n",
    "    D = np.zeros((n, n), dtype=np.float64)\n",
    "    for i in range(n):\n",
    "        D[i][i] = k\n",
    "    return D\n",
    "\n",
    "\n",
    "def get_D_inverted(n):\n",
    "    global k, m, one\n",
    "    D = np.zeros((n, n), dtype=np.float64)\n",
    "    k_ = np.float64(k)\n",
    "    for i in range(n):\n",
    "        D[i][i] = one / k_\n",
    "    return D\n",
    "\n",
    "\n",
    "def get_negative_D_inverted(n):\n",
    "    global k, m, one\n",
    "    D = np.zeros((n, n), dtype=np.float64)\n",
    "    k_ = np.float64(k)\n",
    "    minus_one = np.float64(-1)\n",
    "    for i in range(n):\n",
    "        D[i][i] = minus_one / k_\n",
    "    return D\n",
    "\n",
    "\n",
    "def get_L(n):\n",
    "    global k, m, one\n",
    "    L = np.zeros((n, n), dtype=np.float64)\n",
    "    for i in range(n):\n",
    "        for j in range(n):\n",
    "            i_ = np.float64(i)\n",
    "            j_ = np.float64(j)\n",
    "            if i == j + 1:\n",
    "                L[i][j] = m / (i_ + one)\n",
    "    return L\n",
    "\n",
    "\n",
    "def get_U(n):\n",
    "    global k, m, one\n",
    "    U = np.zeros((n, n), dtype=np.float64)\n",
    "    for i in range(n):\n",
    "        for j in range(n):\n",
    "            i_ = np.float64(i)\n",
    "            j_ = np.float64(j)\n",
    "            if j > i:\n",
    "                U[i][j] = (-one) ** (j_ + one) * m / (j_ + one)\n",
    "    return U\n",
    "\n",
    "\n",
    "def get_M(n):\n",
    "    U = get_U(n)\n",
    "    L = get_L(n)\n",
    "    negative_D_inverted = get_negative_D_inverted(n)\n",
    "    M = np.dot(negative_D_inverted, L + U)\n",
    "    return M\n"
   ],
   "metadata": {
    "collapsed": false,
    "ExecuteTime": {
     "end_time": "2023-06-13T18:29:27.335704700Z",
     "start_time": "2023-06-13T18:29:27.315324600Z"
    }
   }
  },
  {
   "cell_type": "code",
   "execution_count": 43,
   "outputs": [
    {
     "name": "stdout",
     "output_type": "stream",
     "text": [
      "True\n"
     ]
    }
   ],
   "source": [
    "gowno = np.float64(1)\n",
    "print( isinstance(gowno, np.float64) )"
   ],
   "metadata": {
    "collapsed": false,
    "ExecuteTime": {
     "end_time": "2023-06-13T18:32:51.469568500Z",
     "start_time": "2023-06-13T18:32:51.460552900Z"
    }
   }
  },
  {
   "cell_type": "code",
   "execution_count": 77,
   "outputs": [],
   "source": [
    "def multiply_matrices(A, B):\n",
    "    if not isinstance(B[0], np.ndarray):\n",
    "        result = np.zeros(len(A), dtype=np.float64)\n",
    "        for i in range(len(A)):\n",
    "            for j in range(len(B)):\n",
    "                result[i] += A[i][j] * B[j]\n",
    "        return result\n",
    "    else:\n",
    "        result = np.zeros((len(A), len(B[0])), dtype=np.float64)\n",
    "        for i in range(len(A)):\n",
    "            for j in range(len(B[0])):\n",
    "                for k in range(len(B)):\n",
    "                    result[i][j] += A[i][k] * B[k][j]\n",
    "        return result\n",
    "\n",
    "\n",
    "def norm(vector):\n",
    "    max_value = -np.inf\n",
    "    for value in vector:\n",
    "        if np.abs(value) > max_value:\n",
    "            max_value = np.abs(value)\n",
    "    return max_value\n",
    "\n",
    "\n",
    "class Jacobi:\n",
    "    def __init__(self, b, ceil_limitation, rho, stop_criterium, x_start):\n",
    "        self.n = len(b)\n",
    "        self.A = get_A(self.n)\n",
    "        self.errors = []\n",
    "        self.b = b\n",
    "        self.ceil_limitation = ceil_limitation\n",
    "        self.M = get_M(self.n)\n",
    "        self.b = b\n",
    "        self.N = get_D_inverted(self.n)\n",
    "        self.rho = rho\n",
    "        self.stop_criterium = stop_criterium\n",
    "        self.x = x_start\n",
    "        if stop_criterium != \"res\" and stop_criterium != \"diff\":\n",
    "            raise Exception(\"Wrong stop criterium\")\n",
    "\n",
    "    def residual_stop_criterium(self):\n",
    "        return norm(multiply_matrices(self.A, self.x) - self.b) < self.rho\n",
    "\n",
    "    def difference_stop_criterium(self, x_next):\n",
    "        return norm(x_next - self.x) < self.rho\n",
    "\n",
    "    def calculate(self):\n",
    "        for i in range(self.ceil_limitation):\n",
    "            x_next = multiply_matrices(self.M, self.x) + multiply_matrices(self.N, self.b)\n",
    "            self.errors.append(norm(x_next - self.x))\n",
    "            if self.stop_criterium == \"res\":\n",
    "                if self.residual_stop_criterium():\n",
    "                    return x_next, self.errors, i + 1\n",
    "            elif self.stop_criterium == \"diff\":\n",
    "                if self.difference_stop_criterium(x_next):\n",
    "                    return x_next, self.errors, i + 1\n",
    "            self.x = x_next\n",
    "        return x_next, self.errors, self.ceil_limitation\n"
   ],
   "metadata": {
    "collapsed": false,
    "ExecuteTime": {
     "end_time": "2023-06-13T18:44:12.768604100Z",
     "start_time": "2023-06-13T18:44:12.743688100Z"
    }
   }
  },
  {
   "cell_type": "code",
   "execution_count": 78,
   "outputs": [
    {
     "name": "stdout",
     "output_type": "stream",
     "text": [
      "[0.13169643 0.38169643 0.41517857]\n"
     ]
    }
   ],
   "source": [
    "import numpy as np\n",
    "\n",
    "\n",
    "def generate_random_system(num_equations, num_variables):\n",
    "    A = np.random.rand(num_equations, num_variables)\n",
    "    b = np.random.rand(num_equations)\n",
    "    return A, b\n",
    "\n",
    "\n",
    "def test_jacobi_vs_np_solve(n):\n",
    "    for i in range(1000):\n",
    "        _, b = generate_random_system(n, n)\n",
    "        A = get_A(n)\n",
    "        np_solution = np.linalg.solve(A, b)\n",
    "        jacobi_solver = Jacobi(b=b, ceil_limitation=1000, rho=0.0000000001, stop_criterium=\"diff\",\n",
    "                               x_start=np.zeros(n))\n",
    "        jacobi_solution = jacobi_solver.calculate()[0]\n",
    "\n",
    "        if np.allclose(np_solution, jacobi_solution):\n",
    "            print(\"The solutions match!\")\n",
    "        else:\n",
    "            print(f\"The solutions do not match. np_solution = {np_solution}, jacobi_solution = {jacobi_solution}\")\n",
    "            return\n",
    "\n",
    "\n",
    "# Test the Jacobi class against np.linalg.solve\n",
    "# test_jacobi_vs_np_solve(10)\n"
   ],
   "metadata": {
    "collapsed": false,
    "ExecuteTime": {
     "end_time": "2023-06-13T18:44:13.384580400Z",
     "start_time": "2023-06-13T18:44:13.374374Z"
    }
   }
  },
  {
   "cell_type": "code",
   "execution_count": null,
   "outputs": [],
   "source": [
    "def spectral_radius(matrix):\n",
    "    eigenvalues = np.abs(np.linalg.eigvals(matrix))\n",
    "    return np.max(eigenvalues)\n",
    "\n",
    "\n",
    "'''for n in range(3, 150):\n",
    "    M = get_M(n)\n",
    "    print(f\"n = {n}, spectral radius = {spectral_radius(M)}\")'''  #%%\n",
    "\n",
    "\n",
    "def spectral_radius(matrix):\n",
    "    eigenvalues = np.abs(np.linalg.eigvals(matrix))\n",
    "    return np.max(eigenvalues)\n",
    "\n",
    "\n",
    "'''for n in range(3, 150):\n",
    "    M = get_M(n)\n",
    "    print(f\"n = {n}, spectral radius = {spectral_radius(M)}\")'''"
   ],
   "metadata": {
    "collapsed": false
   }
  }
 ],
 "metadata": {
  "colab": {
   "provenance": []
  },
  "kernelspec": {
   "display_name": "Python 3 (ipykernel)",
   "language": "python",
   "name": "python3"
  },
  "language_info": {
   "codemirror_mode": {
    "name": "ipython",
    "version": 3
   },
   "file_extension": ".py",
   "mimetype": "text/x-python",
   "name": "python",
   "nbconvert_exporter": "python",
   "pygments_lexer": "ipython3",
   "version": "3.10.9"
  }
 },
 "nbformat": 4,
 "nbformat_minor": 1
}
