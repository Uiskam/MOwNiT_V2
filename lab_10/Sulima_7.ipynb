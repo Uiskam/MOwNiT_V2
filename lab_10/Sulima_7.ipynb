{
 "cells": [
  {
   "cell_type": "code",
   "execution_count": null,
   "metadata": {
    "id": "347Mub5mJ1m1"
   },
   "outputs": [],
   "source": [
    "import numpy as np\n",
    "import matplotlib.pyplot as plt\n",
    "from typing import List, Tuple\n",
    "import os"
   ]
  },
  {
   "cell_type": "code",
   "execution_count": null,
   "outputs": [],
   "source": [
    "def create_folder_if_not_exists(folder_path):\n",
    "    if not os.path.exists(folder_path):\n",
    "        os.makedirs(folder_path)\n",
    "        print(f\"Folder {folder_path} created successfully.\")\n",
    "    else:\n",
    "        print(f\"Folder {folder_path} already exists.\")\n",
    "\n",
    "\n",
    "create_folder_if_not_exists(\"plots\")\n",
    "create_folder_if_not_exists(\"files\")"
   ],
   "metadata": {
    "collapsed": false
   }
  },
  {
   "cell_type": "code",
   "execution_count": null,
   "outputs": [],
   "source": [
    "import csv\n",
    "\n",
    "\n",
    "def save_to_csv(filename, data):\n",
    "    filename = \"files/\" + filename + \".csv\"\n",
    "    print(f\"Saving data to {filename}\")\n",
    "    with open(filename, 'w', newline='') as file:\n",
    "        writer = csv.writer(file)\n",
    "        writer.writerows(data)\n",
    "    print(f\"Data saved to {filename}\")\n",
    "\n",
    "\n",
    "def read_from_csv(filename, variable_type=np.float64):\n",
    "    filename = \"files/\" + filename + \".csv\"\n",
    "    with open(filename, newline='') as file:\n",
    "        reader = csv.reader(file)\n",
    "        data = list(reader)\n",
    "        for arr in range(len(data)):\n",
    "            data[arr] = np.array(data[arr], dtype=variable_type)\n",
    "    return data"
   ],
   "metadata": {
    "collapsed": false
   }
  },
  {
   "cell_type": "code",
   "execution_count": null,
   "outputs": [],
   "source": [
    "def get_random_sign():\n",
    "    return np.random.choice([-1, 1])\n",
    "\n",
    "\n",
    "def get_x(n, variable_type=np.float64):\n",
    "    x_ = np.zeros(n, dtype=variable_type)\n",
    "    for i in range(n):\n",
    "        x_[i] = variable_type(get_random_sign())\n",
    "    return x_\n",
    "\n",
    "\n",
    "def get_b(A, x, n, variable_type=np.float64):\n",
    "    b = np.zeros(n, dtype=variable_type)\n",
    "    for i in range(n):\n",
    "        for j in range(n):\n",
    "            b[i] += A[i][j] * x[j]\n",
    "    return b"
   ],
   "metadata": {
    "collapsed": false
   }
  },
  {
   "cell_type": "code",
   "execution_count": null,
   "outputs": [],
   "source": [
    "k = np.float64(6)\n",
    "m = np.float64(4)\n",
    "one = np.float64(1)\n",
    "\n",
    "\n",
    "def get_A(size):\n",
    "    global k, m, one\n",
    "    A = np.zeros((size, size), dtype=np.float64)\n",
    "    for i in range(size):\n",
    "        for j in range(size):\n",
    "            i_ = np.float64(i)\n",
    "            j_ = np.float64(j)\n",
    "\n",
    "            if i == j:\n",
    "                A[i][j] = k\n",
    "            elif j > i:\n",
    "                A[i][j] = (-one) ** (j_ + one) * m / (j_ + one)\n",
    "            elif j + 1 == i:\n",
    "                A[i][j] = m / (i_ + one)\n",
    "            else:\n",
    "                A[i][j] = np.float64(0)\n",
    "    return A\n",
    "\n",
    "\n",
    "def get_D(n):\n",
    "    global k, m, one\n",
    "    D = np.zeros((n, n), dtype=np.float64)\n",
    "    for i in range(n):\n",
    "        D[i][i] = k\n",
    "    return D\n",
    "\n",
    "\n",
    "def get_D_inverted(n):\n",
    "    global k, m, one\n",
    "    D = np.zeros((n, n), dtype=np.float64)\n",
    "    k_ = np.float64(k)\n",
    "    for i in range(n):\n",
    "        D[i][i] = one / k_\n",
    "    return D\n",
    "\n",
    "\n",
    "def get_negative_D_inverted(n):\n",
    "    global k, m, one\n",
    "    D = np.zeros((n, n), dtype=np.float64)\n",
    "    k_ = np.float64(k)\n",
    "    minus_one = np.float64(-1)\n",
    "    for i in range(n):\n",
    "        D[i][i] = minus_one / k_\n",
    "    return D\n",
    "\n",
    "\n",
    "def get_L(n):\n",
    "    global k, m, one\n",
    "    L = np.zeros((n, n), dtype=np.float64)\n",
    "    for i in range(n):\n",
    "        for j in range(n):\n",
    "            i_ = np.float64(i)\n",
    "            j_ = np.float64(j)\n",
    "            if i == j + 1:\n",
    "                L[i][j] = m / (i_ + one)\n",
    "    return L\n",
    "\n",
    "\n",
    "def get_U(n):\n",
    "    global k, m, one\n",
    "    U = np.zeros((n, n), dtype=np.float64)\n",
    "    for i in range(n):\n",
    "        for j in range(n):\n",
    "            i_ = np.float64(i)\n",
    "            j_ = np.float64(j)\n",
    "            if j > i:\n",
    "                U[i][j] = (-one) ** (j_ + one) * m / (j_ + one)\n",
    "    return U\n",
    "\n",
    "\n",
    "def get_M(n):\n",
    "    U = get_U(n)\n",
    "    L = get_L(n)\n",
    "    negative_D_inverted = get_negative_D_inverted(n)\n",
    "    M = np.dot(negative_D_inverted, L + U)\n",
    "    return M\n"
   ],
   "metadata": {
    "collapsed": false
   }
  },
  {
   "cell_type": "code",
   "execution_count": null,
   "outputs": [],
   "source": [
    "import time\n",
    "\n",
    "\n",
    "def multiply_matrices(A, B):\n",
    "    if not isinstance(B[0], np.ndarray):\n",
    "        result = np.zeros(len(A), dtype=np.float64)\n",
    "        for i in range(len(A)):\n",
    "            for j in range(len(B)):\n",
    "                result[i] += A[i][j] * B[j]\n",
    "        return result\n",
    "    else:\n",
    "        result = np.zeros((len(A), len(B[0])), dtype=np.float64)\n",
    "        for i in range(len(A)):\n",
    "            for j in range(len(B[0])):\n",
    "                for k in range(len(B)):\n",
    "                    result[i][j] += A[i][k] * B[k][j]\n",
    "        return result\n",
    "\n",
    "\n",
    "def norm(vector):\n",
    "    max_value = -np.inf\n",
    "    for value in vector:\n",
    "        if np.abs(value) > max_value:\n",
    "            max_value = np.abs(value)\n",
    "    return max_value\n",
    "\n",
    "\n",
    "class Jacobi:\n",
    "    def __init__(self, b, ceil_limitation, rho, stop_criterium, x_start, proper_result):\n",
    "        self.n = len(b)\n",
    "        self.A = get_A(self.n)\n",
    "        self.b = b\n",
    "        self.ceil_limitation = ceil_limitation\n",
    "        self.M = get_M(self.n)\n",
    "        self.N = get_D_inverted(self.n)\n",
    "        self.proper_result = proper_result\n",
    "        self.rho = rho\n",
    "        self.stop_criterium = stop_criterium\n",
    "        self.x = x_start\n",
    "        if stop_criterium != \"res\" and stop_criterium != \"diff\":\n",
    "            raise Exception(\"Wrong stop criterium\")\n",
    "\n",
    "    def residual_stop_criterium(self):\n",
    "        return norm(multiply_matrices(self.A, self.x) - self.b) < self.rho\n",
    "\n",
    "    def difference_stop_criterium(self, x_next):\n",
    "        return norm(x_next - self.x) < self.rho\n",
    "\n",
    "    def calculate(self):\n",
    "        start = time.time()\n",
    "        for i in range(self.ceil_limitation):\n",
    "            x_next = multiply_matrices(self.M, self.x) + multiply_matrices(self.N, self.b)\n",
    "            if self.stop_criterium == \"res\":\n",
    "                if self.residual_stop_criterium():\n",
    "                    return x_next, norm(x_next - self.proper_result), i + 1, time.time() - start\n",
    "            elif self.stop_criterium == \"diff\":\n",
    "                if self.difference_stop_criterium(x_next):\n",
    "                    return x_next, norm(x_next - self.proper_result), i + 1, time.time() - start\n",
    "            self.x = x_next\n",
    "        return x_next, norm(x_next - self.proper_result), self.ceil_limitation, time.time() - start\n"
   ],
   "metadata": {
    "collapsed": false
   }
  },
  {
   "cell_type": "code",
   "execution_count": null,
   "outputs": [],
   "source": [
    "def draw_plot(domain, results, title, x_label=\"PLACEHOLDER LABEL\", y_label=\"PLACEHOLDER LABEL\", scale_type=None,\n",
    "              filename=None, label=\"PLACEHOLDER LABEL\", x_ticks=None):\n",
    "    default_font_size = 25\n",
    "    legend_font_size = default_font_size\n",
    "    title_font_size = default_font_size\n",
    "    tick_params_label_size = default_font_size\n",
    "    x_y_label_size = default_font_size\n",
    "\n",
    "    fig, ax = plt.subplots(figsize=(15, 7.5))\n",
    "    if scale_type is not None:\n",
    "        ax.set_yscale(scale_type)\n",
    "    plt.scatter(x=domain, y=results, label=label)\n",
    "\n",
    "    plt.title(title, fontsize=title_font_size)\n",
    "    plt.xlabel(x_label, fontsize=x_y_label_size)\n",
    "    plt.ylabel(y_label, fontsize=x_y_label_size)\n",
    "    plt.legend(fontsize=legend_font_size)\n",
    "\n",
    "    ax.tick_params(axis='both', which='major', labelsize=tick_params_label_size)\n",
    "    ax.tick_params(axis='both', which='minor', labelsize=tick_params_label_size)\n",
    "\n",
    "    if x_ticks is not None:\n",
    "        plt.xticks(x_ticks)\n",
    "\n",
    "    plt.grid(True)\n",
    "    plt.savefig(f\"plots/{filename}.png\")\n",
    "    plt.show()"
   ],
   "metadata": {
    "collapsed": false
   }
  },
  {
   "cell_type": "markdown",
   "source": [
    "**Wykonanie eksperymentów**"
   ],
   "metadata": {
    "collapsed": false
   }
  },
  {
   "cell_type": "code",
   "execution_count": null,
   "outputs": [],
   "source": [
    "system_sizes = range(5, 500, 15)\n",
    "\n",
    "\n",
    "def generate_data(filename, cur_sizes=None):\n",
    "    if os.path.exists(\"files/proper_results.csv\"):\n",
    "        if input(\"Do you want to overwrite files/proper_results.csv? (y/n)\") != \"y\":\n",
    "            return\n",
    "    global system_sizes\n",
    "    if cur_sizes is None:\n",
    "        cur_sizes = system_sizes\n",
    "    xes = []\n",
    "    for size in cur_sizes:\n",
    "        xes.append(get_x(size, np.float64))\n",
    "    return save_to_csv(filename, xes)\n",
    "\n",
    "\n",
    "#generate_data(\"proper_results\")"
   ],
   "metadata": {
    "collapsed": false
   }
  },
  {
   "cell_type": "code",
   "execution_count": null,
   "outputs": [],
   "source": [
    "def perform_experiments(x_start, rho):\n",
    "    global system_sizes\n",
    "    proper_results = read_from_csv(\"proper_results\", np.float64)\n",
    "    csv_header = [\"n\", \"kryt. rezydualne iteracje\", \"kryt. przyrostowe iteracje\", \"kryt. rezydualne czas\",\n",
    "                  \"kryt. przyrostowe czas\", \"kryt. rezydualne błąd\", \"kryt. przyrostowe błąd\"]\n",
    "    csv_file = [csv_header]\n",
    "\n",
    "\n",
    "    for proper_result in proper_results:\n",
    "        print(\"performing experiment for n = \" + str(len(proper_result)) + \"...\")\n",
    "        n = len(proper_result)\n",
    "        x_start_vec = np.full(n, x_start, dtype=np.float64)\n",
    "        jacobi_res = Jacobi(b=get_b(get_A(n), proper_result, n),\n",
    "                            ceil_limitation=10000,\n",
    "                            rho=rho,\n",
    "                            stop_criterium=\"res\",\n",
    "                            x_start=x_start_vec,\n",
    "                            proper_result=proper_result)\n",
    "        res_result, rex_error, res_iterations, res_time = jacobi_res.calculate()\n",
    "\n",
    "        jacobi_diff = Jacobi(b=get_b(get_A(n), proper_result, n),\n",
    "                             ceil_limitation=10000,\n",
    "                             rho=rho,\n",
    "                             stop_criterium=\"diff\",\n",
    "                             x_start=x_start_vec,\n",
    "                             proper_result=proper_result)\n",
    "        diff_result, diff_error, diff_iterations, diff_time = jacobi_diff.calculate()\n",
    "        csv_file.append([n, res_iterations, diff_iterations, res_time, diff_time, rex_error, diff_error])\n",
    "    return save_to_csv(f\"result_rho_{rho}_start_{x_start}\", csv_file)"
   ],
   "metadata": {
    "collapsed": false
   }
  },
  {
   "cell_type": "code",
   "execution_count": 160,
   "outputs": [
    {
     "name": "stdout",
     "output_type": "stream",
     "text": [
      "performing experiment for n = 5...\n",
      "performing experiment for n = 20...\n",
      "performing experiment for n = 35...\n",
      "performing experiment for n = 50...\n",
      "performing experiment for n = 65...\n",
      "performing experiment for n = 80...\n",
      "performing experiment for n = 95...\n",
      "performing experiment for n = 110...\n",
      "performing experiment for n = 125...\n",
      "performing experiment for n = 140...\n",
      "performing experiment for n = 155...\n",
      "performing experiment for n = 170...\n",
      "performing experiment for n = 185...\n",
      "performing experiment for n = 200...\n",
      "performing experiment for n = 215...\n",
      "performing experiment for n = 230...\n",
      "performing experiment for n = 245...\n",
      "performing experiment for n = 260...\n",
      "performing experiment for n = 275...\n",
      "performing experiment for n = 290...\n",
      "performing experiment for n = 305...\n",
      "performing experiment for n = 320...\n",
      "performing experiment for n = 335...\n",
      "performing experiment for n = 350...\n",
      "performing experiment for n = 365...\n",
      "performing experiment for n = 380...\n",
      "performing experiment for n = 395...\n",
      "performing experiment for n = 410...\n",
      "performing experiment for n = 425...\n",
      "performing experiment for n = 440...\n",
      "performing experiment for n = 455...\n",
      "performing experiment for n = 470...\n",
      "performing experiment for n = 485...\n",
      "Saving data to files/rho_0.001_start_0.csv\n",
      "Data saved to files/rho_0.001_start_0.csv\n"
     ]
    }
   ],
   "source": [
    "perform_experiments(0, np.float64(0.001))"
   ],
   "metadata": {
    "collapsed": false,
    "ExecuteTime": {
     "end_time": "2023-06-13T20:42:24.022340900Z",
     "start_time": "2023-06-13T20:41:14.872550Z"
    }
   }
  },
  {
   "cell_type": "code",
   "execution_count": 161,
   "outputs": [
    {
     "name": "stdout",
     "output_type": "stream",
     "text": [
      "performing experiment for n = 5...\n",
      "performing experiment for n = 20...\n",
      "performing experiment for n = 35...\n",
      "performing experiment for n = 50...\n",
      "performing experiment for n = 65...\n",
      "performing experiment for n = 80...\n",
      "performing experiment for n = 95...\n",
      "performing experiment for n = 110...\n",
      "performing experiment for n = 125...\n",
      "performing experiment for n = 140...\n",
      "performing experiment for n = 155...\n",
      "performing experiment for n = 170...\n",
      "performing experiment for n = 185...\n",
      "performing experiment for n = 200...\n",
      "performing experiment for n = 215...\n",
      "performing experiment for n = 230...\n",
      "performing experiment for n = 245...\n",
      "performing experiment for n = 260...\n",
      "performing experiment for n = 275...\n",
      "performing experiment for n = 290...\n",
      "performing experiment for n = 305...\n",
      "performing experiment for n = 320...\n",
      "performing experiment for n = 335...\n",
      "performing experiment for n = 350...\n",
      "performing experiment for n = 365...\n",
      "performing experiment for n = 380...\n",
      "performing experiment for n = 395...\n",
      "performing experiment for n = 410...\n",
      "performing experiment for n = 425...\n",
      "performing experiment for n = 440...\n",
      "performing experiment for n = 455...\n",
      "performing experiment for n = 470...\n",
      "performing experiment for n = 485...\n",
      "Saving data to files/rho_1e-06_start_0.csv\n",
      "Data saved to files/rho_1e-06_start_0.csv\n"
     ]
    }
   ],
   "source": [
    "perform_experiments(0, np.float64(0.000001))"
   ],
   "metadata": {
    "collapsed": false,
    "ExecuteTime": {
     "end_time": "2023-06-13T20:44:10.872540Z",
     "start_time": "2023-06-13T20:42:24.025155900Z"
    }
   }
  },
  {
   "cell_type": "code",
   "execution_count": 162,
   "outputs": [
    {
     "name": "stdout",
     "output_type": "stream",
     "text": [
      "performing experiment for n = 5...\n",
      "performing experiment for n = 20...\n",
      "performing experiment for n = 35...\n",
      "performing experiment for n = 50...\n",
      "performing experiment for n = 65...\n",
      "performing experiment for n = 80...\n",
      "performing experiment for n = 95...\n",
      "performing experiment for n = 110...\n",
      "performing experiment for n = 125...\n",
      "performing experiment for n = 140...\n",
      "performing experiment for n = 155...\n",
      "performing experiment for n = 170...\n",
      "performing experiment for n = 185...\n",
      "performing experiment for n = 200...\n",
      "performing experiment for n = 215...\n",
      "performing experiment for n = 230...\n",
      "performing experiment for n = 245...\n",
      "performing experiment for n = 260...\n",
      "performing experiment for n = 275...\n",
      "performing experiment for n = 290...\n",
      "performing experiment for n = 305...\n",
      "performing experiment for n = 320...\n",
      "performing experiment for n = 335...\n",
      "performing experiment for n = 350...\n",
      "performing experiment for n = 365...\n",
      "performing experiment for n = 380...\n",
      "performing experiment for n = 395...\n",
      "performing experiment for n = 410...\n",
      "performing experiment for n = 425...\n",
      "performing experiment for n = 440...\n",
      "performing experiment for n = 455...\n",
      "performing experiment for n = 470...\n",
      "performing experiment for n = 485...\n",
      "Saving data to files/rho_0.001_start_10.csv\n",
      "Data saved to files/rho_0.001_start_10.csv\n"
     ]
    }
   ],
   "source": [
    "perform_experiments(10, np.float64(0.001))"
   ],
   "metadata": {
    "collapsed": false,
    "ExecuteTime": {
     "end_time": "2023-06-13T20:45:22.626107900Z",
     "start_time": "2023-06-13T20:44:10.872540Z"
    }
   }
  },
  {
   "cell_type": "code",
   "execution_count": 163,
   "outputs": [
    {
     "name": "stdout",
     "output_type": "stream",
     "text": [
      "performing experiment for n = 5...\n",
      "performing experiment for n = 20...\n",
      "performing experiment for n = 35...\n",
      "performing experiment for n = 50...\n",
      "performing experiment for n = 65...\n",
      "performing experiment for n = 80...\n",
      "performing experiment for n = 95...\n",
      "performing experiment for n = 110...\n",
      "performing experiment for n = 125...\n",
      "performing experiment for n = 140...\n",
      "performing experiment for n = 155...\n",
      "performing experiment for n = 170...\n",
      "performing experiment for n = 185...\n",
      "performing experiment for n = 200...\n",
      "performing experiment for n = 215...\n",
      "performing experiment for n = 230...\n",
      "performing experiment for n = 245...\n",
      "performing experiment for n = 260...\n",
      "performing experiment for n = 275...\n",
      "performing experiment for n = 290...\n",
      "performing experiment for n = 305...\n",
      "performing experiment for n = 320...\n",
      "performing experiment for n = 335...\n",
      "performing experiment for n = 350...\n",
      "performing experiment for n = 365...\n",
      "performing experiment for n = 380...\n",
      "performing experiment for n = 395...\n",
      "performing experiment for n = 410...\n",
      "performing experiment for n = 425...\n",
      "performing experiment for n = 440...\n",
      "performing experiment for n = 455...\n",
      "performing experiment for n = 470...\n",
      "performing experiment for n = 485...\n",
      "Saving data to files/rho_1e-06_start_10.csv\n",
      "Data saved to files/rho_1e-06_start_10.csv\n"
     ]
    }
   ],
   "source": [
    "perform_experiments(10, np.float64(0.000001))"
   ],
   "metadata": {
    "collapsed": false,
    "ExecuteTime": {
     "end_time": "2023-06-13T20:47:12.612392900Z",
     "start_time": "2023-06-13T20:45:22.626185700Z"
    }
   }
  },
  {
   "cell_type": "code",
   "execution_count": 164,
   "outputs": [
    {
     "name": "stdout",
     "output_type": "stream",
     "text": [
      "performing experiment for n = 5...\n",
      "performing experiment for n = 20...\n",
      "performing experiment for n = 35...\n",
      "performing experiment for n = 50...\n",
      "performing experiment for n = 65...\n",
      "performing experiment for n = 80...\n",
      "performing experiment for n = 95...\n",
      "performing experiment for n = 110...\n",
      "performing experiment for n = 125...\n",
      "performing experiment for n = 140...\n",
      "performing experiment for n = 155...\n",
      "performing experiment for n = 170...\n",
      "performing experiment for n = 185...\n",
      "performing experiment for n = 200...\n",
      "performing experiment for n = 215...\n",
      "performing experiment for n = 230...\n",
      "performing experiment for n = 245...\n",
      "performing experiment for n = 260...\n",
      "performing experiment for n = 275...\n",
      "performing experiment for n = 290...\n",
      "performing experiment for n = 305...\n",
      "performing experiment for n = 320...\n",
      "performing experiment for n = 335...\n",
      "performing experiment for n = 350...\n",
      "performing experiment for n = 365...\n",
      "performing experiment for n = 380...\n",
      "performing experiment for n = 395...\n",
      "performing experiment for n = 410...\n",
      "performing experiment for n = 425...\n",
      "performing experiment for n = 440...\n",
      "performing experiment for n = 455...\n",
      "performing experiment for n = 470...\n",
      "performing experiment for n = 485...\n",
      "Saving data to files/rho_0.001_start_-10.csv\n",
      "Data saved to files/rho_0.001_start_-10.csv\n"
     ]
    }
   ],
   "source": [
    "perform_experiments(-10, np.float64(0.001))"
   ],
   "metadata": {
    "collapsed": false,
    "ExecuteTime": {
     "end_time": "2023-06-13T20:48:24.982035400Z",
     "start_time": "2023-06-13T20:47:12.613315100Z"
    }
   }
  },
  {
   "cell_type": "code",
   "execution_count": 165,
   "outputs": [
    {
     "name": "stdout",
     "output_type": "stream",
     "text": [
      "performing experiment for n = 5...\n",
      "performing experiment for n = 20...\n",
      "performing experiment for n = 35...\n",
      "performing experiment for n = 50...\n",
      "performing experiment for n = 65...\n",
      "performing experiment for n = 80...\n",
      "performing experiment for n = 95...\n",
      "performing experiment for n = 110...\n",
      "performing experiment for n = 125...\n",
      "performing experiment for n = 140...\n",
      "performing experiment for n = 155...\n",
      "performing experiment for n = 170...\n",
      "performing experiment for n = 185...\n",
      "performing experiment for n = 200...\n",
      "performing experiment for n = 215...\n",
      "performing experiment for n = 230...\n",
      "performing experiment for n = 245...\n",
      "performing experiment for n = 260...\n",
      "performing experiment for n = 275...\n",
      "performing experiment for n = 290...\n",
      "performing experiment for n = 305...\n",
      "performing experiment for n = 320...\n",
      "performing experiment for n = 335...\n",
      "performing experiment for n = 350...\n",
      "performing experiment for n = 365...\n",
      "performing experiment for n = 380...\n",
      "performing experiment for n = 395...\n",
      "performing experiment for n = 410...\n",
      "performing experiment for n = 425...\n",
      "performing experiment for n = 440...\n",
      "performing experiment for n = 455...\n",
      "performing experiment for n = 470...\n",
      "performing experiment for n = 485...\n",
      "Saving data to files/rho_1e-06_start_-10.csv\n",
      "Data saved to files/rho_1e-06_start_-10.csv\n"
     ]
    }
   ],
   "source": [
    "perform_experiments(-10, np.float64(0.000001))"
   ],
   "metadata": {
    "collapsed": false,
    "ExecuteTime": {
     "end_time": "2023-06-13T20:50:14.093988100Z",
     "start_time": "2023-06-13T20:48:24.983126200Z"
    }
   }
  },
  {
   "cell_type": "code",
   "execution_count": null,
   "outputs": [],
   "source": [
    "def spectral_radius(matrix):\n",
    "    eigenvalues = np.abs(np.linalg.eigvals(matrix))\n",
    "    return np.max(eigenvalues)\n",
    "\n",
    "\n",
    "'''for n in range(3, 150):\n",
    "    M = get_M(n)\n",
    "    print(f\"n = {n}, spectral radius = {spectral_radius(M)}\")'''  #%%\n",
    "\n",
    "\n",
    "def spectral_radius(matrix):\n",
    "    eigenvalues = np.abs(np.linalg.eigvals(matrix))\n",
    "    return np.max(eigenvalues)\n",
    "\n",
    "\n",
    "'''for n in range(3, 150):\n",
    "    M = get_M(n)\n",
    "    print(f\"n = {n}, spectral radius = {spectral_radius(M)}\")'''"
   ],
   "metadata": {
    "collapsed": false
   }
  },
  {
   "cell_type": "code",
   "execution_count": null,
   "outputs": [],
   "source": [
    "import numpy as np\n",
    "\n",
    "\n",
    "def generate_random_system(num_equations, num_variables):\n",
    "    A = np.random.rand(num_equations, num_variables)\n",
    "    b = np.random.rand(num_equations)\n",
    "    return A, b\n",
    "\n",
    "\n",
    "def test_jacobi_vs_np_solve(n):\n",
    "    for i in range(1000):\n",
    "        _, b = generate_random_system(n, n)\n",
    "        A = get_A(n)\n",
    "        np_solution = np.linalg.solve(A, b)\n",
    "        jacobi_solver = Jacobi(b=b, ceil_limitation=1000, rho=0.0000000001, stop_criterium=\"diff\",\n",
    "                               x_start=np.zeros(n), proper_result=np_solution)\n",
    "        jacobi_solution = jacobi_solver.calculate()[0]\n",
    "\n",
    "        if np.allclose(np_solution, jacobi_solution):\n",
    "            print(\"The solutions match!\")\n",
    "        else:\n",
    "            print(f\"The solutions do not match. np_solution = {np_solution}, jacobi_solution = {jacobi_solution}\")\n",
    "            return\n",
    "\n",
    "\n",
    "# Test the Jacobi class against np.linalg.solve\n",
    "test_jacobi_vs_np_solve(10)"
   ],
   "metadata": {
    "collapsed": false
   }
  }
 ],
 "metadata": {
  "colab": {
   "provenance": []
  },
  "kernelspec": {
   "display_name": "Python 3 (ipykernel)",
   "language": "python",
   "name": "python3"
  },
  "language_info": {
   "codemirror_mode": {
    "name": "ipython",
    "version": 3
   },
   "file_extension": ".py",
   "mimetype": "text/x-python",
   "name": "python",
   "nbconvert_exporter": "python",
   "pygments_lexer": "ipython3",
   "version": "3.10.9"
  }
 },
 "nbformat": 4,
 "nbformat_minor": 1
}
