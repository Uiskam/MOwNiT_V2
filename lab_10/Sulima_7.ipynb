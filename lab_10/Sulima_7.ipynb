{
 "cells": [
  {
   "cell_type": "code",
   "execution_count": 2,
   "metadata": {
    "id": "347Mub5mJ1m1",
    "ExecuteTime": {
     "end_time": "2023-06-13T17:38:10.148186200Z",
     "start_time": "2023-06-13T17:38:10.135181Z"
    }
   },
   "outputs": [],
   "source": [
    "import numpy as np\n",
    "import matplotlib.pyplot as plt\n",
    "from typing import List, Tuple\n",
    "import os"
   ]
  },
  {
   "cell_type": "code",
   "execution_count": 3,
   "outputs": [
    {
     "name": "stdout",
     "output_type": "stream",
     "text": [
      "Folder plots already exists.\n",
      "Folder errors already exists.\n"
     ]
    }
   ],
   "source": [
    "def create_folder_if_not_exists(folder_path):\n",
    "    if not os.path.exists(folder_path):\n",
    "        os.makedirs(folder_path)\n",
    "        print(f\"Folder {folder_path} created successfully.\")\n",
    "    else:\n",
    "        print(f\"Folder {folder_path} already exists.\")\n",
    "\n",
    "\n",
    "create_folder_if_not_exists(\"plots\")\n",
    "create_folder_if_not_exists(\"errors\")"
   ],
   "metadata": {
    "collapsed": false,
    "ExecuteTime": {
     "end_time": "2023-06-13T17:38:10.207022700Z",
     "start_time": "2023-06-13T17:38:10.154187200Z"
    }
   }
  },
  {
   "cell_type": "code",
   "execution_count": 4,
   "outputs": [],
   "source": [
    "import csv\n",
    "\n",
    "\n",
    "def save_to_csv(filename, data):\n",
    "    filename = \"errors/\" + filename + \".csv\"\n",
    "    with open(filename, 'w', newline='') as file:\n",
    "        writer = csv.writer(file)\n",
    "        writer.writerows(data)"
   ],
   "metadata": {
    "collapsed": false,
    "ExecuteTime": {
     "end_time": "2023-06-13T17:38:10.266035700Z",
     "start_time": "2023-06-13T17:38:10.167428300Z"
    }
   }
  },
  {
   "cell_type": "code",
   "execution_count": 24,
   "outputs": [],
   "source": [
    "def multiply_matrices(A,B):\n",
    "    result = np.zeros((len(A), len(B[0])), dtype=np.float64)\n",
    "    for i in range(len(A)):\n",
    "        for j in range(len(B[0])):\n",
    "            for k in range(len(B)):\n",
    "                result[i][j] += A[i][k] * B[k][j]\n",
    "    return result\n",
    "\n",
    "def residual_stop_criterium(A, x, b, rho):\n",
    "    def norm(vector):\n",
    "        max_value = -np.inf\n",
    "        for value in vector:\n",
    "            if np.abs(value) > max_value:\n",
    "                max_value = np.abs(value)\n",
    "        return max_value\n",
    "\n",
    "    return norm(multiply_matrices(A, x) - b) < rho\n",
    "\n",
    "\n",
    "def difference_stop_criterium(x, x_new, rho):\n",
    "    def norm(vector):\n",
    "        max_value = -np.inf\n",
    "        for value in vector:\n",
    "            if np.abs(value) > max_value:\n",
    "                max_value = np.abs(value)\n",
    "        return max_value\n",
    "\n",
    "    return norm(x - x_new) < rho"
   ],
   "metadata": {
    "collapsed": false,
    "ExecuteTime": {
     "end_time": "2023-06-13T18:09:44.298768800Z",
     "start_time": "2023-06-13T18:09:44.284766400Z"
    }
   }
  },
  {
   "cell_type": "code",
   "execution_count": null,
   "outputs": [],
   "source": [
    "def get_random_sign():\n",
    "    return np.random.choice([-1, 1])\n",
    "\n",
    "\n",
    "def get_x(n, variable_type):\n",
    "    x_ = np.zeros(n, dtype=variable_type)\n",
    "    for i in range(n):\n",
    "        x_[i] = variable_type(variable_type(get_random_sign()))\n",
    "    return x_\n",
    "\n",
    "\n",
    "def get_b(A, x, n, variable_type):\n",
    "    b = np.zeros(n, dtype=variable_type)\n",
    "    for i in range(n):\n",
    "        for j in range(n):\n",
    "            b[i] += A[i][j] * x[j]\n",
    "        print()\n",
    "    return b"
   ],
   "metadata": {
    "collapsed": false
   }
  },
  {
   "cell_type": "code",
   "execution_count": null,
   "outputs": [],
   "source": [
    "k = np.float64(6)\n",
    "m = np.float64(4)\n",
    "one = np.float64(1)\n",
    "\n",
    "\n",
    "def get_A(size):\n",
    "    global k, m, one\n",
    "    A = np.zeros((size, size), dtype=np.float64)\n",
    "    for i in range(size):\n",
    "        for j in range(size):\n",
    "            i_ = np.float64(i)\n",
    "            j_ = np.float64(j)\n",
    "\n",
    "            if i == j:\n",
    "                A[i][j] = k\n",
    "            elif j > i:\n",
    "                A[i][j] = (-one) ** (j_ + one) * m / (j_ + one)\n",
    "            elif j + 1 == i:\n",
    "                A[i][j] = m / (i_ + one)\n",
    "            else:\n",
    "                A[i][j] = np.float64(0)\n",
    "    return A\n",
    "\n",
    "\n",
    "def get_D(n):\n",
    "    global k, m, one\n",
    "    D = np.zeros((n, n), dtype=np.float64)\n",
    "    for i in range(n):\n",
    "        D[i][i] = k\n",
    "    return D\n",
    "\n",
    "\n",
    "def get_D_inverted(n):\n",
    "    global k, m, one\n",
    "    D = np.zeros((n, n), dtype=np.float64)\n",
    "    k_ = np.float64(k)\n",
    "    for i in range(n):\n",
    "        D[i][i] = one / k_\n",
    "    return D\n",
    "\n",
    "\n",
    "def get_negative_D_inverted(n):\n",
    "    global k, m, one\n",
    "    D = np.zeros((n, n), dtype=np.float64)\n",
    "    k_ = np.float64(k)\n",
    "    minus_one = np.float64(-1)\n",
    "    for i in range(n):\n",
    "        D[i][i] = minus_one / k_\n",
    "    return D\n",
    "\n",
    "\n",
    "def get_L(n):\n",
    "    global k, m, one\n",
    "    L = np.zeros((n, n), dtype=np.float64)\n",
    "    for i in range(n):\n",
    "        for j in range(n):\n",
    "            i_ = np.float64(i)\n",
    "            j_ = np.float64(j)\n",
    "            if i == j + 1:\n",
    "                L[i][j] = m / (i_ + one)\n",
    "    return L\n",
    "\n",
    "\n",
    "def get_U(n):\n",
    "    global k, m, one\n",
    "    U = np.zeros((n, n), dtype=np.float64)\n",
    "    for i in range(n):\n",
    "        for j in range(n):\n",
    "            i_ = np.float64(i)\n",
    "            j_ = np.float64(j)\n",
    "            if j > i:\n",
    "                U[i][j] = (-one) ** (j_ + one) * m / (j_ + one)\n",
    "    return U\n",
    "\n",
    "\n",
    "def get_M(n):\n",
    "    U = get_U(n)\n",
    "    L = get_L(n)\n",
    "    negative_D_inverted = get_negative_D_inverted(n)\n",
    "    M = np.dot(negative_D_inverted, L + U)\n",
    "    return M\n"
   ],
   "metadata": {
    "collapsed": false
   }
  },
  {
   "cell_type": "code",
   "execution_count": null,
   "outputs": [],
   "source": [
    "\n",
    "\n",
    "\n",
    "class Jacobi:\n",
    "    def __init__(self, stop_criterium, b, n, x_start, rho):\n",
    "        self.b = b\n",
    "        self.n = n\n",
    "        self.x = x_start\n",
    "        self.rho = rho\n",
    "        self.M = get_M(n)\n",
    "        self.N = get_D_inverted(n)\n",
    "        self.iterations = 0\n",
    "        self.stop_criterium = stop_criterium\n",
    "        self.errors = []\n",
    "        if stop_criterium == residual_stop_criterium:\n",
    "            self.stop_criterium_chosen = \"res\"\n",
    "        elif stop_criterium == difference_stop_criterium:\n",
    "            self.stop_criterium_chosen = \"diff\"\n",
    "        else:\n",
    "            raise Exception(\"Wrong stop criterium\")\n",
    "\n",
    "    def calculate(self):\n",
    "        next_x = np.zeros(self.n, dtype=np.float64)#%%\n",
    "import numpy as np\n",
    "import matplotlib.pyplot as plt\n",
    "from typing import List, Tuple\n",
    "import os"
   ],
   "metadata": {
    "collapsed": false
   }
  },
  {
   "cell_type": "code",
   "execution_count": null,
   "outputs": [],
   "source": [
    "def create_folder_if_not_exists(folder_path):\n",
    "    if not os.path.exists(folder_path):\n",
    "        os.makedirs(folder_path)\n",
    "        print(f\"Folder {folder_path} created successfully.\")\n",
    "    else:\n",
    "        print(f\"Folder {folder_path} already exists.\")\n",
    "\n",
    "\n",
    "create_folder_if_not_exists(\"plots\")\n",
    "create_folder_if_not_exists(\"errors\")"
   ],
   "metadata": {
    "collapsed": false
   }
  },
  {
   "cell_type": "code",
   "execution_count": null,
   "outputs": [],
   "source": [
    "import csv\n",
    "\n",
    "\n",
    "def save_to_csv(filename, data):\n",
    "    filename = \"errors/\" + filename + \".csv\"\n",
    "    with open(filename, 'w', newline='') as file:\n",
    "        writer = csv.writer(file)\n",
    "        writer.writerows(data)"
   ],
   "metadata": {
    "collapsed": false
   }
  },
  {
   "cell_type": "code",
   "execution_count": null,
   "outputs": [],
   "source": [
    "def residual_stop_criterium(A, x, b, rho):\n",
    "    def norm(vector):\n",
    "        max_value = -np.inf\n",
    "        for value in vector:\n",
    "            if np.abs(value) > max_value:\n",
    "                max_value = np.abs(value)\n",
    "        return max_value\n",
    "\n",
    "    def multiply(A, x):\n",
    "        result = np.zeros(len(A), dtype=np.float64)\n",
    "        for i in range(len(A)):\n",
    "            for j in range(len(A)):\n",
    "                result[i] += A[i][j] * x[j]\n",
    "        return result\n",
    "\n",
    "    return norm(multiply(A, x) - b) < rho\n",
    "\n",
    "\n",
    "def difference_stop_criterium(x, x_new, rho):\n",
    "    def norm(vector):\n",
    "        max_value = -np.inf\n",
    "        for value in vector:\n",
    "            if np.abs(value) > max_value:\n",
    "                max_value = np.abs(value)\n",
    "        return max_value\n",
    "\n",
    "    return norm(x - x_new) < rho"
   ],
   "metadata": {
    "collapsed": false
   }
  },
  {
   "cell_type": "code",
   "execution_count": null,
   "outputs": [],
   "source": [
    "def spectral_radius(matrix):\n",
    "    eigenvalues = np.abs(np.linalg.eigvals(matrix))\n",
    "    return np.max(eigenvalues)\n",
    "\n",
    "\n",
    "'''for n in range(3, 150):\n",
    "    M = get_M(n)\n",
    "    print(f\"n = {n}, spectral radius = {spectral_radius(M)}\")'''#%%\n",
    "def spectral_radius(matrix):\n",
    "    eigenvalues = np.abs(np.linalg.eigvals(matrix))\n",
    "    return np.max(eigenvalues)\n",
    "\n",
    "\n",
    "'''for n in range(3, 150):\n",
    "    M = get_M(n)\n",
    "    print(f\"n = {n}, spectral radius = {spectral_radius(M)}\")'''"
   ],
   "metadata": {
    "collapsed": false
   }
  }
 ],
 "metadata": {
  "colab": {
   "provenance": []
  },
  "kernelspec": {
   "display_name": "Python 3 (ipykernel)",
   "language": "python",
   "name": "python3"
  },
  "language_info": {
   "codemirror_mode": {
    "name": "ipython",
    "version": 3
   },
   "file_extension": ".py",
   "mimetype": "text/x-python",
   "name": "python",
   "nbconvert_exporter": "python",
   "pygments_lexer": "ipython3",
   "version": "3.10.9"
  }
 },
 "nbformat": 4,
 "nbformat_minor": 1
}
