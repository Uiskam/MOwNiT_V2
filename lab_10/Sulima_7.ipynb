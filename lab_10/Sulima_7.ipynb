{
 "cells": [
  {
   "cell_type": "code",
   "execution_count": 1,
   "metadata": {
    "id": "347Mub5mJ1m1",
    "ExecuteTime": {
     "end_time": "2023-05-23T22:11:20.652069400Z",
     "start_time": "2023-05-23T22:11:19.855183400Z"
    }
   },
   "outputs": [],
   "source": [
    "import numpy as np\n",
    "import matplotlib.pyplot as plt\n",
    "from typing import List, Tuple\n",
    "import os"
   ]
  },
  {
   "cell_type": "code",
   "execution_count": 2,
   "outputs": [
    {
     "name": "stdout",
     "output_type": "stream",
     "text": [
      "Folder plots already exists.\n",
      "Folder errors already exists.\n"
     ]
    }
   ],
   "source": [
    "def create_folder_if_not_exists(folder_path):\n",
    "    if not os.path.exists(folder_path):\n",
    "        os.makedirs(folder_path)\n",
    "        print(f\"Folder {folder_path} created successfully.\")\n",
    "    else:\n",
    "        print(f\"Folder {folder_path} already exists.\")\n",
    "\n",
    "\n",
    "create_folder_if_not_exists(\"plots\")\n",
    "create_folder_if_not_exists(\"errors\")"
   ],
   "metadata": {
    "collapsed": false,
    "ExecuteTime": {
     "end_time": "2023-05-23T22:11:20.670902300Z",
     "start_time": "2023-05-23T22:11:20.653068500Z"
    }
   }
  },
  {
   "cell_type": "code",
   "execution_count": 3,
   "outputs": [
    {
     "data": {
      "text/plain": "array([[1.        , 1.        , 1.        , 1.        , 1.        ],\n       [1.        , 1.        , 1.        , 1.        , 1.        ],\n       [0.33333333, 0.25      , 0.2       , 0.16666667, 0.14285714],\n       [0.25      , 0.2       , 0.16666667, 0.14285714, 0.125     ],\n       [0.2       , 0.16666667, 0.14285714, 0.125     , 0.11111111]])"
     },
     "execution_count": 3,
     "metadata": {},
     "output_type": "execute_result"
    }
   ],
   "source": [
    "def get_A1(n, variable_type):\n",
    "    A_ = np.zeros((n, n), dtype=variable_type)\n",
    "    N = np.zeros(n, dtype=variable_type)\n",
    "    for i in range(n):\n",
    "        tmp = variable_type(i)\n",
    "        N[i] = tmp\n",
    "    for i in N:\n",
    "        for j in N:\n",
    "            index_i = int(i)\n",
    "            index_j = int(j)\n",
    "            if i - variable_type(1) < 0.001:\n",
    "                A_[index_i][index_j] = variable_type(1)\n",
    "            else:\n",
    "                one = variable_type(1)\n",
    "                A_[index_i][index_j] = one / ((i + one) + (j + one) - one)\n",
    "    return A_\n",
    "\n",
    "\n",
    "get_A1(5, np.float64)\n"
   ],
   "metadata": {
    "collapsed": false,
    "ExecuteTime": {
     "end_time": "2023-05-23T22:11:20.768701100Z",
     "start_time": "2023-05-23T22:11:20.664862Z"
    }
   }
  },
  {
   "cell_type": "code",
   "execution_count": 4,
   "outputs": [
    {
     "data": {
      "text/plain": "array([[2.        , 1.        , 0.66666667, 0.5       , 0.4       ],\n       [1.        , 2.        , 1.33333333, 1.        , 0.8       ],\n       [0.66666667, 1.33333333, 2.        , 1.5       , 1.2       ],\n       [0.5       , 1.        , 1.5       , 2.        , 1.6       ],\n       [0.4       , 0.8       , 1.2       , 1.6       , 2.        ]])"
     },
     "execution_count": 4,
     "metadata": {},
     "output_type": "execute_result"
    }
   ],
   "source": [
    "def get_A2(n, variable_type):\n",
    "    A_ = np.zeros((n, n), dtype=variable_type)\n",
    "    N = np.zeros(n, dtype=variable_type)\n",
    "    one = variable_type(1)\n",
    "    two = variable_type(2)\n",
    "    for i in range(n):\n",
    "        tmp = variable_type(i)\n",
    "        N[i] = tmp\n",
    "    for i in N:\n",
    "        for j in N:\n",
    "            index_i = int(i)\n",
    "            index_j = int(j)\n",
    "            if j >= i:\n",
    "                A_[index_i][index_j] = (two * (i + one)) / (j + one)\n",
    "            else:\n",
    "                A_[index_i][index_j] = (two * (j + one)) / (i + one)\n",
    "    return A_\n",
    "get_A2(5, np.float64)"
   ],
   "metadata": {
    "collapsed": false,
    "ExecuteTime": {
     "end_time": "2023-05-23T22:11:20.770703500Z",
     "start_time": "2023-05-23T22:11:20.684900200Z"
    }
   }
  },
  {
   "cell_type": "code",
   "execution_count": 5,
   "outputs": [],
   "source": [
    "def get_random_sign():\n",
    "    return np.random.choice([-1, 1])\n",
    "\n",
    "\n",
    "def get_x(n, variable_type):\n",
    "    x_ = np.zeros(n, dtype=variable_type)\n",
    "    for i in range(n):\n",
    "        x_[i] = variable_type(variable_type(get_random_sign()))\n",
    "    return x_"
   ],
   "metadata": {
    "collapsed": false,
    "ExecuteTime": {
     "end_time": "2023-05-23T22:11:20.771704Z",
     "start_time": "2023-05-23T22:11:20.697503900Z"
    }
   }
  },
  {
   "cell_type": "code",
   "execution_count": 6,
   "outputs": [],
   "source": [
    "import csv\n",
    "\n",
    "\n",
    "def save_to_csv(filename, data):\n",
    "    filename = \"errors/\" + filename + \".csv\"\n",
    "    with open(filename, 'w', newline='') as file:\n",
    "        writer = csv.writer(file)\n",
    "        writer.writerows(data)"
   ],
   "metadata": {
    "collapsed": false,
    "ExecuteTime": {
     "end_time": "2023-05-23T22:11:20.788712600Z",
     "start_time": "2023-05-23T22:11:20.711865800Z"
    }
   }
  },
  {
   "cell_type": "code",
   "execution_count": 7,
   "outputs": [],
   "source": [
    "def get_b(A, x, n, variable_type):\n",
    "    b = np.zeros(n, dtype=variable_type)\n",
    "    for i in range(n):\n",
    "        for j in range(n):\n",
    "            b[i] += A[i][j] * x[j]\n",
    "        print()\n",
    "    return b"
   ],
   "metadata": {
    "collapsed": false,
    "ExecuteTime": {
     "end_time": "2023-05-23T22:11:20.789781900Z",
     "start_time": "2023-05-23T22:11:20.728755700Z"
    }
   }
  },
  {
   "cell_type": "code",
   "execution_count": 8,
   "outputs": [],
   "source": [
    "#write a function which is given a matrix A and a vector b and returns the solution vector x\n",
    "def gauss(A, b, variable_type):\n",
    "    n = len(A)\n",
    "    x = np.zeros(n, dtype=variable_type)\n",
    "    for i in range(n):\n",
    "        for j in range(i + 1, n):\n",
    "            if A[i][i] == variable_type(0):\n",
    "                print(\"Division by 0\")\n",
    "                return\n",
    "            m = A[j][i] / A[i][i]\n",
    "            for k in range(i, n):\n",
    "                A[j][k] -= m * A[i][k]\n",
    "            b[j] -= m * b[i]\n",
    "    print(A)\n",
    "    print(b)\n",
    "    for i in range(n - 1, -1, -1):\n",
    "        if A[i][i] == variable_type(0):\n",
    "            print(\"Division by 0\")\n",
    "            return\n",
    "        x[i] = b[i] / A[i][i]\n",
    "        for j in range(i - 1, -1, -1):\n",
    "            b[j] -= A[j][i] * x[i]\n",
    "    #print(b)\n",
    "    return x"
   ],
   "metadata": {
    "collapsed": false,
    "ExecuteTime": {
     "end_time": "2023-05-23T22:11:20.789781900Z",
     "start_time": "2023-05-23T22:11:20.746760100Z"
    }
   }
  },
  {
   "cell_type": "code",
   "execution_count": 9,
   "outputs": [],
   "source": [
    "def thomas(A, b, variable_type):\n",
    "    n = len(A)\n",
    "    x = np.zeros(n, dtype=variable_type)\n",
    "    betas = np.zeros(n, dtype=variable_type)\n",
    "    betas[0] = - A[0][1] / A[0][0]\n",
    "    gammas = np.zeros(n, dtype=variable_type)\n",
    "    gammas[0] = b[0] / A[0][0]\n",
    "    for i in range(1, n):\n",
    "        if i == n - 1:\n",
    "            betas[i] = 0\n",
    "        else:\n",
    "            betas[i] = - A[i][i + 1] / (A[i][i] + A[i][i - 1] * betas[i - 1])\n",
    "        gammas[i] = (b[i] - A[i][i - 1] * gammas[i - 1]) / (A[i][i] + A[i][i - 1] * betas[i - 1])\n",
    "    x[-1] = gammas[-1]\n",
    "    for i in range(n - 2, -1, -1):\n",
    "        x[i] = betas[i] * x[i + 1] + gammas[i]\n",
    "    return x"
   ],
   "metadata": {
    "collapsed": false,
    "ExecuteTime": {
     "end_time": "2023-05-23T22:11:21.318109500Z",
     "start_time": "2023-05-23T22:11:21.256587200Z"
    }
   }
  },
  {
   "cell_type": "markdown",
   "source": [
    "**Wykonanie*"
   ],
   "metadata": {
    "collapsed": false
   }
  },
  {
   "cell_type": "code",
   "execution_count": 14,
   "outputs": [],
   "source": [
    "#write function generating random band matrix\n",
    "def get_band_matrix(n, variable_type):\n",
    "    A = np.zeros((n, n), dtype=variable_type)\n",
    "    for i in range(n):\n",
    "        for j in range(n):\n",
    "            if i == j:\n",
    "                A[i][j] = variable_type(get_random_sign())\n",
    "            elif i == j + 1 or i == j - 1:\n",
    "                A[i][j] = variable_type(get_random_sign())\n",
    "    return A\n",
    "\n",
    "#wirte a function which returns vector b of size n of random elements of type variable_type\n",
    "def get_random_b(n, variable_type):\n",
    "    b = np.zeros(n, dtype=variable_type)\n",
    "    for i in range(n):\n",
    "        b[i] = variable_type(get_random_sign())\n",
    "    return b\n",
    "\n",
    "\n",
    "#write a funciont which test correctness of thomas algorithm by comparing it with np.linalg.solve\n",
    "def test_thomas(n, variable_type):\n",
    "    A = get_band_matrix(n, variable_type)\n",
    "    b = get_random_b(n, variable_type)\n",
    "    x = thomas(A, b, variable_type)\n",
    "    x_np = np.linalg.solve(A, b)\n",
    "    print(x)\n",
    "    print(x_np)\n",
    "    print(np.allclose(x, x_np))\n",
    "    return np.allclose(x, x_np)"
   ],
   "metadata": {
    "collapsed": false,
    "ExecuteTime": {
     "end_time": "2023-05-22T20:21:45.641128500Z",
     "start_time": "2023-05-22T20:21:45.634621700Z"
    }
   }
  },
  {
   "cell_type": "code",
   "execution_count": 49,
   "outputs": [
    {
     "name": "stdout",
     "output_type": "stream",
     "text": [
      "[-9.71906220e-01 -1.97190622e+00 -3.94381244e+00  2.97190622e+00\n",
      " -2.80937805e-02  1.94381244e+00  9.71906220e-01  1.91571866e+00\n",
      " -3.88762488e+00 -6.80334354e+00 -1.91571866e+00  5.88762488e+00\n",
      "  2.97190622e+00 -7.85953110e+00  3.88762488e+00 -4.97190622e+00\n",
      "  2.08428134e+00  1.88762488e+00  1.19665646e+00  3.09031585e-01\n",
      " -1.88762488e+00  2.57859329e+00  3.46621817e+00  7.04481146e+00\n",
      "  4.57859329e+00  1.06234048e+01  5.04481146e+00  4.57859329e+00\n",
      "  1.46621817e+00 -2.11237512e+00 -1.64615695e+00 -5.33781829e-01\n",
      "  1.17993878e+00 -7.13720608e-01  1.46621817e+00  2.47502437e-01\n",
      " -2.18715734e-01 -1.46621817e+00  2.47502437e-01  2.18715734e-01\n",
      "  9.71213298e-01  1.89929032e-01  2.16114233e+00 -1.35107136e+00\n",
      "  1.89929032e-01  5.41000394e-01  2.69070574e-01  1.27192982e+00\n",
      "  2.85924578e-03 -2.74789066e-01 -7.22351689e-01 -5.52437377e-01\n",
      "  1.16991431e+00  7.22351689e-01  8.92266000e-01  8.30085688e-01\n",
      "  1.06218031e+00  7.67905377e-01 -7.05725065e-01 -4.73630441e-01\n",
      " -1.79355506e-01 -1.65298595e+00  4.73630441e-01  1.12661639e+00\n",
      " -6.00246829e-01 -4.73630441e-01 -2.07387727e+00 -3.54750771e+00\n",
      "  4.73630441e-01 -3.02113815e+00 -1.54750771e+00 -4.73630441e-01\n",
      "  2.07387727e+00 -6.00246829e-01 -1.67412410e+00  1.27437093e+00\n",
      "  1.39975317e+00 -1.12538224e+00 -7.25629071e-01  8.51011313e-01\n",
      " -8.74617758e-01  7.25629071e-01 -1.14898869e+00  1.42335962e+00\n",
      "  1.57234830e+00 -1.99570792e+00 -2.56805622e+00  1.57234830e+00\n",
      " -4.29208095e-03  5.68056222e-01 -4.27651697e-01 -1.14040453e+00\n",
      "  2.87247172e-01  1.46842647e-01 -8.59595475e-01 -2.87247172e-01\n",
      "  4.27651697e-01 -2.85101131e-01 -1.14255057e+00 -1.42550566e-01]\n",
      "[-9.71906220e-01 -1.97190622e+00 -3.94381244e+00  2.97190622e+00\n",
      " -2.80937805e-02  1.94381244e+00  9.71906220e-01  1.91571866e+00\n",
      " -3.88762488e+00 -6.80334354e+00 -1.91571866e+00  5.88762488e+00\n",
      "  2.97190622e+00 -7.85953110e+00  3.88762488e+00 -4.97190622e+00\n",
      "  2.08428134e+00  1.88762488e+00  1.19665646e+00  3.09031585e-01\n",
      " -1.88762488e+00  2.57859329e+00  3.46621817e+00  7.04481146e+00\n",
      "  4.57859329e+00  1.06234048e+01  5.04481146e+00  4.57859329e+00\n",
      "  1.46621817e+00 -2.11237512e+00 -1.64615695e+00 -5.33781829e-01\n",
      "  1.17993878e+00 -7.13720608e-01  1.46621817e+00  2.47502437e-01\n",
      " -2.18715734e-01 -1.46621817e+00  2.47502437e-01  2.18715734e-01\n",
      "  9.71213298e-01  1.89929032e-01  2.16114233e+00 -1.35107136e+00\n",
      "  1.89929032e-01  5.41000394e-01  2.69070574e-01  1.27192982e+00\n",
      "  2.85924578e-03 -2.74789066e-01 -7.22351689e-01 -5.52437377e-01\n",
      "  1.16991431e+00  7.22351689e-01  8.92266000e-01  8.30085688e-01\n",
      "  1.06218031e+00  7.67905377e-01 -7.05725065e-01 -4.73630441e-01\n",
      " -1.79355506e-01 -1.65298595e+00  4.73630441e-01  1.12661639e+00\n",
      " -6.00246829e-01 -4.73630441e-01 -2.07387727e+00 -3.54750771e+00\n",
      "  4.73630441e-01 -3.02113815e+00 -1.54750771e+00 -4.73630441e-01\n",
      "  2.07387727e+00 -6.00246829e-01 -1.67412410e+00  1.27437093e+00\n",
      "  1.39975317e+00 -1.12538224e+00 -7.25629071e-01  8.51011313e-01\n",
      " -8.74617758e-01  7.25629071e-01 -1.14898869e+00  1.42335962e+00\n",
      "  1.57234830e+00 -1.99570792e+00 -2.56805622e+00  1.57234830e+00\n",
      " -4.29208095e-03  5.68056222e-01 -4.27651697e-01 -1.14040453e+00\n",
      "  2.87247172e-01  1.46842647e-01 -8.59595475e-01 -2.87247172e-01\n",
      "  4.27651697e-01 -2.85101131e-01 -1.14255057e+00 -1.42550566e-01]\n",
      "True\n"
     ]
    },
    {
     "data": {
      "text/plain": "True"
     },
     "execution_count": 49,
     "metadata": {},
     "output_type": "execute_result"
    }
   ],
   "source": [],
   "metadata": {
    "collapsed": false,
    "ExecuteTime": {
     "end_time": "2023-05-22T20:22:34.675116500Z",
     "start_time": "2023-05-22T20:22:34.636626400Z"
    }
   }
  }
 ],
 "metadata": {
  "colab": {
   "provenance": []
  },
  "kernelspec": {
   "display_name": "Python 3 (ipykernel)",
   "language": "python",
   "name": "python3"
  },
  "language_info": {
   "codemirror_mode": {
    "name": "ipython",
    "version": 3
   },
   "file_extension": ".py",
   "mimetype": "text/x-python",
   "name": "python",
   "nbconvert_exporter": "python",
   "pygments_lexer": "ipython3",
   "version": "3.10.9"
  }
 },
 "nbformat": 4,
 "nbformat_minor": 1
}
